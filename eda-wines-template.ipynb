{
 "cells": [
  {
   "cell_type": "markdown",
   "source": "# Proyecto: Análisis Exploratorio de Datos - calidad de vinos",
   "metadata": {
    "cell_id": "c761e360edd24745a631ee7f55b818af",
    "tags": [],
    "deepnote_cell_type": "markdown",
    "deepnote_cell_height": 134
   }
  },
  {
   "cell_type": "markdown",
   "source": "<img src=/work/edawine.png>\n\nEsta notebook es parte de un Proyecto de la [Escuela de Data Science e Inteligencia Artificial de Platzi](https://platzi.com/datos).\n\nTodos los detalles [aquí](https://platzi.com/blog/ejercicio-eda-wine).",
   "metadata": {
    "cell_id": "efe3cd0c80c64b0dacad082cfb09b86f",
    "tags": [],
    "owner_user_id": "1ae6166b-14eb-4bce-a097-79efdbfdcb60",
    "deepnote_cell_type": "markdown",
    "deepnote_cell_height": 151.1875
   }
  },
  {
   "cell_type": "markdown",
   "source": "## Instrucciones generales\n\na) Sigue el paso a paso de cada sección. Para ello tendrás que leer indicaciones para saber qué hacer en cada etapa del EDA.\n\nb) Completa el código en las celdas correspondientes para realizar tu análisis exploratorio de datos (EDA). Por ejemplo, encontrarás código incompleto marcado con guiones bajos (____):\n",
   "metadata": {
    "cell_id": "35af0a5932444e44aa11d533552cec08",
    "tags": [],
    "deepnote_cell_type": "markdown",
    "deepnote_cell_height": 189.59375
   }
  },
  {
   "cell_type": "code",
   "metadata": {
    "cell_id": "eae6571343974fff88b9fa394e58c42b",
    "tags": [],
    "deepnote_to_be_reexecuted": false,
    "source_hash": "e2033b31",
    "execution_start": 1653816810999,
    "execution_millis": 9,
    "deepnote_cell_type": "code",
    "deepnote_cell_height": 130
   },
   "source": "school = 'Platzi'\nprint(school) # Incluir la variable declarada anteriormente.",
   "execution_count": 1,
   "outputs": [
    {
     "name": "stdout",
     "text": "Platzi\n",
     "output_type": "stream"
    }
   ]
  },
  {
   "cell_type": "markdown",
   "source": "c) Escribe el código que veas conveniente para desarrollar lo que se pida en el EDA. Encontrarás secciones sin ninguna guía de código para que con tu creatividad uses las herramientas que veas necesarias.\n\nd) No te límites. Agrega bloques de código y de Markdown cuando lo necesites.\n\ne) Al final de cada sección encontrarás clases específicas de cursos de Platzi. Recuerda que en esos cursos es donde puedes aprender cómo resolver el proyecto. Puedes consultar las clases de manera directa para resolver tus dudas al momento.\n\nf) También recuerda que puedes tomar todos esos cursos antes o utilizarlos como fuente de consulta:\n\n- [Curso Básico de Python](https://platzi.com/cursos/python/)\n- [Curso de Entorno de Trabajo para Ciencia de Datos con Jupyter Notebooks y Anaconda](https://platzi.com/cursos/jupyter-notebook/)\n- [Curso de Python Intermedio: Comprehensions, Lambdas y Manejo de Errores](https://platzi.com/cursos/python-intermedio/)\n- [Curso de Principios de Visualización de Datos para Business Intelligence](https://platzi.com/cursos/visualizacion-datos/)\n- [Curso Básico de Manipulación y Transformación de Datos con Pandas y NumPy](https://platzi.com/cursos/pandas-numpy/)\n- [Curso Básico de Visualización de Datos con Matplotlib y Seaborn](https://platzi.com/cursos/matplotlib-seaborn/)\n- [Curso de Funciones Matemáticas para Data Science e Inteligencia Artificial](https://platzi.com/cursos/funciones-matematicas/)\n- [Curso de Matemáticas para Data Science: Estadística Descriptiva](https://platzi.com/cursos/estadistica-descriptiva/)\n- [Curso de Análisis Exploratorio de Datos](https://platzi.com/cursos/analisis-exploratorio-datos/)\n",
   "metadata": {
    "cell_id": "939f1a1f10f24939810725458d8322c1",
    "tags": [],
    "deepnote_cell_type": "markdown",
    "deepnote_cell_height": 527.1875
   }
  },
  {
   "cell_type": "markdown",
   "source": "## Conoce los datos - Vinho Verde\n\n1. Lee esta información para tener contexto de los datos que se usarán:\n\nUtilizaremos dos datasets enfocados en la calidad de vinos. Ambos se relacionan a las variantes de vino blanco y vino rojo del vino portugués \"Vinho Verde\".\n\n<img src=/work/Large186.jpg>\n\nLa fuente de estos datasets son del Machine Learning Repository de UCI. Puedes conocer más de ellos [aquí](https://archive.ics.uci.edu/ml/datasets/wine+quality).\n\nInput variables (based on physicochemical tests):\n1. fixed acidity / acidez fija\nLa mayoría de los ácidos involucrados con el vino o fijos o no volátiles (no se evaporan fácilmente).\n\n2. volatile acidity / acidez volátil\nLa cantidad de ácido acético en el vino, que en niveles demasiado altos puede provocar un sabor desagradable a vinagre.\n\n3. citric acid / ácido cítrico\nEncontrado en pequeñas cantidades el ácido cítrico puede agregar 'frescura' y sabor a los vinos.\n\n4. residual sugar / azúcar residual\nLa cantidad de azúcar que queda después de que se detiene la fermentación. Es raro encontrar vinos con menos de 1 gramo/litro y vinos con más de 45 gramos/litro se consideran dulces.\n\n5. chlorides / cloruros\nLa cantidad de sal en el vino.\n\n6. free sulfur dioxide / dióxido de azufre libre\nLa forma libre de SO2 existe en equilibrio entre el SO2 molecular (como gas disuelto) y el ion bisulfito; previene el crecimiento microbiano y la oxidación del vino.\n\n7. total sulfur dioxide / dióxido de azufre total\nCantidad de formas libres y ligadas de S02; en bajas concentraciones, el SO2 es mayormente indetectable en el vino, pero en concentraciones de SO2 libres superiores a 50 ppm, el SO2 se vuelve evidente en la nariz y el sabor del vino.\n\n8. density / densidad\nLa densidad del agua es cercana a la del agua dependiendo del porcentaje de alcohol y azúcar contenido.\n\n9. pH / pH\nDescribe qué tan ácido o básico es un vino en una escala de 0 (muy ácido) a 14 (muy básico); la mayoría de los vinos están entre 3 y 4 en la escala de pH\n\n10. sulphates / sulfatos\nUn aditivo del vino que puede contribuir a los niveles de dióxido de azufre (S02), que actúa como antimicrobiano y antioxidante\n\n11. alcohol / alcohol\nEl porcentaje de contenido de alcohol del vino\n\nOutput variable (based on sensory data):\n\n12. quality / calidad\nVariable de salida o target (basada en datos sensoriales, puntuación entre 0 y 10). Indica qué tan bueno es el vino en este estándar de calidad.",
   "metadata": {
    "cell_id": "8a87bc0dc02e484dac23698635e08356",
    "tags": [],
    "deepnote_cell_type": "markdown",
    "deepnote_cell_height": 1444.796875
   }
  },
  {
   "cell_type": "markdown",
   "source": "## Importar librerías\n\n1. Ejecuta la siguiente celda para importar librerías.\n\nEstas son las librerías de Python esenciales para ejecutar tu EDA. Mientras desarrolles el proyecto puedes agregar las que veas conveninente. \n\nPuedes usar cualquiera que conozcas del lenguaje Python.",
   "metadata": {
    "cell_id": "8f7b790f49644d71bcd94239c27a1fb7",
    "tags": [],
    "deepnote_cell_type": "markdown",
    "deepnote_cell_height": 203.59375
   }
  },
  {
   "cell_type": "code",
   "metadata": {
    "tags": [],
    "cell_id": "592e1778-8d21-4cf8-b657-7976236f5474",
    "deepnote_to_be_reexecuted": false,
    "source_hash": "b6923e24",
    "execution_start": 1653816811000,
    "execution_millis": 3538,
    "deepnote_cell_type": "code",
    "deepnote_cell_height": 171
   },
   "source": "import pandas as pd\nimport numpy as np\nimport matplotlib.pyplot as plt\nimport seaborn as sns\nimport requests\n# agrega librerías que necesites",
   "execution_count": 2,
   "outputs": []
  },
  {
   "cell_type": "markdown",
   "source": "### *Clases sugeridas*:\n\n- [Google Colab: primeros pasos](https://platzi.com/clases/2434-jupyter-notebook/40386-google-colab-primeros-pasos/?utm_source=contenido&utm_medium=organic&utm_campaign=ejercicio-eda)\n\n- [Google Colab: ciencia de datos](https://platzi.com/clases/2434-jupyter-notebook/40387-google-colab-ciencia-de-datos/?utm_source=contenido&utm_medium=organic&utm_campaign=ejercicio-eda)\n\n- [Utiliza Deepnote](https://platzi.com/clases/2434-jupyter-notebook/40388-utilizar-deepnote/?utm_source=contenido&utm_medium=organic&utm_campaign=ejercicio-eda)",
   "metadata": {
    "cell_id": "a7bb7dc5c46641329547c3c04ede6ed2",
    "tags": [],
    "deepnote_cell_type": "markdown",
    "deepnote_cell_height": 165.1875
   }
  },
  {
   "cell_type": "markdown",
   "source": "## Carga de datos\n\n1. Carga los datasets directo de sus URL como se muestran en la siguiente celda.\n\nNota: alternativamente podríamos cargar los datos con los archivos csv, pero con las URL los podemos tener de forma más directa desde la fuente.",
   "metadata": {
    "cell_id": "c4f0cfaff6f94ab29261066b89090b32",
    "tags": [],
    "deepnote_cell_type": "markdown",
    "deepnote_cell_height": 167.1875
   }
  },
  {
   "cell_type": "code",
   "metadata": {
    "cell_id": "c256a670082f47c2b646e7bbe383c772",
    "tags": [],
    "deepnote_to_be_reexecuted": false,
    "source_hash": "8b595c46",
    "execution_start": 1653816814553,
    "execution_millis": 14,
    "deepnote_cell_type": "code",
    "deepnote_cell_height": 99
   },
   "source": "url_wine_red = 'https://archive.ics.uci.edu/ml/machine-learning-databases/wine-quality/winequality-red.csv'\nurl_wine_white = 'https://archive.ics.uci.edu/ml/machine-learning-databases/wine-quality/winequality-white.csv'",
   "execution_count": 3,
   "outputs": []
  },
  {
   "cell_type": "markdown",
   "source": "2. Utiliza Pandas para crear tus DataFrames utilizando las dos variables que creaste para cargar los datos. \n\nToma en cuenta que el delimiter de los archivos csv es `;`",
   "metadata": {
    "cell_id": "c97f986f765546aba07a92689457585d",
    "tags": [],
    "deepnote_cell_type": "markdown",
    "deepnote_cell_height": 114.1875
   }
  },
  {
   "cell_type": "code",
   "metadata": {
    "cell_id": "f9445d0b607849308733358bde7ceccc",
    "tags": [],
    "deepnote_to_be_reexecuted": false,
    "source_hash": "4dd55fc3",
    "execution_start": 1653816814611,
    "execution_millis": 1284,
    "deepnote_cell_type": "code",
    "deepnote_cell_height": 99
   },
   "source": "red = pd.read_csv(url_wine_red, delimiter=\";\")\nwhite = pd.read_csv(url_wine_white, delimiter=\";\")",
   "execution_count": 4,
   "outputs": []
  },
  {
   "cell_type": "markdown",
   "source": "3. Carga las primeras 5 filas de ambos DataFrames.",
   "metadata": {
    "cell_id": "b7d71d4e8a7d4ff3ac6080509e68756b",
    "tags": [],
    "deepnote_cell_type": "markdown",
    "deepnote_cell_height": 69.390625
   }
  },
  {
   "cell_type": "code",
   "metadata": {
    "cell_id": "3c10be88dd064000875addb897a83065",
    "tags": [],
    "deepnote_to_be_reexecuted": false,
    "source_hash": "9191c84f",
    "execution_start": 1653816815937,
    "execution_millis": 360,
    "deepnote_cell_type": "code",
    "deepnote_cell_height": 408.59375
   },
   "source": "red.head()",
   "execution_count": 5,
   "outputs": [
    {
     "output_type": "execute_result",
     "execution_count": 5,
     "data": {
      "application/vnd.deepnote.dataframe.v3+json": {
       "column_count": 12,
       "row_count": 5,
       "columns": [
        {
         "name": "fixed acidity",
         "dtype": "float64",
         "stats": {
          "unique_count": 3,
          "nan_count": 0,
          "min": "7.4",
          "max": "11.2",
          "histogram": [
           {
            "bin_start": 7.4,
            "bin_end": 7.78,
            "count": 2
           },
           {
            "bin_start": 7.78,
            "bin_end": 8.16,
            "count": 2
           },
           {
            "bin_start": 8.16,
            "bin_end": 8.54,
            "count": 0
           },
           {
            "bin_start": 8.54,
            "bin_end": 8.92,
            "count": 0
           },
           {
            "bin_start": 8.92,
            "bin_end": 9.3,
            "count": 0
           },
           {
            "bin_start": 9.3,
            "bin_end": 9.68,
            "count": 0
           },
           {
            "bin_start": 9.68,
            "bin_end": 10.059999999999999,
            "count": 0
           },
           {
            "bin_start": 10.059999999999999,
            "bin_end": 10.44,
            "count": 0
           },
           {
            "bin_start": 10.44,
            "bin_end": 10.82,
            "count": 0
           },
           {
            "bin_start": 10.82,
            "bin_end": 11.2,
            "count": 1
           }
          ]
         }
        },
        {
         "name": "volatile acidity",
         "dtype": "float64",
         "stats": {
          "unique_count": 4,
          "nan_count": 0,
          "min": "0.28",
          "max": "0.88",
          "histogram": [
           {
            "bin_start": 0.28,
            "bin_end": 0.34,
            "count": 1
           },
           {
            "bin_start": 0.34,
            "bin_end": 0.4,
            "count": 0
           },
           {
            "bin_start": 0.4,
            "bin_end": 0.46,
            "count": 0
           },
           {
            "bin_start": 0.46,
            "bin_end": 0.52,
            "count": 0
           },
           {
            "bin_start": 0.52,
            "bin_end": 0.5800000000000001,
            "count": 0
           },
           {
            "bin_start": 0.5800000000000001,
            "bin_end": 0.64,
            "count": 0
           },
           {
            "bin_start": 0.64,
            "bin_end": 0.7,
            "count": 0
           },
           {
            "bin_start": 0.7,
            "bin_end": 0.76,
            "count": 2
           },
           {
            "bin_start": 0.76,
            "bin_end": 0.8200000000000001,
            "count": 1
           },
           {
            "bin_start": 0.8200000000000001,
            "bin_end": 0.88,
            "count": 1
           }
          ]
         }
        },
        {
         "name": "citric acid",
         "dtype": "float64",
         "stats": {
          "unique_count": 3,
          "nan_count": 0,
          "min": "0.0",
          "max": "0.56",
          "histogram": [
           {
            "bin_start": 0,
            "bin_end": 0.05600000000000001,
            "count": 4
           },
           {
            "bin_start": 0.05600000000000001,
            "bin_end": 0.11200000000000002,
            "count": 0
           },
           {
            "bin_start": 0.11200000000000002,
            "bin_end": 0.16800000000000004,
            "count": 0
           },
           {
            "bin_start": 0.16800000000000004,
            "bin_end": 0.22400000000000003,
            "count": 0
           },
           {
            "bin_start": 0.22400000000000003,
            "bin_end": 0.28,
            "count": 0
           },
           {
            "bin_start": 0.28,
            "bin_end": 0.3360000000000001,
            "count": 0
           },
           {
            "bin_start": 0.3360000000000001,
            "bin_end": 0.39200000000000007,
            "count": 0
           },
           {
            "bin_start": 0.39200000000000007,
            "bin_end": 0.44800000000000006,
            "count": 0
           },
           {
            "bin_start": 0.44800000000000006,
            "bin_end": 0.5040000000000001,
            "count": 0
           },
           {
            "bin_start": 0.5040000000000001,
            "bin_end": 0.56,
            "count": 1
           }
          ]
         }
        },
        {
         "name": "residual sugar",
         "dtype": "float64",
         "stats": {
          "unique_count": 3,
          "nan_count": 0,
          "min": "1.9",
          "max": "2.6",
          "histogram": [
           {
            "bin_start": 1.9,
            "bin_end": 1.97,
            "count": 3
           },
           {
            "bin_start": 1.97,
            "bin_end": 2.04,
            "count": 0
           },
           {
            "bin_start": 2.04,
            "bin_end": 2.11,
            "count": 0
           },
           {
            "bin_start": 2.11,
            "bin_end": 2.18,
            "count": 0
           },
           {
            "bin_start": 2.18,
            "bin_end": 2.25,
            "count": 0
           },
           {
            "bin_start": 2.25,
            "bin_end": 2.3200000000000003,
            "count": 1
           },
           {
            "bin_start": 2.3200000000000003,
            "bin_end": 2.39,
            "count": 0
           },
           {
            "bin_start": 2.39,
            "bin_end": 2.46,
            "count": 0
           },
           {
            "bin_start": 2.46,
            "bin_end": 2.5300000000000002,
            "count": 0
           },
           {
            "bin_start": 2.5300000000000002,
            "bin_end": 2.6,
            "count": 1
           }
          ]
         }
        },
        {
         "name": "chlorides",
         "dtype": "float64",
         "stats": {
          "unique_count": 4,
          "nan_count": 0,
          "min": "0.075",
          "max": "0.098",
          "histogram": [
           {
            "bin_start": 0.075,
            "bin_end": 0.0773,
            "count": 3
           },
           {
            "bin_start": 0.0773,
            "bin_end": 0.0796,
            "count": 0
           },
           {
            "bin_start": 0.0796,
            "bin_end": 0.0819,
            "count": 0
           },
           {
            "bin_start": 0.0819,
            "bin_end": 0.0842,
            "count": 0
           },
           {
            "bin_start": 0.0842,
            "bin_end": 0.0865,
            "count": 0
           },
           {
            "bin_start": 0.0865,
            "bin_end": 0.0888,
            "count": 0
           },
           {
            "bin_start": 0.0888,
            "bin_end": 0.0911,
            "count": 0
           },
           {
            "bin_start": 0.0911,
            "bin_end": 0.09340000000000001,
            "count": 1
           },
           {
            "bin_start": 0.09340000000000001,
            "bin_end": 0.09570000000000001,
            "count": 0
           },
           {
            "bin_start": 0.09570000000000001,
            "bin_end": 0.098,
            "count": 1
           }
          ]
         }
        },
        {
         "name": "free sulfur dioxide",
         "dtype": "float64",
         "stats": {
          "unique_count": 4,
          "nan_count": 0,
          "min": "11.0",
          "max": "25.0",
          "histogram": [
           {
            "bin_start": 11,
            "bin_end": 12.4,
            "count": 2
           },
           {
            "bin_start": 12.4,
            "bin_end": 13.8,
            "count": 0
           },
           {
            "bin_start": 13.8,
            "bin_end": 15.2,
            "count": 1
           },
           {
            "bin_start": 15.2,
            "bin_end": 16.6,
            "count": 0
           },
           {
            "bin_start": 16.6,
            "bin_end": 18,
            "count": 1
           },
           {
            "bin_start": 18,
            "bin_end": 19.4,
            "count": 0
           },
           {
            "bin_start": 19.4,
            "bin_end": 20.799999999999997,
            "count": 0
           },
           {
            "bin_start": 20.799999999999997,
            "bin_end": 22.2,
            "count": 0
           },
           {
            "bin_start": 22.2,
            "bin_end": 23.6,
            "count": 0
           },
           {
            "bin_start": 23.6,
            "bin_end": 25,
            "count": 1
           }
          ]
         }
        },
        {
         "name": "total sulfur dioxide",
         "dtype": "float64",
         "stats": {
          "unique_count": 4,
          "nan_count": 0,
          "min": "34.0",
          "max": "67.0",
          "histogram": [
           {
            "bin_start": 34,
            "bin_end": 37.3,
            "count": 2
           },
           {
            "bin_start": 37.3,
            "bin_end": 40.6,
            "count": 0
           },
           {
            "bin_start": 40.6,
            "bin_end": 43.9,
            "count": 0
           },
           {
            "bin_start": 43.9,
            "bin_end": 47.2,
            "count": 0
           },
           {
            "bin_start": 47.2,
            "bin_end": 50.5,
            "count": 0
           },
           {
            "bin_start": 50.5,
            "bin_end": 53.8,
            "count": 0
           },
           {
            "bin_start": 53.8,
            "bin_end": 57.099999999999994,
            "count": 1
           },
           {
            "bin_start": 57.099999999999994,
            "bin_end": 60.4,
            "count": 1
           },
           {
            "bin_start": 60.4,
            "bin_end": 63.7,
            "count": 0
           },
           {
            "bin_start": 63.7,
            "bin_end": 67,
            "count": 1
           }
          ]
         }
        },
        {
         "name": "density",
         "dtype": "float64",
         "stats": {
          "unique_count": 4,
          "nan_count": 0,
          "min": "0.9968",
          "max": "0.998",
          "histogram": [
           {
            "bin_start": 0.9968,
            "bin_end": 0.99692,
            "count": 1
           },
           {
            "bin_start": 0.99692,
            "bin_end": 0.99704,
            "count": 1
           },
           {
            "bin_start": 0.99704,
            "bin_end": 0.99716,
            "count": 0
           },
           {
            "bin_start": 0.99716,
            "bin_end": 0.99728,
            "count": 0
           },
           {
            "bin_start": 0.99728,
            "bin_end": 0.9974000000000001,
            "count": 0
           },
           {
            "bin_start": 0.9974000000000001,
            "bin_end": 0.99752,
            "count": 0
           },
           {
            "bin_start": 0.99752,
            "bin_end": 0.99764,
            "count": 0
           },
           {
            "bin_start": 0.99764,
            "bin_end": 0.99776,
            "count": 0
           },
           {
            "bin_start": 0.99776,
            "bin_end": 0.99788,
            "count": 2
           },
           {
            "bin_start": 0.99788,
            "bin_end": 0.998,
            "count": 1
           }
          ]
         }
        },
        {
         "name": "pH",
         "dtype": "float64",
         "stats": {
          "unique_count": 4,
          "nan_count": 0,
          "min": "3.16",
          "max": "3.51",
          "histogram": [
           {
            "bin_start": 3.16,
            "bin_end": 3.1950000000000003,
            "count": 1
           },
           {
            "bin_start": 3.1950000000000003,
            "bin_end": 3.23,
            "count": 1
           },
           {
            "bin_start": 3.23,
            "bin_end": 3.265,
            "count": 1
           },
           {
            "bin_start": 3.265,
            "bin_end": 3.3,
            "count": 0
           },
           {
            "bin_start": 3.3,
            "bin_end": 3.335,
            "count": 0
           },
           {
            "bin_start": 3.335,
            "bin_end": 3.37,
            "count": 0
           },
           {
            "bin_start": 3.37,
            "bin_end": 3.405,
            "count": 0
           },
           {
            "bin_start": 3.405,
            "bin_end": 3.44,
            "count": 0
           },
           {
            "bin_start": 3.44,
            "bin_end": 3.4749999999999996,
            "count": 0
           },
           {
            "bin_start": 3.4749999999999996,
            "bin_end": 3.51,
            "count": 2
           }
          ]
         }
        },
        {
         "name": "sulphates",
         "dtype": "float64",
         "stats": {
          "unique_count": 4,
          "nan_count": 0,
          "min": "0.56",
          "max": "0.68",
          "histogram": [
           {
            "bin_start": 0.56,
            "bin_end": 0.5720000000000001,
            "count": 2
           },
           {
            "bin_start": 0.5720000000000001,
            "bin_end": 0.5840000000000001,
            "count": 1
           },
           {
            "bin_start": 0.5840000000000001,
            "bin_end": 0.5960000000000001,
            "count": 0
           },
           {
            "bin_start": 0.5960000000000001,
            "bin_end": 0.6080000000000001,
            "count": 0
           },
           {
            "bin_start": 0.6080000000000001,
            "bin_end": 0.6200000000000001,
            "count": 0
           },
           {
            "bin_start": 0.6200000000000001,
            "bin_end": 0.6320000000000001,
            "count": 0
           },
           {
            "bin_start": 0.6320000000000001,
            "bin_end": 0.644,
            "count": 0
           },
           {
            "bin_start": 0.644,
            "bin_end": 0.656,
            "count": 1
           },
           {
            "bin_start": 0.656,
            "bin_end": 0.668,
            "count": 0
           },
           {
            "bin_start": 0.668,
            "bin_end": 0.68,
            "count": 1
           }
          ]
         }
        },
        {
         "name": "alcohol",
         "dtype": "float64",
         "stats": {
          "unique_count": 2,
          "nan_count": 0,
          "min": "9.4",
          "max": "9.8",
          "histogram": [
           {
            "bin_start": 9.4,
            "bin_end": 9.440000000000001,
            "count": 2
           },
           {
            "bin_start": 9.440000000000001,
            "bin_end": 9.48,
            "count": 0
           },
           {
            "bin_start": 9.48,
            "bin_end": 9.52,
            "count": 0
           },
           {
            "bin_start": 9.52,
            "bin_end": 9.56,
            "count": 0
           },
           {
            "bin_start": 9.56,
            "bin_end": 9.600000000000001,
            "count": 0
           },
           {
            "bin_start": 9.600000000000001,
            "bin_end": 9.64,
            "count": 0
           },
           {
            "bin_start": 9.64,
            "bin_end": 9.68,
            "count": 0
           },
           {
            "bin_start": 9.68,
            "bin_end": 9.72,
            "count": 0
           },
           {
            "bin_start": 9.72,
            "bin_end": 9.760000000000002,
            "count": 0
           },
           {
            "bin_start": 9.760000000000002,
            "bin_end": 9.8,
            "count": 3
           }
          ]
         }
        },
        {
         "name": "quality",
         "dtype": "int64",
         "stats": {
          "unique_count": 2,
          "nan_count": 0,
          "min": "5",
          "max": "6",
          "histogram": [
           {
            "bin_start": 5,
            "bin_end": 5.1,
            "count": 4
           },
           {
            "bin_start": 5.1,
            "bin_end": 5.2,
            "count": 0
           },
           {
            "bin_start": 5.2,
            "bin_end": 5.3,
            "count": 0
           },
           {
            "bin_start": 5.3,
            "bin_end": 5.4,
            "count": 0
           },
           {
            "bin_start": 5.4,
            "bin_end": 5.5,
            "count": 0
           },
           {
            "bin_start": 5.5,
            "bin_end": 5.6,
            "count": 0
           },
           {
            "bin_start": 5.6,
            "bin_end": 5.7,
            "count": 0
           },
           {
            "bin_start": 5.7,
            "bin_end": 5.8,
            "count": 0
           },
           {
            "bin_start": 5.8,
            "bin_end": 5.9,
            "count": 0
           },
           {
            "bin_start": 5.9,
            "bin_end": 6,
            "count": 1
           }
          ]
         }
        },
        {
         "name": "_deepnote_index_column",
         "dtype": "int64"
        }
       ],
       "rows": [
        {
         "fixed acidity": 7.4,
         "volatile acidity": 0.7,
         "citric acid": 0,
         "residual sugar": 1.9,
         "chlorides": 0.076,
         "free sulfur dioxide": 11,
         "total sulfur dioxide": 34,
         "density": 0.9978,
         "pH": 3.51,
         "sulphates": 0.56,
         "alcohol": 9.4,
         "quality": 5,
         "_deepnote_index_column": 0
        },
        {
         "fixed acidity": 7.8,
         "volatile acidity": 0.88,
         "citric acid": 0,
         "residual sugar": 2.6,
         "chlorides": 0.098,
         "free sulfur dioxide": 25,
         "total sulfur dioxide": 67,
         "density": 0.9968,
         "pH": 3.2,
         "sulphates": 0.68,
         "alcohol": 9.8,
         "quality": 5,
         "_deepnote_index_column": 1
        },
        {
         "fixed acidity": 7.8,
         "volatile acidity": 0.76,
         "citric acid": 0.04,
         "residual sugar": 2.3,
         "chlorides": 0.092,
         "free sulfur dioxide": 15,
         "total sulfur dioxide": 54,
         "density": 0.997,
         "pH": 3.26,
         "sulphates": 0.65,
         "alcohol": 9.8,
         "quality": 5,
         "_deepnote_index_column": 2
        },
        {
         "fixed acidity": 11.2,
         "volatile acidity": 0.28,
         "citric acid": 0.56,
         "residual sugar": 1.9,
         "chlorides": 0.075,
         "free sulfur dioxide": 17,
         "total sulfur dioxide": 60,
         "density": 0.998,
         "pH": 3.16,
         "sulphates": 0.58,
         "alcohol": 9.8,
         "quality": 6,
         "_deepnote_index_column": 3
        },
        {
         "fixed acidity": 7.4,
         "volatile acidity": 0.7,
         "citric acid": 0,
         "residual sugar": 1.9,
         "chlorides": 0.076,
         "free sulfur dioxide": 11,
         "total sulfur dioxide": 34,
         "density": 0.9978,
         "pH": 3.51,
         "sulphates": 0.56,
         "alcohol": 9.4,
         "quality": 5,
         "_deepnote_index_column": 4
        }
       ]
      },
      "text/plain": "   fixed acidity  volatile acidity  citric acid  residual sugar  chlorides  \\\n0            7.4              0.70         0.00             1.9      0.076   \n1            7.8              0.88         0.00             2.6      0.098   \n2            7.8              0.76         0.04             2.3      0.092   \n3           11.2              0.28         0.56             1.9      0.075   \n4            7.4              0.70         0.00             1.9      0.076   \n\n   free sulfur dioxide  total sulfur dioxide  density    pH  sulphates  \\\n0                 11.0                  34.0   0.9978  3.51       0.56   \n1                 25.0                  67.0   0.9968  3.20       0.68   \n2                 15.0                  54.0   0.9970  3.26       0.65   \n3                 17.0                  60.0   0.9980  3.16       0.58   \n4                 11.0                  34.0   0.9978  3.51       0.56   \n\n   alcohol  quality  \n0      9.4        5  \n1      9.8        5  \n2      9.8        5  \n3      9.8        6  \n4      9.4        5  ",
      "text/html": "<div>\n<style scoped>\n    .dataframe tbody tr th:only-of-type {\n        vertical-align: middle;\n    }\n\n    .dataframe tbody tr th {\n        vertical-align: top;\n    }\n\n    .dataframe thead th {\n        text-align: right;\n    }\n</style>\n<table border=\"1\" class=\"dataframe\">\n  <thead>\n    <tr style=\"text-align: right;\">\n      <th></th>\n      <th>fixed acidity</th>\n      <th>volatile acidity</th>\n      <th>citric acid</th>\n      <th>residual sugar</th>\n      <th>chlorides</th>\n      <th>free sulfur dioxide</th>\n      <th>total sulfur dioxide</th>\n      <th>density</th>\n      <th>pH</th>\n      <th>sulphates</th>\n      <th>alcohol</th>\n      <th>quality</th>\n    </tr>\n  </thead>\n  <tbody>\n    <tr>\n      <th>0</th>\n      <td>7.4</td>\n      <td>0.70</td>\n      <td>0.00</td>\n      <td>1.9</td>\n      <td>0.076</td>\n      <td>11.0</td>\n      <td>34.0</td>\n      <td>0.9978</td>\n      <td>3.51</td>\n      <td>0.56</td>\n      <td>9.4</td>\n      <td>5</td>\n    </tr>\n    <tr>\n      <th>1</th>\n      <td>7.8</td>\n      <td>0.88</td>\n      <td>0.00</td>\n      <td>2.6</td>\n      <td>0.098</td>\n      <td>25.0</td>\n      <td>67.0</td>\n      <td>0.9968</td>\n      <td>3.20</td>\n      <td>0.68</td>\n      <td>9.8</td>\n      <td>5</td>\n    </tr>\n    <tr>\n      <th>2</th>\n      <td>7.8</td>\n      <td>0.76</td>\n      <td>0.04</td>\n      <td>2.3</td>\n      <td>0.092</td>\n      <td>15.0</td>\n      <td>54.0</td>\n      <td>0.9970</td>\n      <td>3.26</td>\n      <td>0.65</td>\n      <td>9.8</td>\n      <td>5</td>\n    </tr>\n    <tr>\n      <th>3</th>\n      <td>11.2</td>\n      <td>0.28</td>\n      <td>0.56</td>\n      <td>1.9</td>\n      <td>0.075</td>\n      <td>17.0</td>\n      <td>60.0</td>\n      <td>0.9980</td>\n      <td>3.16</td>\n      <td>0.58</td>\n      <td>9.8</td>\n      <td>6</td>\n    </tr>\n    <tr>\n      <th>4</th>\n      <td>7.4</td>\n      <td>0.70</td>\n      <td>0.00</td>\n      <td>1.9</td>\n      <td>0.076</td>\n      <td>11.0</td>\n      <td>34.0</td>\n      <td>0.9978</td>\n      <td>3.51</td>\n      <td>0.56</td>\n      <td>9.4</td>\n      <td>5</td>\n    </tr>\n  </tbody>\n</table>\n</div>"
     },
     "metadata": {}
    }
   ]
  },
  {
   "cell_type": "code",
   "metadata": {
    "cell_id": "cc53221cd381463d9c167b87f586a521",
    "tags": [],
    "deepnote_to_be_reexecuted": false,
    "source_hash": "13e71606",
    "execution_start": 1653816816128,
    "execution_millis": 175,
    "deepnote_cell_type": "code",
    "deepnote_cell_height": 408.59375
   },
   "source": "white.head()",
   "execution_count": 6,
   "outputs": [
    {
     "output_type": "execute_result",
     "execution_count": 6,
     "data": {
      "application/vnd.deepnote.dataframe.v3+json": {
       "column_count": 12,
       "row_count": 5,
       "columns": [
        {
         "name": "fixed acidity",
         "dtype": "float64",
         "stats": {
          "unique_count": 4,
          "nan_count": 0,
          "min": "6.3",
          "max": "8.1",
          "histogram": [
           {
            "bin_start": 6.3,
            "bin_end": 6.4799999999999995,
            "count": 1
           },
           {
            "bin_start": 6.4799999999999995,
            "bin_end": 6.66,
            "count": 0
           },
           {
            "bin_start": 6.66,
            "bin_end": 6.84,
            "count": 0
           },
           {
            "bin_start": 6.84,
            "bin_end": 7.02,
            "count": 1
           },
           {
            "bin_start": 7.02,
            "bin_end": 7.199999999999999,
            "count": 0
           },
           {
            "bin_start": 7.199999999999999,
            "bin_end": 7.38,
            "count": 2
           },
           {
            "bin_start": 7.38,
            "bin_end": 7.56,
            "count": 0
           },
           {
            "bin_start": 7.56,
            "bin_end": 7.74,
            "count": 0
           },
           {
            "bin_start": 7.74,
            "bin_end": 7.92,
            "count": 0
           },
           {
            "bin_start": 7.92,
            "bin_end": 8.1,
            "count": 1
           }
          ]
         }
        },
        {
         "name": "volatile acidity",
         "dtype": "float64",
         "stats": {
          "unique_count": 4,
          "nan_count": 0,
          "min": "0.23",
          "max": "0.3",
          "histogram": [
           {
            "bin_start": 0.23,
            "bin_end": 0.23700000000000002,
            "count": 2
           },
           {
            "bin_start": 0.23700000000000002,
            "bin_end": 0.244,
            "count": 0
           },
           {
            "bin_start": 0.244,
            "bin_end": 0.251,
            "count": 0
           },
           {
            "bin_start": 0.251,
            "bin_end": 0.258,
            "count": 0
           },
           {
            "bin_start": 0.258,
            "bin_end": 0.265,
            "count": 0
           },
           {
            "bin_start": 0.265,
            "bin_end": 0.272,
            "count": 1
           },
           {
            "bin_start": 0.272,
            "bin_end": 0.27899999999999997,
            "count": 0
           },
           {
            "bin_start": 0.27899999999999997,
            "bin_end": 0.286,
            "count": 1
           },
           {
            "bin_start": 0.286,
            "bin_end": 0.293,
            "count": 0
           },
           {
            "bin_start": 0.293,
            "bin_end": 0.3,
            "count": 1
           }
          ]
         }
        },
        {
         "name": "citric acid",
         "dtype": "float64",
         "stats": {
          "unique_count": 4,
          "nan_count": 0,
          "min": "0.32",
          "max": "0.4",
          "histogram": [
           {
            "bin_start": 0.32,
            "bin_end": 0.328,
            "count": 2
           },
           {
            "bin_start": 0.328,
            "bin_end": 0.336,
            "count": 0
           },
           {
            "bin_start": 0.336,
            "bin_end": 0.34400000000000003,
            "count": 1
           },
           {
            "bin_start": 0.34400000000000003,
            "bin_end": 0.35200000000000004,
            "count": 0
           },
           {
            "bin_start": 0.35200000000000004,
            "bin_end": 0.36,
            "count": 0
           },
           {
            "bin_start": 0.36,
            "bin_end": 0.368,
            "count": 1
           },
           {
            "bin_start": 0.368,
            "bin_end": 0.376,
            "count": 0
           },
           {
            "bin_start": 0.376,
            "bin_end": 0.384,
            "count": 0
           },
           {
            "bin_start": 0.384,
            "bin_end": 0.392,
            "count": 0
           },
           {
            "bin_start": 0.392,
            "bin_end": 0.4,
            "count": 1
           }
          ]
         }
        },
        {
         "name": "residual sugar",
         "dtype": "float64",
         "stats": {
          "unique_count": 4,
          "nan_count": 0,
          "min": "1.6",
          "max": "20.7",
          "histogram": [
           {
            "bin_start": 1.6,
            "bin_end": 3.51,
            "count": 1
           },
           {
            "bin_start": 3.51,
            "bin_end": 5.42,
            "count": 0
           },
           {
            "bin_start": 5.42,
            "bin_end": 7.329999999999998,
            "count": 1
           },
           {
            "bin_start": 7.329999999999998,
            "bin_end": 9.239999999999998,
            "count": 2
           },
           {
            "bin_start": 9.239999999999998,
            "bin_end": 11.149999999999999,
            "count": 0
           },
           {
            "bin_start": 11.149999999999999,
            "bin_end": 13.059999999999997,
            "count": 0
           },
           {
            "bin_start": 13.059999999999997,
            "bin_end": 14.969999999999997,
            "count": 0
           },
           {
            "bin_start": 14.969999999999997,
            "bin_end": 16.88,
            "count": 0
           },
           {
            "bin_start": 16.88,
            "bin_end": 18.79,
            "count": 0
           },
           {
            "bin_start": 18.79,
            "bin_end": 20.7,
            "count": 1
           }
          ]
         }
        },
        {
         "name": "chlorides",
         "dtype": "float64",
         "stats": {
          "unique_count": 4,
          "nan_count": 0,
          "min": "0.045",
          "max": "0.058",
          "histogram": [
           {
            "bin_start": 0.045,
            "bin_end": 0.0463,
            "count": 1
           },
           {
            "bin_start": 0.0463,
            "bin_end": 0.047599999999999996,
            "count": 0
           },
           {
            "bin_start": 0.047599999999999996,
            "bin_end": 0.0489,
            "count": 0
           },
           {
            "bin_start": 0.0489,
            "bin_end": 0.0502,
            "count": 2
           },
           {
            "bin_start": 0.0502,
            "bin_end": 0.051500000000000004,
            "count": 0
           },
           {
            "bin_start": 0.051500000000000004,
            "bin_end": 0.0528,
            "count": 0
           },
           {
            "bin_start": 0.0528,
            "bin_end": 0.0541,
            "count": 0
           },
           {
            "bin_start": 0.0541,
            "bin_end": 0.055400000000000005,
            "count": 0
           },
           {
            "bin_start": 0.055400000000000005,
            "bin_end": 0.0567,
            "count": 0
           },
           {
            "bin_start": 0.0567,
            "bin_end": 0.058,
            "count": 2
           }
          ]
         }
        },
        {
         "name": "free sulfur dioxide",
         "dtype": "float64",
         "stats": {
          "unique_count": 4,
          "nan_count": 0,
          "min": "14.0",
          "max": "47.0",
          "histogram": [
           {
            "bin_start": 14,
            "bin_end": 17.3,
            "count": 1
           },
           {
            "bin_start": 17.3,
            "bin_end": 20.6,
            "count": 0
           },
           {
            "bin_start": 20.6,
            "bin_end": 23.9,
            "count": 0
           },
           {
            "bin_start": 23.9,
            "bin_end": 27.2,
            "count": 0
           },
           {
            "bin_start": 27.2,
            "bin_end": 30.5,
            "count": 1
           },
           {
            "bin_start": 30.5,
            "bin_end": 33.8,
            "count": 0
           },
           {
            "bin_start": 33.8,
            "bin_end": 37.099999999999994,
            "count": 0
           },
           {
            "bin_start": 37.099999999999994,
            "bin_end": 40.4,
            "count": 0
           },
           {
            "bin_start": 40.4,
            "bin_end": 43.7,
            "count": 0
           },
           {
            "bin_start": 43.7,
            "bin_end": 47,
            "count": 3
           }
          ]
         }
        },
        {
         "name": "total sulfur dioxide",
         "dtype": "float64",
         "stats": {
          "unique_count": 4,
          "nan_count": 0,
          "min": "97.0",
          "max": "186.0",
          "histogram": [
           {
            "bin_start": 97,
            "bin_end": 105.9,
            "count": 1
           },
           {
            "bin_start": 105.9,
            "bin_end": 114.8,
            "count": 0
           },
           {
            "bin_start": 114.8,
            "bin_end": 123.7,
            "count": 0
           },
           {
            "bin_start": 123.7,
            "bin_end": 132.6,
            "count": 1
           },
           {
            "bin_start": 132.6,
            "bin_end": 141.5,
            "count": 0
           },
           {
            "bin_start": 141.5,
            "bin_end": 150.4,
            "count": 0
           },
           {
            "bin_start": 150.4,
            "bin_end": 159.3,
            "count": 0
           },
           {
            "bin_start": 159.3,
            "bin_end": 168.2,
            "count": 0
           },
           {
            "bin_start": 168.2,
            "bin_end": 177.10000000000002,
            "count": 1
           },
           {
            "bin_start": 177.10000000000002,
            "bin_end": 186,
            "count": 2
           }
          ]
         }
        },
        {
         "name": "density",
         "dtype": "float64",
         "stats": {
          "unique_count": 4,
          "nan_count": 0,
          "min": "0.994",
          "max": "1.001",
          "histogram": [
           {
            "bin_start": 0.994,
            "bin_end": 0.9947,
            "count": 1
           },
           {
            "bin_start": 0.9947,
            "bin_end": 0.9954,
            "count": 1
           },
           {
            "bin_start": 0.9954,
            "bin_end": 0.9961,
            "count": 2
           },
           {
            "bin_start": 0.9961,
            "bin_end": 0.9967999999999999,
            "count": 0
           },
           {
            "bin_start": 0.9967999999999999,
            "bin_end": 0.9974999999999999,
            "count": 0
           },
           {
            "bin_start": 0.9974999999999999,
            "bin_end": 0.9982,
            "count": 0
           },
           {
            "bin_start": 0.9982,
            "bin_end": 0.9988999999999999,
            "count": 0
           },
           {
            "bin_start": 0.9988999999999999,
            "bin_end": 0.9995999999999999,
            "count": 0
           },
           {
            "bin_start": 0.9995999999999999,
            "bin_end": 1.0003,
            "count": 0
           },
           {
            "bin_start": 1.0003,
            "bin_end": 1.001,
            "count": 1
           }
          ]
         }
        },
        {
         "name": "pH",
         "dtype": "float64",
         "stats": {
          "unique_count": 4,
          "nan_count": 0,
          "min": "3.0",
          "max": "3.3",
          "histogram": [
           {
            "bin_start": 3,
            "bin_end": 3.03,
            "count": 1
           },
           {
            "bin_start": 3.03,
            "bin_end": 3.06,
            "count": 0
           },
           {
            "bin_start": 3.06,
            "bin_end": 3.09,
            "count": 0
           },
           {
            "bin_start": 3.09,
            "bin_end": 3.12,
            "count": 0
           },
           {
            "bin_start": 3.12,
            "bin_end": 3.15,
            "count": 0
           },
           {
            "bin_start": 3.15,
            "bin_end": 3.1799999999999997,
            "count": 0
           },
           {
            "bin_start": 3.1799999999999997,
            "bin_end": 3.21,
            "count": 2
           },
           {
            "bin_start": 3.21,
            "bin_end": 3.2399999999999998,
            "count": 0
           },
           {
            "bin_start": 3.2399999999999998,
            "bin_end": 3.27,
            "count": 1
           },
           {
            "bin_start": 3.27,
            "bin_end": 3.3,
            "count": 1
           }
          ]
         }
        },
        {
         "name": "sulphates",
         "dtype": "float64",
         "stats": {
          "unique_count": 4,
          "nan_count": 0,
          "min": "0.4",
          "max": "0.49",
          "histogram": [
           {
            "bin_start": 0.4,
            "bin_end": 0.40900000000000003,
            "count": 2
           },
           {
            "bin_start": 0.40900000000000003,
            "bin_end": 0.41800000000000004,
            "count": 0
           },
           {
            "bin_start": 0.41800000000000004,
            "bin_end": 0.427,
            "count": 0
           },
           {
            "bin_start": 0.427,
            "bin_end": 0.436,
            "count": 0
           },
           {
            "bin_start": 0.436,
            "bin_end": 0.445,
            "count": 1
           },
           {
            "bin_start": 0.445,
            "bin_end": 0.454,
            "count": 1
           },
           {
            "bin_start": 0.454,
            "bin_end": 0.463,
            "count": 0
           },
           {
            "bin_start": 0.463,
            "bin_end": 0.472,
            "count": 0
           },
           {
            "bin_start": 0.472,
            "bin_end": 0.481,
            "count": 0
           },
           {
            "bin_start": 0.481,
            "bin_end": 0.49,
            "count": 1
           }
          ]
         }
        },
        {
         "name": "alcohol",
         "dtype": "float64",
         "stats": {
          "unique_count": 4,
          "nan_count": 0,
          "min": "8.8",
          "max": "10.1",
          "histogram": [
           {
            "bin_start": 8.8,
            "bin_end": 8.93,
            "count": 1
           },
           {
            "bin_start": 8.93,
            "bin_end": 9.06,
            "count": 0
           },
           {
            "bin_start": 9.06,
            "bin_end": 9.190000000000001,
            "count": 0
           },
           {
            "bin_start": 9.190000000000001,
            "bin_end": 9.32,
            "count": 0
           },
           {
            "bin_start": 9.32,
            "bin_end": 9.45,
            "count": 0
           },
           {
            "bin_start": 9.45,
            "bin_end": 9.58,
            "count": 1
           },
           {
            "bin_start": 9.58,
            "bin_end": 9.71,
            "count": 0
           },
           {
            "bin_start": 9.71,
            "bin_end": 9.84,
            "count": 0
           },
           {
            "bin_start": 9.84,
            "bin_end": 9.969999999999999,
            "count": 2
           },
           {
            "bin_start": 9.969999999999999,
            "bin_end": 10.1,
            "count": 1
           }
          ]
         }
        },
        {
         "name": "quality",
         "dtype": "int64",
         "stats": {
          "unique_count": 1,
          "nan_count": 0,
          "min": "6",
          "max": "6",
          "histogram": [
           {
            "bin_start": 5.5,
            "bin_end": 5.6,
            "count": 0
           },
           {
            "bin_start": 5.6,
            "bin_end": 5.7,
            "count": 0
           },
           {
            "bin_start": 5.7,
            "bin_end": 5.8,
            "count": 0
           },
           {
            "bin_start": 5.8,
            "bin_end": 5.9,
            "count": 0
           },
           {
            "bin_start": 5.9,
            "bin_end": 6,
            "count": 0
           },
           {
            "bin_start": 6,
            "bin_end": 6.1,
            "count": 5
           },
           {
            "bin_start": 6.1,
            "bin_end": 6.2,
            "count": 0
           },
           {
            "bin_start": 6.2,
            "bin_end": 6.3,
            "count": 0
           },
           {
            "bin_start": 6.3,
            "bin_end": 6.4,
            "count": 0
           },
           {
            "bin_start": 6.4,
            "bin_end": 6.5,
            "count": 0
           }
          ]
         }
        },
        {
         "name": "_deepnote_index_column",
         "dtype": "int64"
        }
       ],
       "rows": [
        {
         "fixed acidity": 7,
         "volatile acidity": 0.27,
         "citric acid": 0.36,
         "residual sugar": 20.7,
         "chlorides": 0.045,
         "free sulfur dioxide": 45,
         "total sulfur dioxide": 170,
         "density": 1.001,
         "pH": 3,
         "sulphates": 0.45,
         "alcohol": 8.8,
         "quality": 6,
         "_deepnote_index_column": 0
        },
        {
         "fixed acidity": 6.3,
         "volatile acidity": 0.3,
         "citric acid": 0.34,
         "residual sugar": 1.6,
         "chlorides": 0.049,
         "free sulfur dioxide": 14,
         "total sulfur dioxide": 132,
         "density": 0.994,
         "pH": 3.3,
         "sulphates": 0.49,
         "alcohol": 9.5,
         "quality": 6,
         "_deepnote_index_column": 1
        },
        {
         "fixed acidity": 8.1,
         "volatile acidity": 0.28,
         "citric acid": 0.4,
         "residual sugar": 6.9,
         "chlorides": 0.05,
         "free sulfur dioxide": 30,
         "total sulfur dioxide": 97,
         "density": 0.9951,
         "pH": 3.26,
         "sulphates": 0.44,
         "alcohol": 10.1,
         "quality": 6,
         "_deepnote_index_column": 2
        },
        {
         "fixed acidity": 7.2,
         "volatile acidity": 0.23,
         "citric acid": 0.32,
         "residual sugar": 8.5,
         "chlorides": 0.058,
         "free sulfur dioxide": 47,
         "total sulfur dioxide": 186,
         "density": 0.9956,
         "pH": 3.19,
         "sulphates": 0.4,
         "alcohol": 9.9,
         "quality": 6,
         "_deepnote_index_column": 3
        },
        {
         "fixed acidity": 7.2,
         "volatile acidity": 0.23,
         "citric acid": 0.32,
         "residual sugar": 8.5,
         "chlorides": 0.058,
         "free sulfur dioxide": 47,
         "total sulfur dioxide": 186,
         "density": 0.9956,
         "pH": 3.19,
         "sulphates": 0.4,
         "alcohol": 9.9,
         "quality": 6,
         "_deepnote_index_column": 4
        }
       ]
      },
      "text/plain": "   fixed acidity  volatile acidity  citric acid  residual sugar  chlorides  \\\n0            7.0              0.27         0.36            20.7      0.045   \n1            6.3              0.30         0.34             1.6      0.049   \n2            8.1              0.28         0.40             6.9      0.050   \n3            7.2              0.23         0.32             8.5      0.058   \n4            7.2              0.23         0.32             8.5      0.058   \n\n   free sulfur dioxide  total sulfur dioxide  density    pH  sulphates  \\\n0                 45.0                 170.0   1.0010  3.00       0.45   \n1                 14.0                 132.0   0.9940  3.30       0.49   \n2                 30.0                  97.0   0.9951  3.26       0.44   \n3                 47.0                 186.0   0.9956  3.19       0.40   \n4                 47.0                 186.0   0.9956  3.19       0.40   \n\n   alcohol  quality  \n0      8.8        6  \n1      9.5        6  \n2     10.1        6  \n3      9.9        6  \n4      9.9        6  ",
      "text/html": "<div>\n<style scoped>\n    .dataframe tbody tr th:only-of-type {\n        vertical-align: middle;\n    }\n\n    .dataframe tbody tr th {\n        vertical-align: top;\n    }\n\n    .dataframe thead th {\n        text-align: right;\n    }\n</style>\n<table border=\"1\" class=\"dataframe\">\n  <thead>\n    <tr style=\"text-align: right;\">\n      <th></th>\n      <th>fixed acidity</th>\n      <th>volatile acidity</th>\n      <th>citric acid</th>\n      <th>residual sugar</th>\n      <th>chlorides</th>\n      <th>free sulfur dioxide</th>\n      <th>total sulfur dioxide</th>\n      <th>density</th>\n      <th>pH</th>\n      <th>sulphates</th>\n      <th>alcohol</th>\n      <th>quality</th>\n    </tr>\n  </thead>\n  <tbody>\n    <tr>\n      <th>0</th>\n      <td>7.0</td>\n      <td>0.27</td>\n      <td>0.36</td>\n      <td>20.7</td>\n      <td>0.045</td>\n      <td>45.0</td>\n      <td>170.0</td>\n      <td>1.0010</td>\n      <td>3.00</td>\n      <td>0.45</td>\n      <td>8.8</td>\n      <td>6</td>\n    </tr>\n    <tr>\n      <th>1</th>\n      <td>6.3</td>\n      <td>0.30</td>\n      <td>0.34</td>\n      <td>1.6</td>\n      <td>0.049</td>\n      <td>14.0</td>\n      <td>132.0</td>\n      <td>0.9940</td>\n      <td>3.30</td>\n      <td>0.49</td>\n      <td>9.5</td>\n      <td>6</td>\n    </tr>\n    <tr>\n      <th>2</th>\n      <td>8.1</td>\n      <td>0.28</td>\n      <td>0.40</td>\n      <td>6.9</td>\n      <td>0.050</td>\n      <td>30.0</td>\n      <td>97.0</td>\n      <td>0.9951</td>\n      <td>3.26</td>\n      <td>0.44</td>\n      <td>10.1</td>\n      <td>6</td>\n    </tr>\n    <tr>\n      <th>3</th>\n      <td>7.2</td>\n      <td>0.23</td>\n      <td>0.32</td>\n      <td>8.5</td>\n      <td>0.058</td>\n      <td>47.0</td>\n      <td>186.0</td>\n      <td>0.9956</td>\n      <td>3.19</td>\n      <td>0.40</td>\n      <td>9.9</td>\n      <td>6</td>\n    </tr>\n    <tr>\n      <th>4</th>\n      <td>7.2</td>\n      <td>0.23</td>\n      <td>0.32</td>\n      <td>8.5</td>\n      <td>0.058</td>\n      <td>47.0</td>\n      <td>186.0</td>\n      <td>0.9956</td>\n      <td>3.19</td>\n      <td>0.40</td>\n      <td>9.9</td>\n      <td>6</td>\n    </tr>\n  </tbody>\n</table>\n</div>"
     },
     "metadata": {}
    }
   ]
  },
  {
   "cell_type": "markdown",
   "source": "### *Clases sugeridas*:\n\n- [Series y DataFrames en Pandas](https://platzi.com/clases/2912-pandas-numpy/47984-series-y-dataframes-en-pandas/?utm_source=contenido&utm_medium=organic&utm_campaign=ejercicio-eda)\n- [Leer archivos CSV y JSON con Pandas](https://platzi.com/clases/2912-pandas-numpy/47985-leer-archivos-csv-y-json-con-pandas/?utm_source=contenido&utm_medium=organic&utm_campaign=ejercicio-eda)",
   "metadata": {
    "cell_id": "b5a166b124d4495aa94af1b517ad7eb8",
    "tags": [],
    "deepnote_cell_type": "markdown",
    "deepnote_cell_height": 139.796875
   }
  },
  {
   "cell_type": "markdown",
   "source": "## Combina ambos DataFrames\n\n1. Incluye una variable llamada `category` a cada DataFrame que indiqué si el vino es rojo (red) o blanco (white). Esto servirá para distinguir el tipo de vino de cada fila/registro al unir los DataFrames.",
   "metadata": {
    "cell_id": "ed480474e2344e0d95172c6b75dc67c8",
    "tags": [],
    "deepnote_cell_type": "markdown",
    "deepnote_cell_height": 167.1875
   }
  },
  {
   "cell_type": "code",
   "metadata": {
    "cell_id": "9b49c89f5fa242e19d2f07d7de95dbcd",
    "tags": [],
    "deepnote_to_be_reexecuted": false,
    "source_hash": "45b66c68",
    "execution_start": 1653816816145,
    "execution_millis": 5,
    "deepnote_cell_type": "code",
    "deepnote_cell_height": 99
   },
   "source": "red['category']='red'\nwhite['category']='white'",
   "execution_count": 7,
   "outputs": []
  },
  {
   "cell_type": "markdown",
   "source": "2. Utiliza Pandas para unir ambos registros de los dos DataFrames.",
   "metadata": {
    "cell_id": "ccdc6fa6feb5473e930b23664eb6e459",
    "tags": [],
    "deepnote_cell_type": "markdown",
    "deepnote_cell_height": 69.390625
   }
  },
  {
   "cell_type": "code",
   "metadata": {
    "cell_id": "53013357230f4ad09a76c7f10c29e700",
    "tags": [],
    "deepnote_to_be_reexecuted": false,
    "source_hash": "29587a35",
    "execution_start": 1653816816153,
    "execution_millis": 18,
    "deepnote_cell_type": "code",
    "deepnote_cell_height": 99
   },
   "source": "total_wine=pd.concat([red,white], ignore_index=True)\n",
   "execution_count": 8,
   "outputs": []
  },
  {
   "cell_type": "markdown",
   "source": "3. Comprueba que el DataFrame este completo viendo sus primeras filas. Ve que la columna category esté con los datos correctos.",
   "metadata": {
    "cell_id": "1d99c5db77ad419fbb4872f221b56af0",
    "tags": [],
    "deepnote_cell_type": "markdown",
    "deepnote_cell_height": 91.796875
   }
  },
  {
   "cell_type": "code",
   "metadata": {
    "cell_id": "a6ee46dd889546cf9a67c5eed6e79a4a",
    "tags": [],
    "deepnote_to_be_reexecuted": false,
    "source_hash": "380601e4",
    "execution_start": 1653816816219,
    "execution_millis": 119,
    "deepnote_table_state": {
     "pageSize": 10,
     "pageIndex": 1,
     "filters": [],
     "sortBy": []
    },
    "deepnote_table_loading": false,
    "deepnote_cell_type": "code",
    "deepnote_cell_height": 613.59375
   },
   "source": "total_wine.sample(20)",
   "execution_count": 9,
   "outputs": [
    {
     "output_type": "execute_result",
     "execution_count": 9,
     "data": {
      "application/vnd.deepnote.dataframe.v3+json": {
       "column_count": 13,
       "row_count": 20,
       "columns": [
        {
         "name": "fixed acidity",
         "dtype": "float64",
         "stats": {
          "unique_count": 15,
          "nan_count": 0,
          "min": "5.2",
          "max": "9.4",
          "histogram": [
           {
            "bin_start": 5.2,
            "bin_end": 5.62,
            "count": 3
           },
           {
            "bin_start": 5.62,
            "bin_end": 6.04,
            "count": 1
           },
           {
            "bin_start": 6.04,
            "bin_end": 6.460000000000001,
            "count": 4
           },
           {
            "bin_start": 6.460000000000001,
            "bin_end": 6.880000000000001,
            "count": 5
           },
           {
            "bin_start": 6.880000000000001,
            "bin_end": 7.300000000000001,
            "count": 3
           },
           {
            "bin_start": 7.300000000000001,
            "bin_end": 7.720000000000001,
            "count": 1
           },
           {
            "bin_start": 7.720000000000001,
            "bin_end": 8.14,
            "count": 1
           },
           {
            "bin_start": 8.14,
            "bin_end": 8.56,
            "count": 0
           },
           {
            "bin_start": 8.56,
            "bin_end": 8.98,
            "count": 0
           },
           {
            "bin_start": 8.98,
            "bin_end": 9.4,
            "count": 2
           }
          ]
         }
        },
        {
         "name": "volatile acidity",
         "dtype": "float64",
         "stats": {
          "unique_count": 16,
          "nan_count": 0,
          "min": "0.14",
          "max": "1.1",
          "histogram": [
           {
            "bin_start": 0.14,
            "bin_end": 0.23600000000000002,
            "count": 9
           },
           {
            "bin_start": 0.23600000000000002,
            "bin_end": 0.332,
            "count": 6
           },
           {
            "bin_start": 0.332,
            "bin_end": 0.42800000000000005,
            "count": 1
           },
           {
            "bin_start": 0.42800000000000005,
            "bin_end": 0.524,
            "count": 1
           },
           {
            "bin_start": 0.524,
            "bin_end": 0.62,
            "count": 0
           },
           {
            "bin_start": 0.62,
            "bin_end": 0.7160000000000001,
            "count": 1
           },
           {
            "bin_start": 0.7160000000000001,
            "bin_end": 0.812,
            "count": 1
           },
           {
            "bin_start": 0.812,
            "bin_end": 0.908,
            "count": 0
           },
           {
            "bin_start": 0.908,
            "bin_end": 1.004,
            "count": 0
           },
           {
            "bin_start": 1.004,
            "bin_end": 1.1,
            "count": 1
           }
          ]
         }
        },
        {
         "name": "citric acid",
         "dtype": "float64",
         "stats": {
          "unique_count": 18,
          "nan_count": 0,
          "min": "0.12",
          "max": "0.68",
          "histogram": [
           {
            "bin_start": 0.12,
            "bin_end": 0.176,
            "count": 3
           },
           {
            "bin_start": 0.176,
            "bin_end": 0.232,
            "count": 1
           },
           {
            "bin_start": 0.232,
            "bin_end": 0.28800000000000003,
            "count": 2
           },
           {
            "bin_start": 0.28800000000000003,
            "bin_end": 0.34400000000000003,
            "count": 6
           },
           {
            "bin_start": 0.34400000000000003,
            "bin_end": 0.4,
            "count": 1
           },
           {
            "bin_start": 0.4,
            "bin_end": 0.45600000000000007,
            "count": 2
           },
           {
            "bin_start": 0.45600000000000007,
            "bin_end": 0.512,
            "count": 2
           },
           {
            "bin_start": 0.512,
            "bin_end": 0.5680000000000001,
            "count": 1
           },
           {
            "bin_start": 0.5680000000000001,
            "bin_end": 0.6240000000000001,
            "count": 1
           },
           {
            "bin_start": 0.6240000000000001,
            "bin_end": 0.68,
            "count": 1
           }
          ]
         }
        },
        {
         "name": "residual sugar",
         "dtype": "float64",
         "stats": {
          "unique_count": 18,
          "nan_count": 0,
          "min": "0.9",
          "max": "16.2",
          "histogram": [
           {
            "bin_start": 0.9,
            "bin_end": 2.4299999999999997,
            "count": 9
           },
           {
            "bin_start": 2.4299999999999997,
            "bin_end": 3.9599999999999995,
            "count": 1
           },
           {
            "bin_start": 3.9599999999999995,
            "bin_end": 5.49,
            "count": 4
           },
           {
            "bin_start": 5.49,
            "bin_end": 7.02,
            "count": 0
           },
           {
            "bin_start": 7.02,
            "bin_end": 8.549999999999999,
            "count": 1
           },
           {
            "bin_start": 8.549999999999999,
            "bin_end": 10.08,
            "count": 1
           },
           {
            "bin_start": 10.08,
            "bin_end": 11.61,
            "count": 0
           },
           {
            "bin_start": 11.61,
            "bin_end": 13.139999999999999,
            "count": 1
           },
           {
            "bin_start": 13.139999999999999,
            "bin_end": 14.669999999999998,
            "count": 1
           },
           {
            "bin_start": 14.669999999999998,
            "bin_end": 16.2,
            "count": 2
           }
          ]
         }
        },
        {
         "name": "chlorides",
         "dtype": "float64",
         "stats": {
          "unique_count": 18,
          "nan_count": 0,
          "min": "0.027",
          "max": "0.414",
          "histogram": [
           {
            "bin_start": 0.027,
            "bin_end": 0.0657,
            "count": 17
           },
           {
            "bin_start": 0.0657,
            "bin_end": 0.10439999999999999,
            "count": 1
           },
           {
            "bin_start": 0.10439999999999999,
            "bin_end": 0.1431,
            "count": 0
           },
           {
            "bin_start": 0.1431,
            "bin_end": 0.1818,
            "count": 0
           },
           {
            "bin_start": 0.1818,
            "bin_end": 0.2205,
            "count": 1
           },
           {
            "bin_start": 0.2205,
            "bin_end": 0.2592,
            "count": 0
           },
           {
            "bin_start": 0.2592,
            "bin_end": 0.2979,
            "count": 0
           },
           {
            "bin_start": 0.2979,
            "bin_end": 0.3366,
            "count": 0
           },
           {
            "bin_start": 0.3366,
            "bin_end": 0.3753,
            "count": 0
           },
           {
            "bin_start": 0.3753,
            "bin_end": 0.414,
            "count": 1
           }
          ]
         }
        },
        {
         "name": "free sulfur dioxide",
         "dtype": "float64",
         "stats": {
          "unique_count": 19,
          "nan_count": 0,
          "min": "5.0",
          "max": "58.0",
          "histogram": [
           {
            "bin_start": 5,
            "bin_end": 10.3,
            "count": 3
           },
           {
            "bin_start": 10.3,
            "bin_end": 15.6,
            "count": 2
           },
           {
            "bin_start": 15.6,
            "bin_end": 20.9,
            "count": 2
           },
           {
            "bin_start": 20.9,
            "bin_end": 26.2,
            "count": 1
           },
           {
            "bin_start": 26.2,
            "bin_end": 31.5,
            "count": 1
           },
           {
            "bin_start": 31.5,
            "bin_end": 36.8,
            "count": 2
           },
           {
            "bin_start": 36.8,
            "bin_end": 42.1,
            "count": 4
           },
           {
            "bin_start": 42.1,
            "bin_end": 47.4,
            "count": 2
           },
           {
            "bin_start": 47.4,
            "bin_end": 52.699999999999996,
            "count": 2
           },
           {
            "bin_start": 52.699999999999996,
            "bin_end": 58,
            "count": 1
           }
          ]
         }
        },
        {
         "name": "total sulfur dioxide",
         "dtype": "float64",
         "stats": {
          "unique_count": 18,
          "nan_count": 0,
          "min": "18.0",
          "max": "200.0",
          "histogram": [
           {
            "bin_start": 18,
            "bin_end": 36.2,
            "count": 2
           },
           {
            "bin_start": 36.2,
            "bin_end": 54.4,
            "count": 0
           },
           {
            "bin_start": 54.4,
            "bin_end": 72.6,
            "count": 1
           },
           {
            "bin_start": 72.6,
            "bin_end": 90.8,
            "count": 1
           },
           {
            "bin_start": 90.8,
            "bin_end": 109,
            "count": 4
           },
           {
            "bin_start": 109,
            "bin_end": 127.19999999999999,
            "count": 3
           },
           {
            "bin_start": 127.19999999999999,
            "bin_end": 145.39999999999998,
            "count": 5
           },
           {
            "bin_start": 145.39999999999998,
            "bin_end": 163.6,
            "count": 1
           },
           {
            "bin_start": 163.6,
            "bin_end": 181.79999999999998,
            "count": 2
           },
           {
            "bin_start": 181.79999999999998,
            "bin_end": 200,
            "count": 1
           }
          ]
         }
        },
        {
         "name": "density",
         "dtype": "float64",
         "stats": {
          "unique_count": 19,
          "nan_count": 0,
          "min": "0.98892",
          "max": "0.99872",
          "histogram": [
           {
            "bin_start": 0.98892,
            "bin_end": 0.9899,
            "count": 2
           },
           {
            "bin_start": 0.9899,
            "bin_end": 0.99088,
            "count": 6
           },
           {
            "bin_start": 0.99088,
            "bin_end": 0.9918600000000001,
            "count": 0
           },
           {
            "bin_start": 0.9918600000000001,
            "bin_end": 0.9928400000000001,
            "count": 1
           },
           {
            "bin_start": 0.9928400000000001,
            "bin_end": 0.99382,
            "count": 1
           },
           {
            "bin_start": 0.99382,
            "bin_end": 0.9948,
            "count": 0
           },
           {
            "bin_start": 0.9948,
            "bin_end": 0.99578,
            "count": 5
           },
           {
            "bin_start": 0.99578,
            "bin_end": 0.9967600000000001,
            "count": 3
           },
           {
            "bin_start": 0.9967600000000001,
            "bin_end": 0.9977400000000001,
            "count": 0
           },
           {
            "bin_start": 0.9977400000000001,
            "bin_end": 0.99872,
            "count": 2
           }
          ]
         }
        },
        {
         "name": "pH",
         "dtype": "float64",
         "stats": {
          "unique_count": 18,
          "nan_count": 0,
          "min": "2.9",
          "max": "3.55",
          "histogram": [
           {
            "bin_start": 2.9,
            "bin_end": 2.965,
            "count": 1
           },
           {
            "bin_start": 2.965,
            "bin_end": 3.03,
            "count": 2
           },
           {
            "bin_start": 3.03,
            "bin_end": 3.0949999999999998,
            "count": 1
           },
           {
            "bin_start": 3.0949999999999998,
            "bin_end": 3.1599999999999997,
            "count": 1
           },
           {
            "bin_start": 3.1599999999999997,
            "bin_end": 3.2249999999999996,
            "count": 5
           },
           {
            "bin_start": 3.2249999999999996,
            "bin_end": 3.29,
            "count": 2
           },
           {
            "bin_start": 3.29,
            "bin_end": 3.355,
            "count": 1
           },
           {
            "bin_start": 3.355,
            "bin_end": 3.42,
            "count": 3
           },
           {
            "bin_start": 3.42,
            "bin_end": 3.485,
            "count": 2
           },
           {
            "bin_start": 3.485,
            "bin_end": 3.55,
            "count": 2
           }
          ]
         }
        },
        {
         "name": "sulphates",
         "dtype": "float64",
         "stats": {
          "unique_count": 16,
          "nan_count": 0,
          "min": "0.35",
          "max": "1.33",
          "histogram": [
           {
            "bin_start": 0.35,
            "bin_end": 0.44799999999999995,
            "count": 7
           },
           {
            "bin_start": 0.44799999999999995,
            "bin_end": 0.546,
            "count": 6
           },
           {
            "bin_start": 0.546,
            "bin_end": 0.644,
            "count": 2
           },
           {
            "bin_start": 0.644,
            "bin_end": 0.742,
            "count": 1
           },
           {
            "bin_start": 0.742,
            "bin_end": 0.84,
            "count": 1
           },
           {
            "bin_start": 0.84,
            "bin_end": 0.9380000000000001,
            "count": 1
           },
           {
            "bin_start": 0.9380000000000001,
            "bin_end": 1.036,
            "count": 0
           },
           {
            "bin_start": 1.036,
            "bin_end": 1.134,
            "count": 1
           },
           {
            "bin_start": 1.134,
            "bin_end": 1.232,
            "count": 0
           },
           {
            "bin_start": 1.232,
            "bin_end": 1.33,
            "count": 1
           }
          ]
         }
        },
        {
         "name": "alcohol",
         "dtype": "float64",
         "stats": {
          "unique_count": 17,
          "nan_count": 0,
          "min": "9.0",
          "max": "13.7",
          "histogram": [
           {
            "bin_start": 9,
            "bin_end": 9.47,
            "count": 5
           },
           {
            "bin_start": 9.47,
            "bin_end": 9.94,
            "count": 1
           },
           {
            "bin_start": 9.94,
            "bin_end": 10.41,
            "count": 1
           },
           {
            "bin_start": 10.41,
            "bin_end": 10.879999999999999,
            "count": 2
           },
           {
            "bin_start": 10.879999999999999,
            "bin_end": 11.35,
            "count": 2
           },
           {
            "bin_start": 11.35,
            "bin_end": 11.82,
            "count": 1
           },
           {
            "bin_start": 11.82,
            "bin_end": 12.29,
            "count": 2
           },
           {
            "bin_start": 12.29,
            "bin_end": 12.76,
            "count": 2
           },
           {
            "bin_start": 12.76,
            "bin_end": 13.23,
            "count": 3
           },
           {
            "bin_start": 13.23,
            "bin_end": 13.7,
            "count": 1
           }
          ]
         }
        },
        {
         "name": "quality",
         "dtype": "int64",
         "stats": {
          "unique_count": 5,
          "nan_count": 0,
          "min": "4",
          "max": "8",
          "histogram": [
           {
            "bin_start": 4,
            "bin_end": 4.4,
            "count": 2
           },
           {
            "bin_start": 4.4,
            "bin_end": 4.8,
            "count": 0
           },
           {
            "bin_start": 4.8,
            "bin_end": 5.2,
            "count": 4
           },
           {
            "bin_start": 5.2,
            "bin_end": 5.6,
            "count": 0
           },
           {
            "bin_start": 5.6,
            "bin_end": 6,
            "count": 0
           },
           {
            "bin_start": 6,
            "bin_end": 6.4,
            "count": 8
           },
           {
            "bin_start": 6.4,
            "bin_end": 6.800000000000001,
            "count": 0
           },
           {
            "bin_start": 6.800000000000001,
            "bin_end": 7.2,
            "count": 5
           },
           {
            "bin_start": 7.2,
            "bin_end": 7.6,
            "count": 0
           },
           {
            "bin_start": 7.6,
            "bin_end": 8,
            "count": 1
           }
          ]
         }
        },
        {
         "name": "category",
         "dtype": "object",
         "stats": {
          "unique_count": 2,
          "nan_count": 0,
          "categories": [
           {
            "name": "white",
            "count": 17
           },
           {
            "name": "red",
            "count": 3
           }
          ]
         }
        },
        {
         "name": "_deepnote_index_column",
         "dtype": "int64"
        }
       ],
       "rows": [
        {
         "fixed acidity": 6.9,
         "volatile acidity": 0.2,
         "citric acid": 0.3,
         "residual sugar": 4.7,
         "chlorides": 0.041,
         "free sulfur dioxide": 40,
         "total sulfur dioxide": 148,
         "density": 0.9932,
         "pH": 3.16,
         "sulphates": 0.35,
         "alcohol": 10.2,
         "quality": 6,
         "category": "white",
         "_deepnote_index_column": 4490
        },
        {
         "fixed acidity": 5.6,
         "volatile acidity": 0.49,
         "citric acid": 0.13,
         "residual sugar": 4.5,
         "chlorides": 0.039,
         "free sulfur dioxide": 17,
         "total sulfur dioxide": 116,
         "density": 0.9907,
         "pH": 3.42,
         "sulphates": 0.9,
         "alcohol": 13.7,
         "quality": 7,
         "category": "white",
         "_deepnote_index_column": 2985
        },
        {
         "fixed acidity": 6.3,
         "volatile acidity": 0.27,
         "citric acid": 0.51,
         "residual sugar": 7.6,
         "chlorides": 0.049,
         "free sulfur dioxide": 35,
         "total sulfur dioxide": 200,
         "density": 0.99548,
         "pH": 3.16,
         "sulphates": 0.54,
         "alcohol": 9.4,
         "quality": 4,
         "category": "white",
         "_deepnote_index_column": 5572
        },
        {
         "fixed acidity": 6.8,
         "volatile acidity": 0.17,
         "citric acid": 0.34,
         "residual sugar": 2,
         "chlorides": 0.04,
         "free sulfur dioxide": 38,
         "total sulfur dioxide": 111,
         "density": 0.99,
         "pH": 3.24,
         "sulphates": 0.45,
         "alcohol": 12.9,
         "quality": 6,
         "category": "white",
         "_deepnote_index_column": 5061
        },
        {
         "fixed acidity": 6.3,
         "volatile acidity": 0.2,
         "citric acid": 0.37,
         "residual sugar": 11.8,
         "chlorides": 0.045,
         "free sulfur dioxide": 58,
         "total sulfur dioxide": 130,
         "density": 0.99519,
         "pH": 3.2,
         "sulphates": 0.35,
         "alcohol": 10.8,
         "quality": 5,
         "category": "white",
         "_deepnote_index_column": 4639
        },
        {
         "fixed acidity": 5.2,
         "volatile acidity": 0.24,
         "citric acid": 0.45,
         "residual sugar": 3.8,
         "chlorides": 0.027,
         "free sulfur dioxide": 21,
         "total sulfur dioxide": 128,
         "density": 0.992,
         "pH": 3.55,
         "sulphates": 0.49,
         "alcohol": 11.2,
         "quality": 8,
         "category": "white",
         "_deepnote_index_column": 2705
        },
        {
         "fixed acidity": 7.2,
         "volatile acidity": 0.2,
         "citric acid": 0.61,
         "residual sugar": 16.2,
         "chlorides": 0.043,
         "free sulfur dioxide": 14,
         "total sulfur dioxide": 103,
         "density": 0.9987,
         "pH": 3.06,
         "sulphates": 0.36,
         "alcohol": 9.2,
         "quality": 6,
         "category": "white",
         "_deepnote_index_column": 3478
        },
        {
         "fixed acidity": 5.9,
         "volatile acidity": 0.34,
         "citric acid": 0.31,
         "residual sugar": 2,
         "chlorides": 0.03,
         "free sulfur dioxide": 38,
         "total sulfur dioxide": 142,
         "density": 0.98892,
         "pH": 3.4,
         "sulphates": 0.41,
         "alcohol": 12.9,
         "quality": 7,
         "category": "white",
         "_deepnote_index_column": 4269
        },
        {
         "fixed acidity": 6.7,
         "volatile acidity": 0.22,
         "citric acid": 0.33,
         "residual sugar": 1.2,
         "chlorides": 0.036,
         "free sulfur dioxide": 36,
         "total sulfur dioxide": 86,
         "density": 0.99058,
         "pH": 3.1,
         "sulphates": 0.76,
         "alcohol": 11.4,
         "quality": 6,
         "category": "white",
         "_deepnote_index_column": 6426
        },
        {
         "fixed acidity": 7.4,
         "volatile acidity": 0.67,
         "citric acid": 0.12,
         "residual sugar": 1.6,
         "chlorides": 0.186,
         "free sulfur dioxide": 5,
         "total sulfur dioxide": 21,
         "density": 0.996,
         "pH": 3.39,
         "sulphates": 0.54,
         "alcohol": 9.5,
         "quality": 5,
         "category": "red",
         "_deepnote_index_column": 303
        }
       ]
      },
      "text/plain": "      fixed acidity  volatile acidity  citric acid  residual sugar  chlorides  \\\n1319            9.1              0.76         0.68            1.70      0.414   \n6090            6.1              0.28         0.23            4.20      0.038   \n2839            7.9              0.14         0.28            1.80      0.041   \n5528            6.6              0.32         0.47           15.60      0.063   \n4742            5.5              0.19         0.27            0.90      0.040   \n2260            6.8              0.25         0.34           14.00      0.032   \n369             9.4              0.27         0.53            2.40      0.074   \n1692            6.9              0.21         0.33            1.80      0.034   \n5070            6.8              0.19         0.40            9.85      0.055   \n5638            6.1              1.10         0.16            4.40      0.033   \n4490            6.9              0.20         0.30            4.70      0.041   \n2985            5.6              0.49         0.13            4.50      0.039   \n5572            6.3              0.27         0.51            7.60      0.049   \n5061            6.8              0.17         0.34            2.00      0.040   \n4639            6.3              0.20         0.37           11.80      0.045   \n2705            5.2              0.24         0.45            3.80      0.027   \n3478            7.2              0.20         0.61           16.20      0.043   \n4269            5.9              0.34         0.31            2.00      0.030   \n6426            6.7              0.22         0.33            1.20      0.036   \n303             7.4              0.67         0.12            1.60      0.186   \n\n      free sulfur dioxide  total sulfur dioxide  density    pH  sulphates  \\\n1319                 18.0                  64.0  0.99652  2.90       1.33   \n6090                 13.0                  95.0  0.98898  2.97       0.70   \n2839                 44.0                 178.0  0.99540  3.45       0.43   \n5528                 27.0                 173.0  0.99872  3.18       0.56   \n4742                 52.0                 103.0  0.99026  3.50       0.39   \n2260                 47.0                 133.0  0.99520  3.37       0.50   \n369                   6.0                  18.0  0.99620  3.20       1.13   \n1692                 48.0                 136.0  0.98990  3.25       0.41   \n5070                 41.0                 103.0  0.99532  2.98       0.56   \n5638                  8.0                 109.0  0.99058  3.35       0.47   \n4490                 40.0                 148.0  0.99320  3.16       0.35   \n2985                 17.0                 116.0  0.99070  3.42       0.90   \n5572                 35.0                 200.0  0.99548  3.16       0.54   \n5061                 38.0                 111.0  0.99000  3.24       0.45   \n4639                 58.0                 130.0  0.99519  3.20       0.35   \n2705                 21.0                 128.0  0.99200  3.55       0.49   \n3478                 14.0                 103.0  0.99870  3.06       0.36   \n4269                 38.0                 142.0  0.98892  3.40       0.41   \n6426                 36.0                  86.0  0.99058  3.10       0.76   \n303                   5.0                  21.0  0.99600  3.39       0.54   \n\n      alcohol  quality category  \n1319      9.1        6      red  \n6090     13.1        6    white  \n2839      9.2        6    white  \n5528      9.0        5    white  \n4742     11.2        5    white  \n2260     12.2        7    white  \n369      12.0        7      red  \n1692     12.6        7    white  \n5070     10.5        6    white  \n5638     12.4        4    white  \n4490     10.2        6    white  \n2985     13.7        7    white  \n5572      9.4        4    white  \n5061     12.9        6    white  \n4639     10.8        5    white  \n2705     11.2        8    white  \n3478      9.2        6    white  \n4269     12.9        7    white  \n6426     11.4        6    white  \n303       9.5        5      red  ",
      "text/html": "<div>\n<style scoped>\n    .dataframe tbody tr th:only-of-type {\n        vertical-align: middle;\n    }\n\n    .dataframe tbody tr th {\n        vertical-align: top;\n    }\n\n    .dataframe thead th {\n        text-align: right;\n    }\n</style>\n<table border=\"1\" class=\"dataframe\">\n  <thead>\n    <tr style=\"text-align: right;\">\n      <th></th>\n      <th>fixed acidity</th>\n      <th>volatile acidity</th>\n      <th>citric acid</th>\n      <th>residual sugar</th>\n      <th>chlorides</th>\n      <th>free sulfur dioxide</th>\n      <th>total sulfur dioxide</th>\n      <th>density</th>\n      <th>pH</th>\n      <th>sulphates</th>\n      <th>alcohol</th>\n      <th>quality</th>\n      <th>category</th>\n    </tr>\n  </thead>\n  <tbody>\n    <tr>\n      <th>1319</th>\n      <td>9.1</td>\n      <td>0.76</td>\n      <td>0.68</td>\n      <td>1.70</td>\n      <td>0.414</td>\n      <td>18.0</td>\n      <td>64.0</td>\n      <td>0.99652</td>\n      <td>2.90</td>\n      <td>1.33</td>\n      <td>9.1</td>\n      <td>6</td>\n      <td>red</td>\n    </tr>\n    <tr>\n      <th>6090</th>\n      <td>6.1</td>\n      <td>0.28</td>\n      <td>0.23</td>\n      <td>4.20</td>\n      <td>0.038</td>\n      <td>13.0</td>\n      <td>95.0</td>\n      <td>0.98898</td>\n      <td>2.97</td>\n      <td>0.70</td>\n      <td>13.1</td>\n      <td>6</td>\n      <td>white</td>\n    </tr>\n    <tr>\n      <th>2839</th>\n      <td>7.9</td>\n      <td>0.14</td>\n      <td>0.28</td>\n      <td>1.80</td>\n      <td>0.041</td>\n      <td>44.0</td>\n      <td>178.0</td>\n      <td>0.99540</td>\n      <td>3.45</td>\n      <td>0.43</td>\n      <td>9.2</td>\n      <td>6</td>\n      <td>white</td>\n    </tr>\n    <tr>\n      <th>5528</th>\n      <td>6.6</td>\n      <td>0.32</td>\n      <td>0.47</td>\n      <td>15.60</td>\n      <td>0.063</td>\n      <td>27.0</td>\n      <td>173.0</td>\n      <td>0.99872</td>\n      <td>3.18</td>\n      <td>0.56</td>\n      <td>9.0</td>\n      <td>5</td>\n      <td>white</td>\n    </tr>\n    <tr>\n      <th>4742</th>\n      <td>5.5</td>\n      <td>0.19</td>\n      <td>0.27</td>\n      <td>0.90</td>\n      <td>0.040</td>\n      <td>52.0</td>\n      <td>103.0</td>\n      <td>0.99026</td>\n      <td>3.50</td>\n      <td>0.39</td>\n      <td>11.2</td>\n      <td>5</td>\n      <td>white</td>\n    </tr>\n    <tr>\n      <th>2260</th>\n      <td>6.8</td>\n      <td>0.25</td>\n      <td>0.34</td>\n      <td>14.00</td>\n      <td>0.032</td>\n      <td>47.0</td>\n      <td>133.0</td>\n      <td>0.99520</td>\n      <td>3.37</td>\n      <td>0.50</td>\n      <td>12.2</td>\n      <td>7</td>\n      <td>white</td>\n    </tr>\n    <tr>\n      <th>369</th>\n      <td>9.4</td>\n      <td>0.27</td>\n      <td>0.53</td>\n      <td>2.40</td>\n      <td>0.074</td>\n      <td>6.0</td>\n      <td>18.0</td>\n      <td>0.99620</td>\n      <td>3.20</td>\n      <td>1.13</td>\n      <td>12.0</td>\n      <td>7</td>\n      <td>red</td>\n    </tr>\n    <tr>\n      <th>1692</th>\n      <td>6.9</td>\n      <td>0.21</td>\n      <td>0.33</td>\n      <td>1.80</td>\n      <td>0.034</td>\n      <td>48.0</td>\n      <td>136.0</td>\n      <td>0.98990</td>\n      <td>3.25</td>\n      <td>0.41</td>\n      <td>12.6</td>\n      <td>7</td>\n      <td>white</td>\n    </tr>\n    <tr>\n      <th>5070</th>\n      <td>6.8</td>\n      <td>0.19</td>\n      <td>0.40</td>\n      <td>9.85</td>\n      <td>0.055</td>\n      <td>41.0</td>\n      <td>103.0</td>\n      <td>0.99532</td>\n      <td>2.98</td>\n      <td>0.56</td>\n      <td>10.5</td>\n      <td>6</td>\n      <td>white</td>\n    </tr>\n    <tr>\n      <th>5638</th>\n      <td>6.1</td>\n      <td>1.10</td>\n      <td>0.16</td>\n      <td>4.40</td>\n      <td>0.033</td>\n      <td>8.0</td>\n      <td>109.0</td>\n      <td>0.99058</td>\n      <td>3.35</td>\n      <td>0.47</td>\n      <td>12.4</td>\n      <td>4</td>\n      <td>white</td>\n    </tr>\n    <tr>\n      <th>4490</th>\n      <td>6.9</td>\n      <td>0.20</td>\n      <td>0.30</td>\n      <td>4.70</td>\n      <td>0.041</td>\n      <td>40.0</td>\n      <td>148.0</td>\n      <td>0.99320</td>\n      <td>3.16</td>\n      <td>0.35</td>\n      <td>10.2</td>\n      <td>6</td>\n      <td>white</td>\n    </tr>\n    <tr>\n      <th>2985</th>\n      <td>5.6</td>\n      <td>0.49</td>\n      <td>0.13</td>\n      <td>4.50</td>\n      <td>0.039</td>\n      <td>17.0</td>\n      <td>116.0</td>\n      <td>0.99070</td>\n      <td>3.42</td>\n      <td>0.90</td>\n      <td>13.7</td>\n      <td>7</td>\n      <td>white</td>\n    </tr>\n    <tr>\n      <th>5572</th>\n      <td>6.3</td>\n      <td>0.27</td>\n      <td>0.51</td>\n      <td>7.60</td>\n      <td>0.049</td>\n      <td>35.0</td>\n      <td>200.0</td>\n      <td>0.99548</td>\n      <td>3.16</td>\n      <td>0.54</td>\n      <td>9.4</td>\n      <td>4</td>\n      <td>white</td>\n    </tr>\n    <tr>\n      <th>5061</th>\n      <td>6.8</td>\n      <td>0.17</td>\n      <td>0.34</td>\n      <td>2.00</td>\n      <td>0.040</td>\n      <td>38.0</td>\n      <td>111.0</td>\n      <td>0.99000</td>\n      <td>3.24</td>\n      <td>0.45</td>\n      <td>12.9</td>\n      <td>6</td>\n      <td>white</td>\n    </tr>\n    <tr>\n      <th>4639</th>\n      <td>6.3</td>\n      <td>0.20</td>\n      <td>0.37</td>\n      <td>11.80</td>\n      <td>0.045</td>\n      <td>58.0</td>\n      <td>130.0</td>\n      <td>0.99519</td>\n      <td>3.20</td>\n      <td>0.35</td>\n      <td>10.8</td>\n      <td>5</td>\n      <td>white</td>\n    </tr>\n    <tr>\n      <th>2705</th>\n      <td>5.2</td>\n      <td>0.24</td>\n      <td>0.45</td>\n      <td>3.80</td>\n      <td>0.027</td>\n      <td>21.0</td>\n      <td>128.0</td>\n      <td>0.99200</td>\n      <td>3.55</td>\n      <td>0.49</td>\n      <td>11.2</td>\n      <td>8</td>\n      <td>white</td>\n    </tr>\n    <tr>\n      <th>3478</th>\n      <td>7.2</td>\n      <td>0.20</td>\n      <td>0.61</td>\n      <td>16.20</td>\n      <td>0.043</td>\n      <td>14.0</td>\n      <td>103.0</td>\n      <td>0.99870</td>\n      <td>3.06</td>\n      <td>0.36</td>\n      <td>9.2</td>\n      <td>6</td>\n      <td>white</td>\n    </tr>\n    <tr>\n      <th>4269</th>\n      <td>5.9</td>\n      <td>0.34</td>\n      <td>0.31</td>\n      <td>2.00</td>\n      <td>0.030</td>\n      <td>38.0</td>\n      <td>142.0</td>\n      <td>0.98892</td>\n      <td>3.40</td>\n      <td>0.41</td>\n      <td>12.9</td>\n      <td>7</td>\n      <td>white</td>\n    </tr>\n    <tr>\n      <th>6426</th>\n      <td>6.7</td>\n      <td>0.22</td>\n      <td>0.33</td>\n      <td>1.20</td>\n      <td>0.036</td>\n      <td>36.0</td>\n      <td>86.0</td>\n      <td>0.99058</td>\n      <td>3.10</td>\n      <td>0.76</td>\n      <td>11.4</td>\n      <td>6</td>\n      <td>white</td>\n    </tr>\n    <tr>\n      <th>303</th>\n      <td>7.4</td>\n      <td>0.67</td>\n      <td>0.12</td>\n      <td>1.60</td>\n      <td>0.186</td>\n      <td>5.0</td>\n      <td>21.0</td>\n      <td>0.99600</td>\n      <td>3.39</td>\n      <td>0.54</td>\n      <td>9.5</td>\n      <td>5</td>\n      <td>red</td>\n    </tr>\n  </tbody>\n</table>\n</div>"
     },
     "metadata": {}
    }
   ]
  },
  {
   "cell_type": "markdown",
   "source": "### *Clases sugeridas*:\n\n- [Agregar o eliminar datos con Pandas](https://platzi.com/clases/2912-pandas-numpy/47987-agregar-o-eliminar-datos-con-pandas/?utm_source=contenido&utm_medium=organic&utm_campaign=ejercicio-eda)",
   "metadata": {
    "cell_id": "79d9e9cdaacc4adc92adfe47f5762916",
    "tags": [],
    "deepnote_cell_type": "markdown",
    "deepnote_cell_height": 114.390625
   }
  },
  {
   "cell_type": "markdown",
   "source": "## Exploración inicial de los datos y validación\n\n1. Consigue la cantidad de filas y columnas del DataFrame.",
   "metadata": {
    "cell_id": "2a56ed49ffee483e83a5308b51358fd7",
    "tags": [],
    "deepnote_cell_type": "markdown",
    "deepnote_cell_height": 122.390625
   }
  },
  {
   "cell_type": "code",
   "metadata": {
    "cell_id": "fd39d7d00be04069bcc21278833739f5",
    "tags": [],
    "deepnote_to_be_reexecuted": false,
    "source_hash": "d8fa1718",
    "execution_start": 1653816816292,
    "execution_millis": 47,
    "deepnote_cell_type": "code",
    "deepnote_cell_height": 118.1875,
    "deepnote_output_heights": [
     21.1875
    ]
   },
   "source": "total_wine.shape",
   "execution_count": 10,
   "outputs": [
    {
     "output_type": "execute_result",
     "execution_count": 10,
     "data": {
      "text/plain": "(6497, 13)"
     },
     "metadata": {}
    }
   ]
  },
  {
   "cell_type": "markdown",
   "source": "2. Conoce los tipos de datos de cada característica/variable y si tienen valores nulos.",
   "metadata": {
    "cell_id": "e51d856ceed541f0a29750ab4552a3a2",
    "tags": [],
    "deepnote_cell_type": "markdown",
    "deepnote_cell_height": 69.390625
   }
  },
  {
   "cell_type": "code",
   "metadata": {
    "cell_id": "714ff50244324079b16bf6b81f2c8f58",
    "tags": [],
    "deepnote_to_be_reexecuted": false,
    "source_hash": "95ef58e6",
    "execution_start": 1653816816359,
    "execution_millis": 4,
    "deepnote_table_state": {
     "pageSize": 10,
     "pageIndex": 0,
     "filters": [],
     "sortBy": []
    },
    "deepnote_table_loading": false,
    "deepnote_cell_type": "code",
    "deepnote_cell_height": 367.78125,
    "deepnote_output_heights": [
     270.796875
    ]
   },
   "source": "total_wine.dtypes",
   "execution_count": 11,
   "outputs": [
    {
     "output_type": "execute_result",
     "execution_count": 11,
     "data": {
      "text/plain": "fixed acidity           float64\nvolatile acidity        float64\ncitric acid             float64\nresidual sugar          float64\nchlorides               float64\nfree sulfur dioxide     float64\ntotal sulfur dioxide    float64\ndensity                 float64\npH                      float64\nsulphates               float64\nalcohol                 float64\nquality                   int64\ncategory                 object\ndtype: object"
     },
     "metadata": {}
    }
   ]
  },
  {
   "cell_type": "code",
   "metadata": {
    "cell_id": "224801f1ff594452b554b933cdb5a33b",
    "tags": [],
    "deepnote_to_be_reexecuted": false,
    "source_hash": "fc52a4c8",
    "execution_start": 1653816816360,
    "execution_millis": 3,
    "deepnote_cell_type": "code",
    "deepnote_cell_height": 367.78125,
    "deepnote_output_heights": [
     270.796875
    ]
   },
   "source": "total_wine.isna().sum()",
   "execution_count": 12,
   "outputs": [
    {
     "output_type": "execute_result",
     "execution_count": 12,
     "data": {
      "text/plain": "fixed acidity           0\nvolatile acidity        0\ncitric acid             0\nresidual sugar          0\nchlorides               0\nfree sulfur dioxide     0\ntotal sulfur dioxide    0\ndensity                 0\npH                      0\nsulphates               0\nalcohol                 0\nquality                 0\ncategory                0\ndtype: int64"
     },
     "metadata": {}
    }
   ]
  },
  {
   "cell_type": "markdown",
   "source": "3. Cálcula las estadísticas descriptivas del dataset. Observa a detalle las estadísticas e identifica si existen diferencias altas entre cada percentil y en los percentilees extremos con valores máximos y mínimos de cada característica/variable.",
   "metadata": {
    "cell_id": "de1604ee55d2490d98427e335886f161",
    "tags": [],
    "deepnote_cell_type": "markdown",
    "deepnote_cell_height": 114.1875
   }
  },
  {
   "cell_type": "code",
   "metadata": {
    "cell_id": "e18e89953c1142a1ad1e78cc621be16e",
    "tags": [],
    "deepnote_to_be_reexecuted": false,
    "source_hash": "74ab6eec",
    "execution_start": 1653816816361,
    "execution_millis": 114,
    "deepnote_cell_type": "code",
    "deepnote_cell_height": 531.59375
   },
   "source": "total_wine.describe()",
   "execution_count": 13,
   "outputs": [
    {
     "output_type": "execute_result",
     "execution_count": 13,
     "data": {
      "application/vnd.deepnote.dataframe.v3+json": {
       "column_count": 12,
       "row_count": 8,
       "columns": [
        {
         "name": "fixed acidity",
         "dtype": "float64",
         "stats": {
          "unique_count": 8,
          "nan_count": 0,
          "min": "1.2964337577998153",
          "max": "6497.0",
          "histogram": [
           {
            "bin_start": 1.2964337577998153,
            "bin_end": 650.8667903820199,
            "count": 7
           },
           {
            "bin_start": 650.8667903820199,
            "bin_end": 1300.43714700624,
            "count": 0
           },
           {
            "bin_start": 1300.43714700624,
            "bin_end": 1950.00750363046,
            "count": 0
           },
           {
            "bin_start": 1950.00750363046,
            "bin_end": 2599.5778602546798,
            "count": 0
           },
           {
            "bin_start": 2599.5778602546798,
            "bin_end": 3249.1482168789,
            "count": 0
           },
           {
            "bin_start": 3249.1482168789,
            "bin_end": 3898.71857350312,
            "count": 0
           },
           {
            "bin_start": 3898.71857350312,
            "bin_end": 4548.28893012734,
            "count": 0
           },
           {
            "bin_start": 4548.28893012734,
            "bin_end": 5197.85928675156,
            "count": 0
           },
           {
            "bin_start": 5197.85928675156,
            "bin_end": 5847.42964337578,
            "count": 0
           },
           {
            "bin_start": 5847.42964337578,
            "bin_end": 6497,
            "count": 1
           }
          ]
         }
        },
        {
         "name": "volatile acidity",
         "dtype": "float64",
         "stats": {
          "unique_count": 8,
          "nan_count": 0,
          "min": "0.08",
          "max": "6497.0",
          "histogram": [
           {
            "bin_start": 0.08,
            "bin_end": 649.772,
            "count": 7
           },
           {
            "bin_start": 649.772,
            "bin_end": 1299.464,
            "count": 0
           },
           {
            "bin_start": 1299.464,
            "bin_end": 1949.156,
            "count": 0
           },
           {
            "bin_start": 1949.156,
            "bin_end": 2598.848,
            "count": 0
           },
           {
            "bin_start": 2598.848,
            "bin_end": 3248.54,
            "count": 0
           },
           {
            "bin_start": 3248.54,
            "bin_end": 3898.232,
            "count": 0
           },
           {
            "bin_start": 3898.232,
            "bin_end": 4547.924,
            "count": 0
           },
           {
            "bin_start": 4547.924,
            "bin_end": 5197.616,
            "count": 0
           },
           {
            "bin_start": 5197.616,
            "bin_end": 5847.308,
            "count": 0
           },
           {
            "bin_start": 5847.308,
            "bin_end": 6497,
            "count": 1
           }
          ]
         }
        },
        {
         "name": "citric acid",
         "dtype": "float64",
         "stats": {
          "unique_count": 8,
          "nan_count": 0,
          "min": "0.0",
          "max": "6497.0",
          "histogram": [
           {
            "bin_start": 0,
            "bin_end": 649.7,
            "count": 7
           },
           {
            "bin_start": 649.7,
            "bin_end": 1299.4,
            "count": 0
           },
           {
            "bin_start": 1299.4,
            "bin_end": 1949.1000000000001,
            "count": 0
           },
           {
            "bin_start": 1949.1000000000001,
            "bin_end": 2598.8,
            "count": 0
           },
           {
            "bin_start": 2598.8,
            "bin_end": 3248.5,
            "count": 0
           },
           {
            "bin_start": 3248.5,
            "bin_end": 3898.2000000000003,
            "count": 0
           },
           {
            "bin_start": 3898.2000000000003,
            "bin_end": 4547.900000000001,
            "count": 0
           },
           {
            "bin_start": 4547.900000000001,
            "bin_end": 5197.6,
            "count": 0
           },
           {
            "bin_start": 5197.6,
            "bin_end": 5847.3,
            "count": 0
           },
           {
            "bin_start": 5847.3,
            "bin_end": 6497,
            "count": 1
           }
          ]
         }
        },
        {
         "name": "residual sugar",
         "dtype": "float64",
         "stats": {
          "unique_count": 8,
          "nan_count": 0,
          "min": "0.6",
          "max": "6497.0",
          "histogram": [
           {
            "bin_start": 0.6,
            "bin_end": 650.24,
            "count": 7
           },
           {
            "bin_start": 650.24,
            "bin_end": 1299.8799999999999,
            "count": 0
           },
           {
            "bin_start": 1299.8799999999999,
            "bin_end": 1949.52,
            "count": 0
           },
           {
            "bin_start": 1949.52,
            "bin_end": 2599.16,
            "count": 0
           },
           {
            "bin_start": 2599.16,
            "bin_end": 3248.7999999999997,
            "count": 0
           },
           {
            "bin_start": 3248.7999999999997,
            "bin_end": 3898.44,
            "count": 0
           },
           {
            "bin_start": 3898.44,
            "bin_end": 4548.08,
            "count": 0
           },
           {
            "bin_start": 4548.08,
            "bin_end": 5197.72,
            "count": 0
           },
           {
            "bin_start": 5197.72,
            "bin_end": 5847.360000000001,
            "count": 0
           },
           {
            "bin_start": 5847.360000000001,
            "bin_end": 6497,
            "count": 1
           }
          ]
         }
        },
        {
         "name": "chlorides",
         "dtype": "float64",
         "stats": {
          "unique_count": 8,
          "nan_count": 0,
          "min": "0.009",
          "max": "6497.0",
          "histogram": [
           {
            "bin_start": 0.009,
            "bin_end": 649.7081000000001,
            "count": 7
           },
           {
            "bin_start": 649.7081000000001,
            "bin_end": 1299.4072,
            "count": 0
           },
           {
            "bin_start": 1299.4072,
            "bin_end": 1949.1063000000001,
            "count": 0
           },
           {
            "bin_start": 1949.1063000000001,
            "bin_end": 2598.8054,
            "count": 0
           },
           {
            "bin_start": 2598.8054,
            "bin_end": 3248.5045,
            "count": 0
           },
           {
            "bin_start": 3248.5045,
            "bin_end": 3898.2036000000003,
            "count": 0
           },
           {
            "bin_start": 3898.2036000000003,
            "bin_end": 4547.902700000001,
            "count": 0
           },
           {
            "bin_start": 4547.902700000001,
            "bin_end": 5197.6018,
            "count": 0
           },
           {
            "bin_start": 5197.6018,
            "bin_end": 5847.3009,
            "count": 0
           },
           {
            "bin_start": 5847.3009,
            "bin_end": 6497,
            "count": 1
           }
          ]
         }
        },
        {
         "name": "free sulfur dioxide",
         "dtype": "float64",
         "stats": {
          "unique_count": 8,
          "nan_count": 0,
          "min": "1.0",
          "max": "6497.0",
          "histogram": [
           {
            "bin_start": 1,
            "bin_end": 650.6,
            "count": 7
           },
           {
            "bin_start": 650.6,
            "bin_end": 1300.2,
            "count": 0
           },
           {
            "bin_start": 1300.2,
            "bin_end": 1949.8000000000002,
            "count": 0
           },
           {
            "bin_start": 1949.8000000000002,
            "bin_end": 2599.4,
            "count": 0
           },
           {
            "bin_start": 2599.4,
            "bin_end": 3249,
            "count": 0
           },
           {
            "bin_start": 3249,
            "bin_end": 3898.6000000000004,
            "count": 0
           },
           {
            "bin_start": 3898.6000000000004,
            "bin_end": 4548.2,
            "count": 0
           },
           {
            "bin_start": 4548.2,
            "bin_end": 5197.8,
            "count": 0
           },
           {
            "bin_start": 5197.8,
            "bin_end": 5847.400000000001,
            "count": 0
           },
           {
            "bin_start": 5847.400000000001,
            "bin_end": 6497,
            "count": 1
           }
          ]
         }
        },
        {
         "name": "total sulfur dioxide",
         "dtype": "float64",
         "stats": {
          "unique_count": 8,
          "nan_count": 0,
          "min": "6.0",
          "max": "6497.0",
          "histogram": [
           {
            "bin_start": 6,
            "bin_end": 655.1,
            "count": 7
           },
           {
            "bin_start": 655.1,
            "bin_end": 1304.2,
            "count": 0
           },
           {
            "bin_start": 1304.2,
            "bin_end": 1953.3000000000002,
            "count": 0
           },
           {
            "bin_start": 1953.3000000000002,
            "bin_end": 2602.4,
            "count": 0
           },
           {
            "bin_start": 2602.4,
            "bin_end": 3251.5,
            "count": 0
           },
           {
            "bin_start": 3251.5,
            "bin_end": 3900.6000000000004,
            "count": 0
           },
           {
            "bin_start": 3900.6000000000004,
            "bin_end": 4549.7,
            "count": 0
           },
           {
            "bin_start": 4549.7,
            "bin_end": 5198.8,
            "count": 0
           },
           {
            "bin_start": 5198.8,
            "bin_end": 5847.900000000001,
            "count": 0
           },
           {
            "bin_start": 5847.900000000001,
            "bin_end": 6497,
            "count": 1
           }
          ]
         }
        },
        {
         "name": "density",
         "dtype": "float64",
         "stats": {
          "unique_count": 8,
          "nan_count": 0,
          "min": "0.0029986730037190393",
          "max": "6497.0",
          "histogram": [
           {
            "bin_start": 0.0029986730037190393,
            "bin_end": 649.7026988057034,
            "count": 7
           },
           {
            "bin_start": 649.7026988057034,
            "bin_end": 1299.4023989384032,
            "count": 0
           },
           {
            "bin_start": 1299.4023989384032,
            "bin_end": 1949.1020990711029,
            "count": 0
           },
           {
            "bin_start": 1949.1020990711029,
            "bin_end": 2598.8017992038026,
            "count": 0
           },
           {
            "bin_start": 2598.8017992038026,
            "bin_end": 3248.5014993365025,
            "count": 0
           },
           {
            "bin_start": 3248.5014993365025,
            "bin_end": 3898.201199469202,
            "count": 0
           },
           {
            "bin_start": 3898.201199469202,
            "bin_end": 4547.900899601901,
            "count": 0
           },
           {
            "bin_start": 4547.900899601901,
            "bin_end": 5197.600599734601,
            "count": 0
           },
           {
            "bin_start": 5197.600599734601,
            "bin_end": 5847.300299867301,
            "count": 0
           },
           {
            "bin_start": 5847.300299867301,
            "bin_end": 6497,
            "count": 1
           }
          ]
         }
        },
        {
         "name": "pH",
         "dtype": "float64",
         "stats": {
          "unique_count": 8,
          "nan_count": 0,
          "min": "0.16078720210398764",
          "max": "6497.0",
          "histogram": [
           {
            "bin_start": 0.16078720210398764,
            "bin_end": 649.8447084818936,
            "count": 7
           },
           {
            "bin_start": 649.8447084818936,
            "bin_end": 1299.5286297616833,
            "count": 0
           },
           {
            "bin_start": 1299.5286297616833,
            "bin_end": 1949.212551041473,
            "count": 0
           },
           {
            "bin_start": 1949.212551041473,
            "bin_end": 2598.8964723212625,
            "count": 0
           },
           {
            "bin_start": 2598.8964723212625,
            "bin_end": 3248.580393601052,
            "count": 0
           },
           {
            "bin_start": 3248.580393601052,
            "bin_end": 3898.264314880842,
            "count": 0
           },
           {
            "bin_start": 3898.264314880842,
            "bin_end": 4547.9482361606315,
            "count": 0
           },
           {
            "bin_start": 4547.9482361606315,
            "bin_end": 5197.632157440421,
            "count": 0
           },
           {
            "bin_start": 5197.632157440421,
            "bin_end": 5847.3160787202105,
            "count": 0
           },
           {
            "bin_start": 5847.3160787202105,
            "bin_end": 6497,
            "count": 1
           }
          ]
         }
        },
        {
         "name": "sulphates",
         "dtype": "float64",
         "stats": {
          "unique_count": 8,
          "nan_count": 0,
          "min": "0.14880587361449027",
          "max": "6497.0",
          "histogram": [
           {
            "bin_start": 0.14880587361449027,
            "bin_end": 649.8339252862531,
            "count": 7
           },
           {
            "bin_start": 649.8339252862531,
            "bin_end": 1299.5190446988918,
            "count": 0
           },
           {
            "bin_start": 1299.5190446988918,
            "bin_end": 1949.2041641115304,
            "count": 0
           },
           {
            "bin_start": 1949.2041641115304,
            "bin_end": 2598.889283524169,
            "count": 0
           },
           {
            "bin_start": 2598.889283524169,
            "bin_end": 3248.5744029368075,
            "count": 0
           },
           {
            "bin_start": 3248.5744029368075,
            "bin_end": 3898.2595223494463,
            "count": 0
           },
           {
            "bin_start": 3898.2595223494463,
            "bin_end": 4547.944641762085,
            "count": 0
           },
           {
            "bin_start": 4547.944641762085,
            "bin_end": 5197.629761174723,
            "count": 0
           },
           {
            "bin_start": 5197.629761174723,
            "bin_end": 5847.314880587362,
            "count": 0
           },
           {
            "bin_start": 5847.314880587362,
            "bin_end": 6497,
            "count": 1
           }
          ]
         }
        },
        {
         "name": "alcohol",
         "dtype": "float64",
         "stats": {
          "unique_count": 8,
          "nan_count": 0,
          "min": "1.192711748870993",
          "max": "6497.0",
          "histogram": [
           {
            "bin_start": 1.192711748870993,
            "bin_end": 650.7734405739839,
            "count": 7
           },
           {
            "bin_start": 650.7734405739839,
            "bin_end": 1300.3541693990967,
            "count": 0
           },
           {
            "bin_start": 1300.3541693990967,
            "bin_end": 1949.9348982242095,
            "count": 0
           },
           {
            "bin_start": 1949.9348982242095,
            "bin_end": 2599.515627049322,
            "count": 0
           },
           {
            "bin_start": 2599.515627049322,
            "bin_end": 3249.0963558744347,
            "count": 0
           },
           {
            "bin_start": 3249.0963558744347,
            "bin_end": 3898.677084699548,
            "count": 0
           },
           {
            "bin_start": 3898.677084699548,
            "bin_end": 4548.257813524661,
            "count": 0
           },
           {
            "bin_start": 4548.257813524661,
            "bin_end": 5197.838542349774,
            "count": 0
           },
           {
            "bin_start": 5197.838542349774,
            "bin_end": 5847.4192711748865,
            "count": 0
           },
           {
            "bin_start": 5847.4192711748865,
            "bin_end": 6497,
            "count": 1
           }
          ]
         }
        },
        {
         "name": "quality",
         "dtype": "float64",
         "stats": {
          "unique_count": 7,
          "nan_count": 0,
          "min": "0.8732552715311248",
          "max": "6497.0",
          "histogram": [
           {
            "bin_start": 0.8732552715311248,
            "bin_end": 650.485929744378,
            "count": 7
           },
           {
            "bin_start": 650.485929744378,
            "bin_end": 1300.098604217225,
            "count": 0
           },
           {
            "bin_start": 1300.098604217225,
            "bin_end": 1949.711278690072,
            "count": 0
           },
           {
            "bin_start": 1949.711278690072,
            "bin_end": 2599.3239531629188,
            "count": 0
           },
           {
            "bin_start": 2599.3239531629188,
            "bin_end": 3248.936627635766,
            "count": 0
           },
           {
            "bin_start": 3248.936627635766,
            "bin_end": 3898.5493021086127,
            "count": 0
           },
           {
            "bin_start": 3898.5493021086127,
            "bin_end": 4548.161976581459,
            "count": 0
           },
           {
            "bin_start": 4548.161976581459,
            "bin_end": 5197.774651054307,
            "count": 0
           },
           {
            "bin_start": 5197.774651054307,
            "bin_end": 5847.387325527154,
            "count": 0
           },
           {
            "bin_start": 5847.387325527154,
            "bin_end": 6497,
            "count": 1
           }
          ]
         }
        },
        {
         "name": "_deepnote_index_column",
         "dtype": "object"
        }
       ],
       "rows": [
        {
         "fixed acidity": 6497,
         "volatile acidity": 6497,
         "citric acid": 6497,
         "residual sugar": 6497,
         "chlorides": 6497,
         "free sulfur dioxide": 6497,
         "total sulfur dioxide": 6497,
         "density": 6497,
         "pH": 6497,
         "sulphates": 6497,
         "alcohol": 6497,
         "quality": 6497,
         "_deepnote_index_column": "count"
        },
        {
         "fixed acidity": 7.215307064799139,
         "volatile acidity": 0.3396659996921656,
         "citric acid": 0.3186332153301524,
         "residual sugar": 5.443235339387409,
         "chlorides": 0.05603386178236109,
         "free sulfur dioxide": 30.525319378174544,
         "total sulfur dioxide": 115.7445744189626,
         "density": 0.9946966338309989,
         "pH": 3.2185008465445586,
         "sulphates": 0.5312682776666154,
         "alcohol": 10.491800831152839,
         "quality": 5.818377712790519,
         "_deepnote_index_column": "mean"
        },
        {
         "fixed acidity": 1.2964337577998153,
         "volatile acidity": 0.16463647408467877,
         "citric acid": 0.14531786489759155,
         "residual sugar": 4.757803743147418,
         "chlorides": 0.03503360137245907,
         "free sulfur dioxide": 17.7493997720025,
         "total sulfur dioxide": 56.521854522630285,
         "density": 0.0029986730037190393,
         "pH": 0.16078720210398764,
         "sulphates": 0.14880587361449027,
         "alcohol": 1.192711748870993,
         "quality": 0.8732552715311248,
         "_deepnote_index_column": "std"
        },
        {
         "fixed acidity": 3.8,
         "volatile acidity": 0.08,
         "citric acid": 0,
         "residual sugar": 0.6,
         "chlorides": 0.009,
         "free sulfur dioxide": 1,
         "total sulfur dioxide": 6,
         "density": 0.98711,
         "pH": 2.72,
         "sulphates": 0.22,
         "alcohol": 8,
         "quality": 3,
         "_deepnote_index_column": "min"
        },
        {
         "fixed acidity": 6.4,
         "volatile acidity": 0.23,
         "citric acid": 0.25,
         "residual sugar": 1.8,
         "chlorides": 0.038,
         "free sulfur dioxide": 17,
         "total sulfur dioxide": 77,
         "density": 0.99234,
         "pH": 3.11,
         "sulphates": 0.43,
         "alcohol": 9.5,
         "quality": 5,
         "_deepnote_index_column": "25%"
        },
        {
         "fixed acidity": 7,
         "volatile acidity": 0.29,
         "citric acid": 0.31,
         "residual sugar": 3,
         "chlorides": 0.047,
         "free sulfur dioxide": 29,
         "total sulfur dioxide": 118,
         "density": 0.99489,
         "pH": 3.21,
         "sulphates": 0.51,
         "alcohol": 10.3,
         "quality": 6,
         "_deepnote_index_column": "50%"
        },
        {
         "fixed acidity": 7.7,
         "volatile acidity": 0.4,
         "citric acid": 0.39,
         "residual sugar": 8.1,
         "chlorides": 0.065,
         "free sulfur dioxide": 41,
         "total sulfur dioxide": 156,
         "density": 0.99699,
         "pH": 3.32,
         "sulphates": 0.6,
         "alcohol": 11.3,
         "quality": 6,
         "_deepnote_index_column": "75%"
        },
        {
         "fixed acidity": 15.9,
         "volatile acidity": 1.58,
         "citric acid": 1.66,
         "residual sugar": 65.8,
         "chlorides": 0.611,
         "free sulfur dioxide": 289,
         "total sulfur dioxide": 440,
         "density": 1.03898,
         "pH": 4.01,
         "sulphates": 2,
         "alcohol": 14.9,
         "quality": 9,
         "_deepnote_index_column": "max"
        }
       ]
      },
      "text/plain": "       fixed acidity  volatile acidity  citric acid  residual sugar  \\\ncount    6497.000000       6497.000000  6497.000000     6497.000000   \nmean        7.215307          0.339666     0.318633        5.443235   \nstd         1.296434          0.164636     0.145318        4.757804   \nmin         3.800000          0.080000     0.000000        0.600000   \n25%         6.400000          0.230000     0.250000        1.800000   \n50%         7.000000          0.290000     0.310000        3.000000   \n75%         7.700000          0.400000     0.390000        8.100000   \nmax        15.900000          1.580000     1.660000       65.800000   \n\n         chlorides  free sulfur dioxide  total sulfur dioxide      density  \\\ncount  6497.000000          6497.000000           6497.000000  6497.000000   \nmean      0.056034            30.525319            115.744574     0.994697   \nstd       0.035034            17.749400             56.521855     0.002999   \nmin       0.009000             1.000000              6.000000     0.987110   \n25%       0.038000            17.000000             77.000000     0.992340   \n50%       0.047000            29.000000            118.000000     0.994890   \n75%       0.065000            41.000000            156.000000     0.996990   \nmax       0.611000           289.000000            440.000000     1.038980   \n\n                pH    sulphates      alcohol      quality  \ncount  6497.000000  6497.000000  6497.000000  6497.000000  \nmean      3.218501     0.531268    10.491801     5.818378  \nstd       0.160787     0.148806     1.192712     0.873255  \nmin       2.720000     0.220000     8.000000     3.000000  \n25%       3.110000     0.430000     9.500000     5.000000  \n50%       3.210000     0.510000    10.300000     6.000000  \n75%       3.320000     0.600000    11.300000     6.000000  \nmax       4.010000     2.000000    14.900000     9.000000  ",
      "text/html": "<div>\n<style scoped>\n    .dataframe tbody tr th:only-of-type {\n        vertical-align: middle;\n    }\n\n    .dataframe tbody tr th {\n        vertical-align: top;\n    }\n\n    .dataframe thead th {\n        text-align: right;\n    }\n</style>\n<table border=\"1\" class=\"dataframe\">\n  <thead>\n    <tr style=\"text-align: right;\">\n      <th></th>\n      <th>fixed acidity</th>\n      <th>volatile acidity</th>\n      <th>citric acid</th>\n      <th>residual sugar</th>\n      <th>chlorides</th>\n      <th>free sulfur dioxide</th>\n      <th>total sulfur dioxide</th>\n      <th>density</th>\n      <th>pH</th>\n      <th>sulphates</th>\n      <th>alcohol</th>\n      <th>quality</th>\n    </tr>\n  </thead>\n  <tbody>\n    <tr>\n      <th>count</th>\n      <td>6497.000000</td>\n      <td>6497.000000</td>\n      <td>6497.000000</td>\n      <td>6497.000000</td>\n      <td>6497.000000</td>\n      <td>6497.000000</td>\n      <td>6497.000000</td>\n      <td>6497.000000</td>\n      <td>6497.000000</td>\n      <td>6497.000000</td>\n      <td>6497.000000</td>\n      <td>6497.000000</td>\n    </tr>\n    <tr>\n      <th>mean</th>\n      <td>7.215307</td>\n      <td>0.339666</td>\n      <td>0.318633</td>\n      <td>5.443235</td>\n      <td>0.056034</td>\n      <td>30.525319</td>\n      <td>115.744574</td>\n      <td>0.994697</td>\n      <td>3.218501</td>\n      <td>0.531268</td>\n      <td>10.491801</td>\n      <td>5.818378</td>\n    </tr>\n    <tr>\n      <th>std</th>\n      <td>1.296434</td>\n      <td>0.164636</td>\n      <td>0.145318</td>\n      <td>4.757804</td>\n      <td>0.035034</td>\n      <td>17.749400</td>\n      <td>56.521855</td>\n      <td>0.002999</td>\n      <td>0.160787</td>\n      <td>0.148806</td>\n      <td>1.192712</td>\n      <td>0.873255</td>\n    </tr>\n    <tr>\n      <th>min</th>\n      <td>3.800000</td>\n      <td>0.080000</td>\n      <td>0.000000</td>\n      <td>0.600000</td>\n      <td>0.009000</td>\n      <td>1.000000</td>\n      <td>6.000000</td>\n      <td>0.987110</td>\n      <td>2.720000</td>\n      <td>0.220000</td>\n      <td>8.000000</td>\n      <td>3.000000</td>\n    </tr>\n    <tr>\n      <th>25%</th>\n      <td>6.400000</td>\n      <td>0.230000</td>\n      <td>0.250000</td>\n      <td>1.800000</td>\n      <td>0.038000</td>\n      <td>17.000000</td>\n      <td>77.000000</td>\n      <td>0.992340</td>\n      <td>3.110000</td>\n      <td>0.430000</td>\n      <td>9.500000</td>\n      <td>5.000000</td>\n    </tr>\n    <tr>\n      <th>50%</th>\n      <td>7.000000</td>\n      <td>0.290000</td>\n      <td>0.310000</td>\n      <td>3.000000</td>\n      <td>0.047000</td>\n      <td>29.000000</td>\n      <td>118.000000</td>\n      <td>0.994890</td>\n      <td>3.210000</td>\n      <td>0.510000</td>\n      <td>10.300000</td>\n      <td>6.000000</td>\n    </tr>\n    <tr>\n      <th>75%</th>\n      <td>7.700000</td>\n      <td>0.400000</td>\n      <td>0.390000</td>\n      <td>8.100000</td>\n      <td>0.065000</td>\n      <td>41.000000</td>\n      <td>156.000000</td>\n      <td>0.996990</td>\n      <td>3.320000</td>\n      <td>0.600000</td>\n      <td>11.300000</td>\n      <td>6.000000</td>\n    </tr>\n    <tr>\n      <th>max</th>\n      <td>15.900000</td>\n      <td>1.580000</td>\n      <td>1.660000</td>\n      <td>65.800000</td>\n      <td>0.611000</td>\n      <td>289.000000</td>\n      <td>440.000000</td>\n      <td>1.038980</td>\n      <td>4.010000</td>\n      <td>2.000000</td>\n      <td>14.900000</td>\n      <td>9.000000</td>\n    </tr>\n  </tbody>\n</table>\n</div>"
     },
     "metadata": {}
    }
   ]
  },
  {
   "cell_type": "code",
   "metadata": {
    "cell_id": "583b8db0a2ed4a14a95154143bc43559",
    "tags": [],
    "deepnote_to_be_reexecuted": false,
    "source_hash": "d96b2413",
    "execution_start": 1653816816477,
    "execution_millis": 94,
    "deepnote_cell_type": "code",
    "deepnote_cell_height": 667.59375
   },
   "source": "describe_in_percentage=total_wine.describe().iloc[2:]/total_wine.mean()*100\ndescribe_in_percentage=round(describe_in_percentage,2).T\ndescribe_in_percentage\n",
   "execution_count": 14,
   "outputs": [
    {
     "output_type": "execute_result",
     "execution_count": 14,
     "data": {
      "application/vnd.deepnote.dataframe.v3+json": {
       "column_count": 6,
       "row_count": 12,
       "columns": [
        {
         "name": "std",
         "dtype": "float64",
         "stats": {
          "unique_count": 12,
          "nan_count": 0,
          "min": "0.3",
          "max": "87.41",
          "histogram": [
           {
            "bin_start": 0.3,
            "bin_end": 9.011000000000001,
            "count": 2
           },
           {
            "bin_start": 9.011000000000001,
            "bin_end": 17.722,
            "count": 2
           },
           {
            "bin_start": 17.722,
            "bin_end": 26.433000000000003,
            "count": 1
           },
           {
            "bin_start": 26.433000000000003,
            "bin_end": 35.144,
            "count": 1
           },
           {
            "bin_start": 35.144,
            "bin_end": 43.855,
            "count": 0
           },
           {
            "bin_start": 43.855,
            "bin_end": 52.566,
            "count": 3
           },
           {
            "bin_start": 52.566,
            "bin_end": 61.277,
            "count": 1
           },
           {
            "bin_start": 61.277,
            "bin_end": 69.988,
            "count": 1
           },
           {
            "bin_start": 69.988,
            "bin_end": 78.699,
            "count": 0
           },
           {
            "bin_start": 78.699,
            "bin_end": 87.41,
            "count": 1
           }
          ]
         }
        },
        {
         "name": "min",
         "dtype": "float64",
         "stats": {
          "unique_count": 12,
          "nan_count": 0,
          "min": "0.0",
          "max": "99.24",
          "histogram": [
           {
            "bin_start": 0,
            "bin_end": 9.924,
            "count": 3
           },
           {
            "bin_start": 9.924,
            "bin_end": 19.848,
            "count": 2
           },
           {
            "bin_start": 19.848,
            "bin_end": 29.772,
            "count": 1
           },
           {
            "bin_start": 29.772,
            "bin_end": 39.696,
            "count": 0
           },
           {
            "bin_start": 39.696,
            "bin_end": 49.62,
            "count": 1
           },
           {
            "bin_start": 49.62,
            "bin_end": 59.544,
            "count": 2
           },
           {
            "bin_start": 59.544,
            "bin_end": 69.46799999999999,
            "count": 0
           },
           {
            "bin_start": 69.46799999999999,
            "bin_end": 79.392,
            "count": 1
           },
           {
            "bin_start": 79.392,
            "bin_end": 89.316,
            "count": 1
           },
           {
            "bin_start": 89.316,
            "bin_end": 99.24,
            "count": 1
           }
          ]
         }
        },
        {
         "name": "25%",
         "dtype": "float64",
         "stats": {
          "unique_count": 12,
          "nan_count": 0,
          "min": "33.07",
          "max": "99.76",
          "histogram": [
           {
            "bin_start": 33.07,
            "bin_end": 39.739,
            "count": 1
           },
           {
            "bin_start": 39.739,
            "bin_end": 46.408,
            "count": 0
           },
           {
            "bin_start": 46.408,
            "bin_end": 53.077,
            "count": 0
           },
           {
            "bin_start": 53.077,
            "bin_end": 59.745999999999995,
            "count": 1
           },
           {
            "bin_start": 59.745999999999995,
            "bin_end": 66.41499999999999,
            "count": 0
           },
           {
            "bin_start": 66.41499999999999,
            "bin_end": 73.084,
            "count": 3
           },
           {
            "bin_start": 73.084,
            "bin_end": 79.753,
            "count": 1
           },
           {
            "bin_start": 79.753,
            "bin_end": 86.422,
            "count": 2
           },
           {
            "bin_start": 86.422,
            "bin_end": 93.091,
            "count": 2
           },
           {
            "bin_start": 93.091,
            "bin_end": 99.76,
            "count": 2
           }
          ]
         }
        },
        {
         "name": "50%",
         "dtype": "float64",
         "stats": {
          "unique_count": 12,
          "nan_count": 0,
          "min": "55.11",
          "max": "103.12",
          "histogram": [
           {
            "bin_start": 55.11,
            "bin_end": 59.911,
            "count": 1
           },
           {
            "bin_start": 59.911,
            "bin_end": 64.712,
            "count": 0
           },
           {
            "bin_start": 64.712,
            "bin_end": 69.513,
            "count": 0
           },
           {
            "bin_start": 69.513,
            "bin_end": 74.314,
            "count": 0
           },
           {
            "bin_start": 74.314,
            "bin_end": 79.11500000000001,
            "count": 0
           },
           {
            "bin_start": 79.11500000000001,
            "bin_end": 83.916,
            "count": 1
           },
           {
            "bin_start": 83.916,
            "bin_end": 88.717,
            "count": 1
           },
           {
            "bin_start": 88.717,
            "bin_end": 93.518,
            "count": 0
           },
           {
            "bin_start": 93.518,
            "bin_end": 98.319,
            "count": 5
           },
           {
            "bin_start": 98.319,
            "bin_end": 103.12,
            "count": 4
           }
          ]
         }
        },
        {
         "name": "75%",
         "dtype": "float64",
         "stats": {
          "unique_count": 12,
          "nan_count": 0,
          "min": "100.23",
          "max": "148.81",
          "histogram": [
           {
            "bin_start": 100.23,
            "bin_end": 105.08800000000001,
            "count": 3
           },
           {
            "bin_start": 105.08800000000001,
            "bin_end": 109.946,
            "count": 2
           },
           {
            "bin_start": 109.946,
            "bin_end": 114.804,
            "count": 1
           },
           {
            "bin_start": 114.804,
            "bin_end": 119.662,
            "count": 2
           },
           {
            "bin_start": 119.662,
            "bin_end": 124.52000000000001,
            "count": 1
           },
           {
            "bin_start": 124.52000000000001,
            "bin_end": 129.378,
            "count": 0
           },
           {
            "bin_start": 129.378,
            "bin_end": 134.236,
            "count": 0
           },
           {
            "bin_start": 134.236,
            "bin_end": 139.094,
            "count": 2
           },
           {
            "bin_start": 139.094,
            "bin_end": 143.952,
            "count": 0
           },
           {
            "bin_start": 143.952,
            "bin_end": 148.81,
            "count": 1
           }
          ]
         }
        },
        {
         "name": "max",
         "dtype": "float64",
         "stats": {
          "unique_count": 12,
          "nan_count": 0,
          "min": "104.45",
          "max": "1208.84",
          "histogram": [
           {
            "bin_start": 104.45,
            "bin_end": 214.889,
            "count": 4
           },
           {
            "bin_start": 214.889,
            "bin_end": 325.328,
            "count": 1
           },
           {
            "bin_start": 325.328,
            "bin_end": 435.767,
            "count": 2
           },
           {
            "bin_start": 435.767,
            "bin_end": 546.206,
            "count": 2
           },
           {
            "bin_start": 546.206,
            "bin_end": 656.645,
            "count": 0
           },
           {
            "bin_start": 656.645,
            "bin_end": 767.0840000000001,
            "count": 0
           },
           {
            "bin_start": 767.0840000000001,
            "bin_end": 877.523,
            "count": 0
           },
           {
            "bin_start": 877.523,
            "bin_end": 987.962,
            "count": 1
           },
           {
            "bin_start": 987.962,
            "bin_end": 1098.4009999999998,
            "count": 1
           },
           {
            "bin_start": 1098.4009999999998,
            "bin_end": 1208.84,
            "count": 1
           }
          ]
         }
        },
        {
         "name": "_deepnote_index_column",
         "dtype": "object"
        }
       ],
       "rows": [
        {
         "std": 17.97,
         "min": 52.67,
         "25%": 88.7,
         "50%": 97.02,
         "75%": 106.72,
         "max": 220.36,
         "_deepnote_index_column": "fixed acidity"
        },
        {
         "std": 48.47,
         "min": 23.55,
         "25%": 67.71,
         "50%": 85.38,
         "75%": 117.76,
         "max": 465.16,
         "_deepnote_index_column": "volatile acidity"
        },
        {
         "std": 45.61,
         "min": 0,
         "25%": 78.46,
         "50%": 97.29,
         "75%": 122.4,
         "max": 520.98,
         "_deepnote_index_column": "citric acid"
        },
        {
         "std": 87.41,
         "min": 11.02,
         "25%": 33.07,
         "50%": 55.11,
         "75%": 148.81,
         "max": 1208.84,
         "_deepnote_index_column": "residual sugar"
        },
        {
         "std": 62.52,
         "min": 16.06,
         "25%": 67.82,
         "50%": 83.88,
         "75%": 116,
         "max": 1090.41,
         "_deepnote_index_column": "chlorides"
        },
        {
         "std": 58.15,
         "min": 3.28,
         "25%": 55.69,
         "50%": 95,
         "75%": 134.31,
         "max": 946.76,
         "_deepnote_index_column": "free sulfur dioxide"
        },
        {
         "std": 48.83,
         "min": 5.18,
         "25%": 66.53,
         "50%": 101.95,
         "75%": 134.78,
         "max": 380.15,
         "_deepnote_index_column": "total sulfur dioxide"
        },
        {
         "std": 0.3,
         "min": 99.24,
         "25%": 99.76,
         "50%": 100.02,
         "75%": 100.23,
         "max": 104.45,
         "_deepnote_index_column": "density"
        },
        {
         "std": 5,
         "min": 84.51,
         "25%": 96.63,
         "50%": 99.74,
         "75%": 103.15,
         "max": 124.59,
         "_deepnote_index_column": "pH"
        },
        {
         "std": 28.01,
         "min": 41.41,
         "25%": 80.94,
         "50%": 96,
         "75%": 112.94,
         "max": 376.46,
         "_deepnote_index_column": "sulphates"
        }
       ]
      },
      "text/plain": "                        std    min    25%     50%     75%      max\nfixed acidity         17.97  52.67  88.70   97.02  106.72   220.36\nvolatile acidity      48.47  23.55  67.71   85.38  117.76   465.16\ncitric acid           45.61   0.00  78.46   97.29  122.40   520.98\nresidual sugar        87.41  11.02  33.07   55.11  148.81  1208.84\nchlorides             62.52  16.06  67.82   83.88  116.00  1090.41\nfree sulfur dioxide   58.15   3.28  55.69   95.00  134.31   946.76\ntotal sulfur dioxide  48.83   5.18  66.53  101.95  134.78   380.15\ndensity                0.30  99.24  99.76  100.02  100.23   104.45\npH                     5.00  84.51  96.63   99.74  103.15   124.59\nsulphates             28.01  41.41  80.94   96.00  112.94   376.46\nalcohol               11.37  76.25  90.55   98.17  107.70   142.02\nquality               15.01  51.56  85.93  103.12  103.12   154.68",
      "text/html": "<div>\n<style scoped>\n    .dataframe tbody tr th:only-of-type {\n        vertical-align: middle;\n    }\n\n    .dataframe tbody tr th {\n        vertical-align: top;\n    }\n\n    .dataframe thead th {\n        text-align: right;\n    }\n</style>\n<table border=\"1\" class=\"dataframe\">\n  <thead>\n    <tr style=\"text-align: right;\">\n      <th></th>\n      <th>std</th>\n      <th>min</th>\n      <th>25%</th>\n      <th>50%</th>\n      <th>75%</th>\n      <th>max</th>\n    </tr>\n  </thead>\n  <tbody>\n    <tr>\n      <th>fixed acidity</th>\n      <td>17.97</td>\n      <td>52.67</td>\n      <td>88.70</td>\n      <td>97.02</td>\n      <td>106.72</td>\n      <td>220.36</td>\n    </tr>\n    <tr>\n      <th>volatile acidity</th>\n      <td>48.47</td>\n      <td>23.55</td>\n      <td>67.71</td>\n      <td>85.38</td>\n      <td>117.76</td>\n      <td>465.16</td>\n    </tr>\n    <tr>\n      <th>citric acid</th>\n      <td>45.61</td>\n      <td>0.00</td>\n      <td>78.46</td>\n      <td>97.29</td>\n      <td>122.40</td>\n      <td>520.98</td>\n    </tr>\n    <tr>\n      <th>residual sugar</th>\n      <td>87.41</td>\n      <td>11.02</td>\n      <td>33.07</td>\n      <td>55.11</td>\n      <td>148.81</td>\n      <td>1208.84</td>\n    </tr>\n    <tr>\n      <th>chlorides</th>\n      <td>62.52</td>\n      <td>16.06</td>\n      <td>67.82</td>\n      <td>83.88</td>\n      <td>116.00</td>\n      <td>1090.41</td>\n    </tr>\n    <tr>\n      <th>free sulfur dioxide</th>\n      <td>58.15</td>\n      <td>3.28</td>\n      <td>55.69</td>\n      <td>95.00</td>\n      <td>134.31</td>\n      <td>946.76</td>\n    </tr>\n    <tr>\n      <th>total sulfur dioxide</th>\n      <td>48.83</td>\n      <td>5.18</td>\n      <td>66.53</td>\n      <td>101.95</td>\n      <td>134.78</td>\n      <td>380.15</td>\n    </tr>\n    <tr>\n      <th>density</th>\n      <td>0.30</td>\n      <td>99.24</td>\n      <td>99.76</td>\n      <td>100.02</td>\n      <td>100.23</td>\n      <td>104.45</td>\n    </tr>\n    <tr>\n      <th>pH</th>\n      <td>5.00</td>\n      <td>84.51</td>\n      <td>96.63</td>\n      <td>99.74</td>\n      <td>103.15</td>\n      <td>124.59</td>\n    </tr>\n    <tr>\n      <th>sulphates</th>\n      <td>28.01</td>\n      <td>41.41</td>\n      <td>80.94</td>\n      <td>96.00</td>\n      <td>112.94</td>\n      <td>376.46</td>\n    </tr>\n    <tr>\n      <th>alcohol</th>\n      <td>11.37</td>\n      <td>76.25</td>\n      <td>90.55</td>\n      <td>98.17</td>\n      <td>107.70</td>\n      <td>142.02</td>\n    </tr>\n    <tr>\n      <th>quality</th>\n      <td>15.01</td>\n      <td>51.56</td>\n      <td>85.93</td>\n      <td>103.12</td>\n      <td>103.12</td>\n      <td>154.68</td>\n    </tr>\n  </tbody>\n</table>\n</div>"
     },
     "metadata": {}
    }
   ]
  },
  {
   "cell_type": "code",
   "metadata": {
    "cell_id": "37741805e3884d2cbbc4516b12d40f88",
    "tags": [],
    "deepnote_to_be_reexecuted": false,
    "source_hash": "8b4bcd93",
    "execution_start": 1653816816572,
    "execution_millis": 67,
    "deepnote_cell_type": "code",
    "deepnote_cell_height": 357.59375
   },
   "source": "total_wine['chlorides'].sort_values(ascending=False).head(20)\ntotal_wine['residual sugar'].sort_values(ascending=False).head(20)\ntotal_wine.iloc[4380] #residual sugar outliers\ntotal_wine.iloc[[258,151]] #chlorides outliers\n",
   "execution_count": 15,
   "outputs": [
    {
     "output_type": "execute_result",
     "execution_count": 15,
     "data": {
      "application/vnd.deepnote.dataframe.v3+json": {
       "column_count": 13,
       "row_count": 2,
       "columns": [
        {
         "name": "fixed acidity",
         "dtype": "float64",
         "stats": {
          "unique_count": 2,
          "nan_count": 0,
          "min": "7.7",
          "max": "9.2",
          "histogram": [
           {
            "bin_start": 7.7,
            "bin_end": 7.85,
            "count": 1
           },
           {
            "bin_start": 7.85,
            "bin_end": 8,
            "count": 0
           },
           {
            "bin_start": 8,
            "bin_end": 8.15,
            "count": 0
           },
           {
            "bin_start": 8.15,
            "bin_end": 8.3,
            "count": 0
           },
           {
            "bin_start": 8.3,
            "bin_end": 8.45,
            "count": 0
           },
           {
            "bin_start": 8.45,
            "bin_end": 8.6,
            "count": 0
           },
           {
            "bin_start": 8.6,
            "bin_end": 8.75,
            "count": 0
           },
           {
            "bin_start": 8.75,
            "bin_end": 8.899999999999999,
            "count": 0
           },
           {
            "bin_start": 8.899999999999999,
            "bin_end": 9.049999999999999,
            "count": 0
           },
           {
            "bin_start": 9.049999999999999,
            "bin_end": 9.2,
            "count": 1
           }
          ]
         }
        },
        {
         "name": "volatile acidity",
         "dtype": "float64",
         "stats": {
          "unique_count": 2,
          "nan_count": 0,
          "min": "0.41",
          "max": "0.52",
          "histogram": [
           {
            "bin_start": 0.41,
            "bin_end": 0.421,
            "count": 1
           },
           {
            "bin_start": 0.421,
            "bin_end": 0.432,
            "count": 0
           },
           {
            "bin_start": 0.432,
            "bin_end": 0.443,
            "count": 0
           },
           {
            "bin_start": 0.443,
            "bin_end": 0.454,
            "count": 0
           },
           {
            "bin_start": 0.454,
            "bin_end": 0.46499999999999997,
            "count": 0
           },
           {
            "bin_start": 0.46499999999999997,
            "bin_end": 0.476,
            "count": 0
           },
           {
            "bin_start": 0.476,
            "bin_end": 0.487,
            "count": 0
           },
           {
            "bin_start": 0.487,
            "bin_end": 0.498,
            "count": 0
           },
           {
            "bin_start": 0.498,
            "bin_end": 0.509,
            "count": 0
           },
           {
            "bin_start": 0.509,
            "bin_end": 0.52,
            "count": 1
           }
          ]
         }
        },
        {
         "name": "citric acid",
         "dtype": "float64",
         "stats": {
          "unique_count": 2,
          "nan_count": 0,
          "min": "0.76",
          "max": "1.0",
          "histogram": [
           {
            "bin_start": 0.76,
            "bin_end": 0.784,
            "count": 1
           },
           {
            "bin_start": 0.784,
            "bin_end": 0.808,
            "count": 0
           },
           {
            "bin_start": 0.808,
            "bin_end": 0.8320000000000001,
            "count": 0
           },
           {
            "bin_start": 0.8320000000000001,
            "bin_end": 0.856,
            "count": 0
           },
           {
            "bin_start": 0.856,
            "bin_end": 0.88,
            "count": 0
           },
           {
            "bin_start": 0.88,
            "bin_end": 0.904,
            "count": 0
           },
           {
            "bin_start": 0.904,
            "bin_end": 0.928,
            "count": 0
           },
           {
            "bin_start": 0.928,
            "bin_end": 0.952,
            "count": 0
           },
           {
            "bin_start": 0.952,
            "bin_end": 0.976,
            "count": 0
           },
           {
            "bin_start": 0.976,
            "bin_end": 1,
            "count": 1
           }
          ]
         }
        },
        {
         "name": "residual sugar",
         "dtype": "float64",
         "stats": {
          "unique_count": 2,
          "nan_count": 0,
          "min": "1.8",
          "max": "3.4",
          "histogram": [
           {
            "bin_start": 1.8,
            "bin_end": 1.96,
            "count": 1
           },
           {
            "bin_start": 1.96,
            "bin_end": 2.12,
            "count": 0
           },
           {
            "bin_start": 2.12,
            "bin_end": 2.28,
            "count": 0
           },
           {
            "bin_start": 2.28,
            "bin_end": 2.44,
            "count": 0
           },
           {
            "bin_start": 2.44,
            "bin_end": 2.5999999999999996,
            "count": 0
           },
           {
            "bin_start": 2.5999999999999996,
            "bin_end": 2.76,
            "count": 0
           },
           {
            "bin_start": 2.76,
            "bin_end": 2.92,
            "count": 0
           },
           {
            "bin_start": 2.92,
            "bin_end": 3.08,
            "count": 0
           },
           {
            "bin_start": 3.08,
            "bin_end": 3.2399999999999998,
            "count": 0
           },
           {
            "bin_start": 3.2399999999999998,
            "bin_end": 3.4,
            "count": 1
           }
          ]
         }
        },
        {
         "name": "chlorides",
         "dtype": "float64",
         "stats": {
          "unique_count": 2,
          "nan_count": 0,
          "min": "0.61",
          "max": "0.611",
          "histogram": [
           {
            "bin_start": 0.61,
            "bin_end": 0.6101,
            "count": 1
           },
           {
            "bin_start": 0.6101,
            "bin_end": 0.6102,
            "count": 0
           },
           {
            "bin_start": 0.6102,
            "bin_end": 0.6103,
            "count": 0
           },
           {
            "bin_start": 0.6103,
            "bin_end": 0.6103999999999999,
            "count": 0
           },
           {
            "bin_start": 0.6103999999999999,
            "bin_end": 0.6105,
            "count": 0
           },
           {
            "bin_start": 0.6105,
            "bin_end": 0.6106,
            "count": 0
           },
           {
            "bin_start": 0.6106,
            "bin_end": 0.6107,
            "count": 0
           },
           {
            "bin_start": 0.6107,
            "bin_end": 0.6108,
            "count": 0
           },
           {
            "bin_start": 0.6108,
            "bin_end": 0.6109,
            "count": 0
           },
           {
            "bin_start": 0.6109,
            "bin_end": 0.611,
            "count": 1
           }
          ]
         }
        },
        {
         "name": "free sulfur dioxide",
         "dtype": "float64",
         "stats": {
          "unique_count": 2,
          "nan_count": 0,
          "min": "8.0",
          "max": "32.0",
          "histogram": [
           {
            "bin_start": 8,
            "bin_end": 10.4,
            "count": 1
           },
           {
            "bin_start": 10.4,
            "bin_end": 12.8,
            "count": 0
           },
           {
            "bin_start": 12.8,
            "bin_end": 15.2,
            "count": 0
           },
           {
            "bin_start": 15.2,
            "bin_end": 17.6,
            "count": 0
           },
           {
            "bin_start": 17.6,
            "bin_end": 20,
            "count": 0
           },
           {
            "bin_start": 20,
            "bin_end": 22.4,
            "count": 0
           },
           {
            "bin_start": 22.4,
            "bin_end": 24.8,
            "count": 0
           },
           {
            "bin_start": 24.8,
            "bin_end": 27.2,
            "count": 0
           },
           {
            "bin_start": 27.2,
            "bin_end": 29.599999999999998,
            "count": 0
           },
           {
            "bin_start": 29.599999999999998,
            "bin_end": 32,
            "count": 1
           }
          ]
         }
        },
        {
         "name": "total sulfur dioxide",
         "dtype": "float64",
         "stats": {
          "unique_count": 2,
          "nan_count": 0,
          "min": "45.0",
          "max": "69.0",
          "histogram": [
           {
            "bin_start": 45,
            "bin_end": 47.4,
            "count": 1
           },
           {
            "bin_start": 47.4,
            "bin_end": 49.8,
            "count": 0
           },
           {
            "bin_start": 49.8,
            "bin_end": 52.2,
            "count": 0
           },
           {
            "bin_start": 52.2,
            "bin_end": 54.6,
            "count": 0
           },
           {
            "bin_start": 54.6,
            "bin_end": 57,
            "count": 0
           },
           {
            "bin_start": 57,
            "bin_end": 59.4,
            "count": 0
           },
           {
            "bin_start": 59.4,
            "bin_end": 61.8,
            "count": 0
           },
           {
            "bin_start": 61.8,
            "bin_end": 64.2,
            "count": 0
           },
           {
            "bin_start": 64.2,
            "bin_end": 66.6,
            "count": 0
           },
           {
            "bin_start": 66.6,
            "bin_end": 69,
            "count": 1
           }
          ]
         }
        },
        {
         "name": "density",
         "dtype": "float64",
         "stats": {
          "unique_count": 2,
          "nan_count": 0,
          "min": "0.9968",
          "max": "0.9996",
          "histogram": [
           {
            "bin_start": 0.9968,
            "bin_end": 0.99708,
            "count": 1
           },
           {
            "bin_start": 0.99708,
            "bin_end": 0.99736,
            "count": 0
           },
           {
            "bin_start": 0.99736,
            "bin_end": 0.9976400000000001,
            "count": 0
           },
           {
            "bin_start": 0.9976400000000001,
            "bin_end": 0.99792,
            "count": 0
           },
           {
            "bin_start": 0.99792,
            "bin_end": 0.9982,
            "count": 0
           },
           {
            "bin_start": 0.9982,
            "bin_end": 0.99848,
            "count": 0
           },
           {
            "bin_start": 0.99848,
            "bin_end": 0.9987600000000001,
            "count": 0
           },
           {
            "bin_start": 0.9987600000000001,
            "bin_end": 0.99904,
            "count": 0
           },
           {
            "bin_start": 0.99904,
            "bin_end": 0.99932,
            "count": 0
           },
           {
            "bin_start": 0.99932,
            "bin_end": 0.9996,
            "count": 1
           }
          ]
         }
        },
        {
         "name": "pH",
         "dtype": "float64",
         "stats": {
          "unique_count": 2,
          "nan_count": 0,
          "min": "2.74",
          "max": "3.06",
          "histogram": [
           {
            "bin_start": 2.74,
            "bin_end": 2.7720000000000002,
            "count": 1
           },
           {
            "bin_start": 2.7720000000000002,
            "bin_end": 2.8040000000000003,
            "count": 0
           },
           {
            "bin_start": 2.8040000000000003,
            "bin_end": 2.8360000000000003,
            "count": 0
           },
           {
            "bin_start": 2.8360000000000003,
            "bin_end": 2.8680000000000003,
            "count": 0
           },
           {
            "bin_start": 2.8680000000000003,
            "bin_end": 2.9000000000000004,
            "count": 0
           },
           {
            "bin_start": 2.9000000000000004,
            "bin_end": 2.932,
            "count": 0
           },
           {
            "bin_start": 2.932,
            "bin_end": 2.964,
            "count": 0
           },
           {
            "bin_start": 2.964,
            "bin_end": 2.996,
            "count": 0
           },
           {
            "bin_start": 2.996,
            "bin_end": 3.028,
            "count": 0
           },
           {
            "bin_start": 3.028,
            "bin_end": 3.06,
            "count": 1
           }
          ]
         }
        },
        {
         "name": "sulphates",
         "dtype": "float64",
         "stats": {
          "unique_count": 2,
          "nan_count": 0,
          "min": "1.26",
          "max": "2.0",
          "histogram": [
           {
            "bin_start": 1.26,
            "bin_end": 1.334,
            "count": 1
           },
           {
            "bin_start": 1.334,
            "bin_end": 1.408,
            "count": 0
           },
           {
            "bin_start": 1.408,
            "bin_end": 1.482,
            "count": 0
           },
           {
            "bin_start": 1.482,
            "bin_end": 1.556,
            "count": 0
           },
           {
            "bin_start": 1.556,
            "bin_end": 1.63,
            "count": 0
           },
           {
            "bin_start": 1.63,
            "bin_end": 1.704,
            "count": 0
           },
           {
            "bin_start": 1.704,
            "bin_end": 1.778,
            "count": 0
           },
           {
            "bin_start": 1.778,
            "bin_end": 1.8519999999999999,
            "count": 0
           },
           {
            "bin_start": 1.8519999999999999,
            "bin_end": 1.926,
            "count": 0
           },
           {
            "bin_start": 1.926,
            "bin_end": 2,
            "count": 1
           }
          ]
         }
        },
        {
         "name": "alcohol",
         "dtype": "float64",
         "stats": {
          "unique_count": 1,
          "nan_count": 0,
          "min": "9.4",
          "max": "9.4",
          "histogram": [
           {
            "bin_start": 8.9,
            "bin_end": 9,
            "count": 0
           },
           {
            "bin_start": 9,
            "bin_end": 9.1,
            "count": 0
           },
           {
            "bin_start": 9.1,
            "bin_end": 9.200000000000001,
            "count": 0
           },
           {
            "bin_start": 9.200000000000001,
            "bin_end": 9.3,
            "count": 0
           },
           {
            "bin_start": 9.3,
            "bin_end": 9.4,
            "count": 0
           },
           {
            "bin_start": 9.4,
            "bin_end": 9.5,
            "count": 2
           },
           {
            "bin_start": 9.5,
            "bin_end": 9.6,
            "count": 0
           },
           {
            "bin_start": 9.6,
            "bin_end": 9.700000000000001,
            "count": 0
           },
           {
            "bin_start": 9.700000000000001,
            "bin_end": 9.8,
            "count": 0
           },
           {
            "bin_start": 9.8,
            "bin_end": 9.9,
            "count": 0
           }
          ]
         }
        },
        {
         "name": "quality",
         "dtype": "int64",
         "stats": {
          "unique_count": 2,
          "nan_count": 0,
          "min": "4",
          "max": "5",
          "histogram": [
           {
            "bin_start": 4,
            "bin_end": 4.1,
            "count": 1
           },
           {
            "bin_start": 4.1,
            "bin_end": 4.2,
            "count": 0
           },
           {
            "bin_start": 4.2,
            "bin_end": 4.3,
            "count": 0
           },
           {
            "bin_start": 4.3,
            "bin_end": 4.4,
            "count": 0
           },
           {
            "bin_start": 4.4,
            "bin_end": 4.5,
            "count": 0
           },
           {
            "bin_start": 4.5,
            "bin_end": 4.6,
            "count": 0
           },
           {
            "bin_start": 4.6,
            "bin_end": 4.7,
            "count": 0
           },
           {
            "bin_start": 4.7,
            "bin_end": 4.8,
            "count": 0
           },
           {
            "bin_start": 4.8,
            "bin_end": 4.9,
            "count": 0
           },
           {
            "bin_start": 4.9,
            "bin_end": 5,
            "count": 1
           }
          ]
         }
        },
        {
         "name": "category",
         "dtype": "object",
         "stats": {
          "unique_count": 1,
          "nan_count": 0,
          "categories": [
           {
            "name": "red",
            "count": 2
           }
          ]
         }
        },
        {
         "name": "_deepnote_index_column",
         "dtype": "int64"
        }
       ],
       "rows": [
        {
         "fixed acidity": 7.7,
         "volatile acidity": 0.41,
         "citric acid": 0.76,
         "residual sugar": 1.8,
         "chlorides": 0.611,
         "free sulfur dioxide": 8,
         "total sulfur dioxide": 45,
         "density": 0.9968,
         "pH": 3.06,
         "sulphates": 1.26,
         "alcohol": 9.4,
         "quality": 5,
         "category": "red",
         "_deepnote_index_column": 258
        },
        {
         "fixed acidity": 9.2,
         "volatile acidity": 0.52,
         "citric acid": 1,
         "residual sugar": 3.4,
         "chlorides": 0.61,
         "free sulfur dioxide": 32,
         "total sulfur dioxide": 69,
         "density": 0.9996,
         "pH": 2.74,
         "sulphates": 2,
         "alcohol": 9.4,
         "quality": 4,
         "category": "red",
         "_deepnote_index_column": 151
        }
       ]
      },
      "text/plain": "     fixed acidity  volatile acidity  citric acid  residual sugar  chlorides  \\\n258            7.7              0.41         0.76             1.8      0.611   \n151            9.2              0.52         1.00             3.4      0.610   \n\n     free sulfur dioxide  total sulfur dioxide  density    pH  sulphates  \\\n258                  8.0                  45.0   0.9968  3.06       1.26   \n151                 32.0                  69.0   0.9996  2.74       2.00   \n\n     alcohol  quality category  \n258      9.4        5      red  \n151      9.4        4      red  ",
      "text/html": "<div>\n<style scoped>\n    .dataframe tbody tr th:only-of-type {\n        vertical-align: middle;\n    }\n\n    .dataframe tbody tr th {\n        vertical-align: top;\n    }\n\n    .dataframe thead th {\n        text-align: right;\n    }\n</style>\n<table border=\"1\" class=\"dataframe\">\n  <thead>\n    <tr style=\"text-align: right;\">\n      <th></th>\n      <th>fixed acidity</th>\n      <th>volatile acidity</th>\n      <th>citric acid</th>\n      <th>residual sugar</th>\n      <th>chlorides</th>\n      <th>free sulfur dioxide</th>\n      <th>total sulfur dioxide</th>\n      <th>density</th>\n      <th>pH</th>\n      <th>sulphates</th>\n      <th>alcohol</th>\n      <th>quality</th>\n      <th>category</th>\n    </tr>\n  </thead>\n  <tbody>\n    <tr>\n      <th>258</th>\n      <td>7.7</td>\n      <td>0.41</td>\n      <td>0.76</td>\n      <td>1.8</td>\n      <td>0.611</td>\n      <td>8.0</td>\n      <td>45.0</td>\n      <td>0.9968</td>\n      <td>3.06</td>\n      <td>1.26</td>\n      <td>9.4</td>\n      <td>5</td>\n      <td>red</td>\n    </tr>\n    <tr>\n      <th>151</th>\n      <td>9.2</td>\n      <td>0.52</td>\n      <td>1.00</td>\n      <td>3.4</td>\n      <td>0.610</td>\n      <td>32.0</td>\n      <td>69.0</td>\n      <td>0.9996</td>\n      <td>2.74</td>\n      <td>2.00</td>\n      <td>9.4</td>\n      <td>4</td>\n      <td>red</td>\n    </tr>\n  </tbody>\n</table>\n</div>"
     },
     "metadata": {}
    }
   ]
  },
  {
   "cell_type": "markdown",
   "source": "4. Crea una variable donde almacenarás los valores de la columna `quality`. Revisa sus estadísticas descriptivas principales.",
   "metadata": {
    "cell_id": "800cb68e45814a469a537963e99a9b3c",
    "tags": [],
    "deepnote_cell_type": "markdown",
    "deepnote_cell_height": 91.796875
   }
  },
  {
   "cell_type": "code",
   "metadata": {
    "cell_id": "2d7baa5f01d1442dab3c005d36d2b5b8",
    "tags": [],
    "deepnote_to_be_reexecuted": false,
    "source_hash": "39a926d2",
    "execution_start": 1653816816643,
    "execution_millis": 1,
    "deepnote_cell_type": "code",
    "deepnote_cell_height": 81
   },
   "source": "quality = total_wine['quality']",
   "execution_count": 16,
   "outputs": []
  },
  {
   "cell_type": "markdown",
   "source": "5. Cuenta los valores únicos de la variable `quality`. Para visualizar cómo se comporta e identificar si es una variable discreta o continua.",
   "metadata": {
    "cell_id": "557bcada3c3546c58c8e65bef7fc9be9",
    "tags": [],
    "deepnote_cell_type": "markdown",
    "deepnote_cell_height": 91.796875
   }
  },
  {
   "cell_type": "code",
   "metadata": {
    "cell_id": "7d5e40194f6749cf96f43a31eb8e7fa4",
    "tags": [],
    "deepnote_to_be_reexecuted": false,
    "source_hash": "fc9c9fd5",
    "execution_start": 1653816816695,
    "execution_millis": 2,
    "deepnote_cell_type": "code",
    "deepnote_cell_height": 270.578125,
    "deepnote_output_heights": [
     155.59375
    ]
   },
   "source": "quality_distribution=quality.value_counts().sort_index()\nquality_distribution",
   "execution_count": 17,
   "outputs": [
    {
     "output_type": "execute_result",
     "execution_count": 17,
     "data": {
      "text/plain": "3      30\n4     216\n5    2138\n6    2836\n7    1079\n8     193\n9       5\nName: quality, dtype: int64"
     },
     "metadata": {}
    }
   ]
  },
  {
   "cell_type": "code",
   "metadata": {
    "cell_id": "7ca0275fee07404eaed4b048445603be",
    "tags": [],
    "deepnote_to_be_reexecuted": false,
    "source_hash": "19205439",
    "execution_start": 1653816816696,
    "execution_millis": 311,
    "deepnote_cell_type": "code",
    "deepnote_cell_height": 396.1875,
    "deepnote_output_heights": [
     21.1875,
     247
    ]
   },
   "source": "quality_distribution.plot(kind='bar')",
   "execution_count": 18,
   "outputs": [
    {
     "output_type": "execute_result",
     "execution_count": 18,
     "data": {
      "text/plain": "<AxesSubplot:>"
     },
     "metadata": {}
    },
    {
     "data": {
      "text/plain": "<Figure size 432x288 with 1 Axes>",
      "image/png": "[encoded data removed]"
     },
     "metadata": {
      "needs_background": "light",
      "image/png": {
       "width": 381,
       "height": 245
      }
     },
     "output_type": "display_data"
    }
   ]
  },
  {
   "cell_type": "markdown",
   "source": "6. Escribe tus observaciones de cada uno de los pasos anteriores de esta sección:",
   "metadata": {
    "cell_id": "a253b7d5b9e84e68970d5dedf793343b",
    "tags": [],
    "deepnote_cell_type": "markdown",
    "deepnote_cell_height": 69.390625
   }
  },
  {
   "cell_type": "markdown",
   "source": "No existen valores nulos en el dataset\nTodas las variables a excepción de quality son numéricas\nLa gran mayoría de los vinos se ubican en un rango de quality de 5 a 7. La menor calificación es 3 y la mayor 9.",
   "metadata": {
    "cell_id": "fdfd222298af434fa28e31df6f9aaddd",
    "tags": [],
    "deepnote_cell_type": "markdown",
    "deepnote_cell_height": 97.1875
   }
  },
  {
   "cell_type": "markdown",
   "source": "### *Clases sugeridas*:\n\n- [Shape y Reshape](https://platzi.com/clases/2912-pandas-numpy/47979-shape-y-reshape/?utm_source=contenido&utm_medium=organic&utm_campaign=ejercicio-eda)\n- [Funciones principales de Pandas](https://platzi.com/clases/2912-pandas-numpy/47990-funciones-principales-de-pandas/?utm_source=contenido&utm_medium=organic&utm_campaign=ejercicio-eda)\n- [Medidas de tendencia central](https://platzi.com/clases/2353-estadistica-descriptiva/38396-medidas-de-tendencia-central/?utm_source=contenido&utm_medium=organic&utm_campaign=ejercicio-eda)\n- [Medidas de tendencia central en Python](https://platzi.com/clases/2353-estadistica-descriptiva/38398-medidas-de-tendencia-central-en-python/?utm_source=contenido&utm_medium=organic&utm_campaign=ejercicio-eda)",
   "metadata": {
    "cell_id": "7f237beeba314f259b040b6157b3f4c0",
    "tags": [],
    "deepnote_cell_type": "markdown",
    "deepnote_cell_height": 190.59375
   }
  },
  {
   "cell_type": "markdown",
   "source": "## Categorización de la variable target\n\nEn la sección anterior pudiste observar que la variable `quality` es categórica en naturaleza. Crear categorías de calidad nos ayudará a entender mejor cómo se comporta la calidad en los vinos.\n\nEn esta sección entenderás mejor la razón de esto y lo ejecutarás.\n\n1. Crea una gráfica tipo countplot de la variable `quality` para ver la cantidad de cada valor de calidad.",
   "metadata": {
    "cell_id": "353cfc64c5a041e1a30d606a0d33bd60",
    "tags": [],
    "owner_user_id": "bd8bcd75-d6dd-4fa9-8bde-c8f3102614b3",
    "deepnote_cell_type": "markdown",
    "deepnote_cell_height": 262.390625
   }
  },
  {
   "cell_type": "code",
   "metadata": {
    "cell_id": "77093e0e8f5e4a459addc4d2a884b922",
    "tags": [],
    "deepnote_to_be_reexecuted": false,
    "source_hash": "b623e53d",
    "execution_start": 1653816817005,
    "execution_millis": 0,
    "deepnote_cell_type": "code",
    "deepnote_cell_height": 81
   },
   "source": "",
   "execution_count": 18,
   "outputs": []
  },
  {
   "cell_type": "markdown",
   "source": "Con la visualización anterior es mucho más sencillo de observar cómo se categorizan los valores de calidad en 3 grupos principales (baja, media y alta). \n\n2. Completa la siguiente función lambda con las condiciones necesarias para agregar una columna al DataFrame donde se indique la categoría de calidad: 'Poor', 'Medium', 'High'. Para ello deberás definir el criterio de rango de valores de cada categoría de acuerdo a lo que observaste en la gráfica anterior.",
   "metadata": {
    "cell_id": "e74d078e3d5748739cd0c92059b3e6b5",
    "tags": [],
    "deepnote_cell_type": "markdown",
    "deepnote_cell_height": 192.390625
   }
  },
  {
   "cell_type": "code",
   "metadata": {
    "cell_id": "56bbbb13c5be44b4a7a961046654b307",
    "tags": [],
    "deepnote_to_be_reexecuted": false,
    "source_hash": "b3ca6a8",
    "execution_start": 1653816817005,
    "execution_millis": 2,
    "deepnote_cell_type": "code",
    "deepnote_cell_height": 664.1875,
    "deepnote_output_heights": [
     405.1875
    ]
   },
   "source": "def quality_category(x):\n    if x<6:\n        return \"Poor\"\n    elif x>=8:\n        return \"High\"\n    else:\n        return \"Medium\"\n\ntotal_wine['quality_category'] = total_wine['quality'].apply(lambda x:quality_category(x))\ntotal_wine['quality_category'].sample(20)",
   "execution_count": 19,
   "outputs": [
    {
     "output_type": "execute_result",
     "execution_count": 19,
     "data": {
      "text/plain": "3303      Poor\n2707    Medium\n1874    Medium\n2472      Poor\n5499      Poor\n4062    Medium\n3967    Medium\n4910    Medium\n1064    Medium\n800       Poor\n5377    Medium\n3206    Medium\n1919    Medium\n3024    Medium\n5950    Medium\n2486    Medium\n476       Poor\n3593    Medium\n2491      Poor\n4478    Medium\nName: quality_category, dtype: object"
     },
     "metadata": {}
    }
   ]
  },
  {
   "cell_type": "markdown",
   "source": "2.1 Redefine el tipo de variable de la nueva columna como tipo 'category'.",
   "metadata": {
    "cell_id": "06fb3a05a9bc4b53a2e364851fa53ff4",
    "tags": [],
    "deepnote_cell_type": "markdown",
    "deepnote_cell_height": 52.390625
   }
  },
  {
   "cell_type": "code",
   "metadata": {
    "cell_id": "385768277865463a956d1df772369e90",
    "tags": [],
    "deepnote_to_be_reexecuted": false,
    "source_hash": "63a708a5",
    "execution_start": 1653816817050,
    "execution_millis": 3,
    "deepnote_cell_type": "code",
    "deepnote_cell_height": 530
   },
   "source": "total_wine.quality_category=total_wine.quality_category.astype(\"category\")\ntotal_wine.info()",
   "execution_count": 20,
   "outputs": [
    {
     "name": "stdout",
     "text": "<class 'pandas.core.frame.DataFrame'>\nRangeIndex: 6497 entries, 0 to 6496\nData columns (total 14 columns):\n #   Column                Non-Null Count  Dtype   \n---  ------                --------------  -----   \n 0   fixed acidity         6497 non-null   float64 \n 1   volatile acidity      6497 non-null   float64 \n 2   citric acid           6497 non-null   float64 \n 3   residual sugar        6497 non-null   float64 \n 4   chlorides             6497 non-null   float64 \n 5   free sulfur dioxide   6497 non-null   float64 \n 6   total sulfur dioxide  6497 non-null   float64 \n 7   density               6497 non-null   float64 \n 8   pH                    6497 non-null   float64 \n 9   sulphates             6497 non-null   float64 \n 10  alcohol               6497 non-null   float64 \n 11  quality               6497 non-null   int64   \n 12  category              6497 non-null   object  \n 13  quality_category      6497 non-null   category\ndtypes: category(1), float64(11), int64(1), object(1)\nmemory usage: 666.5+ KB\n",
     "output_type": "stream"
    }
   ]
  },
  {
   "cell_type": "markdown",
   "source": "3. Crea una gráfica para visualizar el conteo de datos en cada una de las categorías de calidad del vino.",
   "metadata": {
    "cell_id": "5e6ff4ca0e47429aab38c6d0d5453675",
    "tags": [],
    "deepnote_cell_type": "markdown",
    "deepnote_cell_height": 91.796875
   }
  },
  {
   "cell_type": "code",
   "metadata": {
    "cell_id": "92c17740c6174e7098a0bf6274f183f9",
    "tags": [],
    "deepnote_to_be_reexecuted": false,
    "source_hash": "3dee61e5",
    "execution_start": 1653816817051,
    "execution_millis": 2,
    "deepnote_cell_type": "code",
    "deepnote_cell_height": 175.78125,
    "deepnote_output_heights": [
     78.796875
    ]
   },
   "source": "total_wine['quality_category'].value_counts()",
   "execution_count": 21,
   "outputs": [
    {
     "output_type": "execute_result",
     "execution_count": 21,
     "data": {
      "text/plain": "Medium    3915\nPoor      2384\nHigh       198\nName: quality_category, dtype: int64"
     },
     "metadata": {}
    }
   ]
  },
  {
   "cell_type": "code",
   "metadata": {
    "cell_id": "e511d6780d7e4a3e9027724b5a2eb256",
    "tags": [],
    "deepnote_to_be_reexecuted": false,
    "source_hash": "7a646c7",
    "execution_start": 1653816817052,
    "execution_millis": 8,
    "deepnote_cell_type": "code",
    "deepnote_cell_height": 211.78125,
    "deepnote_output_heights": [
     78.796875
    ]
   },
   "source": "#Quality category by percentage\nround(total_wine['quality_category'].value_counts()/total_wine.shape[0]*100,1)\n",
   "execution_count": 22,
   "outputs": [
    {
     "output_type": "execute_result",
     "execution_count": 22,
     "data": {
      "text/plain": "Medium    60.3\nPoor      36.7\nHigh       3.0\nName: quality_category, dtype: float64"
     },
     "metadata": {}
    }
   ]
  },
  {
   "cell_type": "markdown",
   "source": "4. Escribe tus observaciones de cada uno de los pasos anteriores de esta sección:",
   "metadata": {
    "cell_id": "8bcdc54d63b94177be505af0fd06ca82",
    "tags": [],
    "deepnote_cell_type": "markdown",
    "deepnote_cell_height": 69.390625
   }
  },
  {
   "cell_type": "markdown",
   "source": "Existen 6053 vinos en la categoría medium, 246 en poor y 198 en high. Estos valores representan el 93.2%, 3.8%  y 3.0% respectivamente",
   "metadata": {
    "cell_id": "af233dee447c415784ac8c4990d3fd4a",
    "tags": [],
    "deepnote_cell_type": "markdown",
    "deepnote_cell_height": 74.796875
   }
  },
  {
   "cell_type": "markdown",
   "source": "### *Clases sugeridas*:\n\nGráficas\n\n- [Set (Seaborn)](https://platzi.com/clases/2913-matplotlib-seaborn/47947-set/?utm_source=contenido&utm_medium=organic&utm_campaign=ejercicio-eda)\n\n- [Categóricos (Seaborn)](https://platzi.com/clases/2913-matplotlib-seaborn/47950-categoricos/?utm_source=contenido&utm_medium=organic&utm_campaign=ejercicio-eda)\n\nApply, lambdas, conversión de datos\n\n- [Funciones anónimas: lambdas](https://platzi.com/clases/2255-python-intermedio/36465-funciones-anonimas-lambda/?utm_source=contenido&utm_medium=organic&utm_campaign=ejercicio-eda)\n\n- [Apply (Pandas)](https://platzi.com/clases/2912-pandas-numpy/47996-apply/?utm_source=contenido&utm_medium=organic&utm_campaign=ejercicio-eda)\n\n- [Tipos de datos (NumPy y Pandas)](https://platzi.com/clases/2912-pandas-numpy/47976-tipos-de-datos/?utm_source=contenido&utm_medium=organic&utm_campaign=ejercicio-eda)",
   "metadata": {
    "cell_id": "011079a43d364b7598e4c579f5aa56fe",
    "tags": [],
    "deepnote_cell_type": "markdown",
    "deepnote_cell_height": 299.796875
   }
  },
  {
   "cell_type": "code",
   "metadata": {
    "cell_id": "0e8b798a8c87490aa44f4e1513f70dbf",
    "tags": [],
    "deepnote_to_be_reexecuted": false,
    "source_hash": "6418e2b5",
    "execution_start": 1653816817104,
    "execution_millis": 1,
    "deepnote_cell_type": "code",
    "deepnote_cell_height": 81
   },
   "source": "#sns.pairplot(total_wine,hue='category')",
   "execution_count": 23,
   "outputs": []
  },
  {
   "cell_type": "markdown",
   "source": "Al analizar las distribuciones de datos de  cada una de las variables se observa que los valores medios y la dispersión de los datos son substancialmente diferentes dependiendo de si se trata de vino blanco o vino tinto. Para las variables 'fixed acidity', 'volatile acidity' y 'citric acid' la dispersión de datos es mayor para vino tinto que para el vino blanco. Por otra parte, para la variable 'residual sugar' la dispersión es mayor para vino blanco que para vino tinto. Para el resto de las variables la dispersión de datos es similar pero la media es susbancialmente diferente entre las dos clases de vinos. De todo esto se deduce que la correlación entre las variables de análisis y la calidad del vino va a depender de la clase de vino que estemos a analizando, y por lo tanto, los datasets de vino blanco y tinto tienen que analizarse por separado.",
   "metadata": {
    "cell_id": "d99f1851853e430dbca0650cce89c604",
    "tags": [],
    "is_collapsed": false,
    "deepnote_cell_type": "text-cell-p"
   }
  },
  {
   "cell_type": "markdown",
   "source": "## Manejo de outliers\n\nEn una sección anterior tuviste una pista de qué existen outliers en el dataset. \n\n1. Utiliza el método que veas más conveniente para detectar outliers en tu dataset. Por ejemplo, boxplots, método IQR, etc.",
   "metadata": {
    "cell_id": "7e8d700425d449578c6470339e1bef84",
    "tags": [],
    "deepnote_cell_type": "markdown",
    "deepnote_cell_height": 181.1875
   }
  },
  {
   "cell_type": "code",
   "metadata": {
    "cell_id": "61179a8995854255b5f58292fa94c681",
    "tags": [],
    "deepnote_to_be_reexecuted": false,
    "source_hash": "b31fd813",
    "execution_start": 1653816817105,
    "execution_millis": 0,
    "deepnote_cell_type": "code",
    "deepnote_cell_height": 99
   },
   "source": "\n",
   "execution_count": 23,
   "outputs": []
  },
  {
   "cell_type": "code",
   "metadata": {
    "cell_id": "76daa8e29fab451789899534c239a1b4",
    "tags": [],
    "deepnote_to_be_reexecuted": false,
    "source_hash": "205c6c01",
    "execution_start": 1653817111075,
    "execution_millis": 4963,
    "deepnote_cell_type": "code",
    "deepnote_cell_height": 4444,
    "deepnote_output_heights": [
     280,
     280,
     280,
     280,
     280,
     280,
     280,
     280,
     280,
     280,
     280,
     21.1875,
     21.1875
    ]
   },
   "source": "#Removing rows with max values for each column\nmax_indexes=total_wine.groupby('category').idxmax().T.unstack().values\ntotal_wine_with_no_max=total_wine.drop(index=max_indexes)\n\n   \n#Seaborn violinplot script\n'''\nfor column in total_wine.columns[:-2]:\n    fig,ax=plt.subplots()\n    ax.set_title('{}'.format(column))\n    ax=sns.violinplot(data=total_wine_with_no_max,x='category',y=column,\n    inner=\"quartile\",hue='quality_category')\n    plt.show()\n'''\n\n#Seaborn boxplot script\n\nfor column in total_wine.columns[:-3]:\n    fig,ax=plt.subplots()\n    ax.set_title('{}'.format(column))\n    ax=sns.boxplot(data=total_wine,x='category',y=column,hue='quality_category')\n    plt.show()\n\n\n#Matplotlib boxplot script\n'''\nfor column in white.columns[0:-1]:\n    fig,ax=plt.subplots()\n    labels=['white','red']\n    dataset=[white[column],red[column]]\n    ax.set_title('{}'.format(column))\n    ax=plt.boxplot(dataset,labels=labels)\n    plt.show()\n'''",
   "execution_count": 30,
   "outputs": [
    {
     "data": {
      "text/plain": "<Figure size 432x288 with 1 Axes>",
      "image/png": "[encoded data removed]"
     },
     "metadata": {
      "needs_background": "light",
      "image/png": {
       "width": 382,
       "height": 278
      }
     },
     "output_type": "display_data"
    },
    {
     "data": {
      "text/plain": "<Figure size 432x288 with 1 Axes>",
      "image/png": "[encoded data removed]"
     },
     "metadata": {
      "needs_background": "light",
      "image/png": {
       "width": 386,
       "height": 278
      }
     },
     "output_type": "display_data"
    },
    {
     "data": {
      "text/plain": "<Figure size 432x288 with 1 Axes>",
      "image/png": "[encoded data removed]"
     },
     "metadata": {
      "needs_background": "light",
      "image/png": {
       "width": 392,
       "height": 278
      }
     },
     "output_type": "display_data"
    },
    {
     "data": {
      "text/plain": "<Figure size 432x288 with 1 Axes>",
      "image/png": "[encoded data removed]"
     },
     "metadata": {
      "needs_background": "light",
      "image/png": {
       "width": 382,
       "height": 278
      }
     },
     "output_type": "display_data"
    },
    {
     "data": {
      "text/plain": "<Figure size 432x288 with 1 Axes>",
      "image/png": "[encoded data removed]"
     },
     "metadata": {
      "needs_background": "light",
      "image/png": {
       "width": 386,
       "height": 278
      }
     },
     "output_type": "display_data"
    },
    {
     "data": {
      "text/plain": "<Figure size 432x288 with 1 Axes>",
      "image/png": "[encoded data removed]"
     },
     "metadata": {
      "needs_background": "light",
      "image/png": {
       "width": 389,
       "height": 278
      }
     },
     "output_type": "display_data"
    },
    {
     "data": {
      "text/plain": "<Figure size 432x288 with 1 Axes>",
      "image/png": "[encoded data removed]"
     },
     "metadata": {
      "needs_background": "light",
      "image/png": {
       "width": 389,
       "height": 278
      }
     },
     "output_type": "display_data"
    },
    {
     "data": {
      "text/plain": "<Figure size 432x288 with 1 Axes>",
      "image/png": "[encoded data removed]"
     },
     "metadata": {
      "needs_background": "light",
      "image/png": {
       "width": 392,
       "height": 278
      }
     },
     "output_type": "display_data"
    },
    {
     "data": {
      "text/plain": "<Figure size 432x288 with 1 Axes>",
      "image/png": "[encoded data removed]"
     },
     "metadata": {
      "needs_background": "light",
      "image/png": {
       "width": 386,
       "height": 278
      }
     },
     "output_type": "display_data"
    },
    {
     "data": {
      "text/plain": "<Figure size 432x288 with 1 Axes>",
      "image/png": "[encoded data removed]"
     },
     "metadata": {
      "needs_background": "light",
      "image/png": {
       "width": 392,
       "height": 278
      }
     },
     "output_type": "display_data"
    },
    {
     "data": {
      "text/plain": "<Figure size 432x288 with 1 Axes>",
      "image/png": "[encoded data removed]"
     },
     "metadata": {
      "needs_background": "light",
      "image/png": {
       "width": 382,
       "height": 278
      }
     },
     "output_type": "display_data"
    },
    {
     "output_type": "execute_result",
     "execution_count": 30,
     "data": {
      "text/plain": "\"\\nfor column in white.columns[0:-1]:\\n    fig,ax=plt.subplots()\\n    labels=['white','red']\\n    dataset=[white[column],red[column]]\\n    ax.set_title('{}'.format(column))\\n    ax=plt.boxplot(dataset,labels=labels)\\n    plt.show()\\n\""
     },
     "metadata": {}
    }
   ]
  },
  {
   "cell_type": "code",
   "metadata": {
    "cell_id": "93c6c86814ef45f79399fa9a4853008c",
    "tags": [],
    "deepnote_to_be_reexecuted": false,
    "source_hash": "eca4bfa",
    "execution_start": 1653816822078,
    "execution_millis": 22,
    "deepnote_cell_type": "code",
    "deepnote_cell_height": 870
   },
   "source": "#Function to calculate the lower and upper limit\ndef outlier_limit(quartil):\n    first_quartile=quartil.iloc[0]\n    third_quartile=quartil.iloc[1]\n    IQR=third_quartile-first_quartile\n    lower=IQR-1.5*first_quartile\n    upper=IQR+1.5*third_quartile\n    \n    return lower,upper\n\nquartiles=total_wine.quantile([0.25,0.75])\nlimits=pd.DataFrame([])\nfor column in quartiles.columns[0:-2]:\n    limits.loc[column,'lower_limit'],limits.loc[column,'upper_limit']=outlier_limit(quartiles[column])\n    \nlimits",
   "execution_count": 25,
   "outputs": [
    {
     "output_type": "execute_result",
     "execution_count": 25,
     "data": {
      "application/vnd.deepnote.dataframe.v3+json": {
       "column_count": 2,
       "row_count": 10,
       "columns": [
        {
         "name": "lower_limit",
         "dtype": "float64",
         "stats": {
          "unique_count": 10,
          "nan_count": 0,
          "min": "-36.5",
          "max": "3.5999999999999996",
          "histogram": [
           {
            "bin_start": -36.5,
            "bin_end": -32.49,
            "count": 1
           },
           {
            "bin_start": -32.49,
            "bin_end": -28.48,
            "count": 0
           },
           {
            "bin_start": -28.48,
            "bin_end": -24.47,
            "count": 0
           },
           {
            "bin_start": -24.47,
            "bin_end": -20.46,
            "count": 0
           },
           {
            "bin_start": -20.46,
            "bin_end": -16.450000000000003,
            "count": 0
           },
           {
            "bin_start": -16.450000000000003,
            "bin_end": -12.440000000000001,
            "count": 0
           },
           {
            "bin_start": -12.440000000000001,
            "bin_end": -8.43,
            "count": 0
           },
           {
            "bin_start": -8.43,
            "bin_end": -4.420000000000002,
            "count": 2
           },
           {
            "bin_start": -4.420000000000002,
            "bin_end": -0.4100000000000037,
            "count": 3
           },
           {
            "bin_start": -0.4100000000000037,
            "bin_end": 3.5999999999999996,
            "count": 4
           }
          ]
         }
        },
        {
         "name": "upper_limit",
         "dtype": "float64",
         "stats": {
          "unique_count": 10,
          "nan_count": 0,
          "min": "0.1245",
          "max": "313.0",
          "histogram": [
           {
            "bin_start": 0.1245,
            "bin_end": 31.41205,
            "count": 8
           },
           {
            "bin_start": 31.41205,
            "bin_end": 62.6996,
            "count": 0
           },
           {
            "bin_start": 62.6996,
            "bin_end": 93.98715,
            "count": 1
           },
           {
            "bin_start": 93.98715,
            "bin_end": 125.2747,
            "count": 0
           },
           {
            "bin_start": 125.2747,
            "bin_end": 156.56225,
            "count": 0
           },
           {
            "bin_start": 156.56225,
            "bin_end": 187.84980000000002,
            "count": 0
           },
           {
            "bin_start": 187.84980000000002,
            "bin_end": 219.13735,
            "count": 0
           },
           {
            "bin_start": 219.13735,
            "bin_end": 250.4249,
            "count": 0
           },
           {
            "bin_start": 250.4249,
            "bin_end": 281.71245,
            "count": 0
           },
           {
            "bin_start": 281.71245,
            "bin_end": 313,
            "count": 1
           }
          ]
         }
        },
        {
         "name": "_deepnote_index_column",
         "dtype": "object"
        }
       ],
       "rows": [
        {
         "lower_limit": -8.3,
         "upper_limit": 12.850000000000001,
         "_deepnote_index_column": "fixed acidity"
        },
        {
         "lower_limit": -0.17500000000000002,
         "upper_limit": 0.7700000000000001,
         "_deepnote_index_column": "volatile acidity"
        },
        {
         "lower_limit": -0.235,
         "upper_limit": 0.725,
         "_deepnote_index_column": "citric acid"
        },
        {
         "lower_limit": 3.5999999999999996,
         "upper_limit": 18.45,
         "_deepnote_index_column": "residual sugar"
        },
        {
         "lower_limit": -0.029999999999999992,
         "upper_limit": 0.1245,
         "_deepnote_index_column": "chlorides"
        },
        {
         "lower_limit": -1.5,
         "upper_limit": 85.5,
         "_deepnote_index_column": "free sulfur dioxide"
        },
        {
         "lower_limit": -36.5,
         "upper_limit": 313,
         "_deepnote_index_column": "total sulfur dioxide"
        },
        {
         "lower_limit": -1.48386,
         "upper_limit": 1.500135,
         "_deepnote_index_column": "density"
        },
        {
         "lower_limit": -4.455,
         "upper_limit": 5.1899999999999995,
         "_deepnote_index_column": "pH"
        },
        {
         "lower_limit": -0.47500000000000003,
         "upper_limit": 1.0699999999999998,
         "_deepnote_index_column": "sulphates"
        }
       ]
      },
      "text/plain": "                      lower_limit  upper_limit\nfixed acidity            -8.30000    12.850000\nvolatile acidity         -0.17500     0.770000\ncitric acid              -0.23500     0.725000\nresidual sugar            3.60000    18.450000\nchlorides                -0.03000     0.124500\nfree sulfur dioxide      -1.50000    85.500000\ntotal sulfur dioxide    -36.50000   313.000000\ndensity                  -1.48386     1.500135\npH                       -4.45500     5.190000\nsulphates                -0.47500     1.070000",
      "text/html": "<div>\n<style scoped>\n    .dataframe tbody tr th:only-of-type {\n        vertical-align: middle;\n    }\n\n    .dataframe tbody tr th {\n        vertical-align: top;\n    }\n\n    .dataframe thead th {\n        text-align: right;\n    }\n</style>\n<table border=\"1\" class=\"dataframe\">\n  <thead>\n    <tr style=\"text-align: right;\">\n      <th></th>\n      <th>lower_limit</th>\n      <th>upper_limit</th>\n    </tr>\n  </thead>\n  <tbody>\n    <tr>\n      <th>fixed acidity</th>\n      <td>-8.30000</td>\n      <td>12.850000</td>\n    </tr>\n    <tr>\n      <th>volatile acidity</th>\n      <td>-0.17500</td>\n      <td>0.770000</td>\n    </tr>\n    <tr>\n      <th>citric acid</th>\n      <td>-0.23500</td>\n      <td>0.725000</td>\n    </tr>\n    <tr>\n      <th>residual sugar</th>\n      <td>3.60000</td>\n      <td>18.450000</td>\n    </tr>\n    <tr>\n      <th>chlorides</th>\n      <td>-0.03000</td>\n      <td>0.124500</td>\n    </tr>\n    <tr>\n      <th>free sulfur dioxide</th>\n      <td>-1.50000</td>\n      <td>85.500000</td>\n    </tr>\n    <tr>\n      <th>total sulfur dioxide</th>\n      <td>-36.50000</td>\n      <td>313.000000</td>\n    </tr>\n    <tr>\n      <th>density</th>\n      <td>-1.48386</td>\n      <td>1.500135</td>\n    </tr>\n    <tr>\n      <th>pH</th>\n      <td>-4.45500</td>\n      <td>5.190000</td>\n    </tr>\n    <tr>\n      <th>sulphates</th>\n      <td>-0.47500</td>\n      <td>1.070000</td>\n    </tr>\n  </tbody>\n</table>\n</div>"
     },
     "metadata": {}
    }
   ]
  },
  {
   "cell_type": "markdown",
   "source": "2. Responde la siguiente pregunta:\n\na) ¿Ves necesario eliminar estos outliers?\n\n\nb) ¿Por qué?",
   "metadata": {
    "cell_id": "5854f82d45aa4b7ebb231e5395b3f03a",
    "tags": [],
    "deepnote_cell_type": "markdown",
    "deepnote_cell_height": 128.1875
   }
  },
  {
   "cell_type": "markdown",
   "source": "No, el número de outliers es tan grande que al eliminarlos creo que se perdería una valiosa información. En un principio, la paración de outliers en las iferentes variables se debe al mismo proceso de fabricación del vino más que a un error de medición",
   "metadata": {
    "cell_id": "23035d8f05c74f2cae8e9ccba341e4e9",
    "tags": [],
    "deepnote_cell_type": "markdown",
    "deepnote_cell_height": 97.1875
   }
  },
  {
   "cell_type": "code",
   "metadata": {
    "cell_id": "25a182e8574c405396060cbe5c29b4b2",
    "tags": [],
    "deepnote_to_be_reexecuted": false,
    "source_hash": "b623e53d",
    "execution_start": 1653816822100,
    "execution_millis": 739190705,
    "deepnote_cell_type": "code",
    "deepnote_cell_height": 81
   },
   "source": "",
   "execution_count": 25,
   "outputs": []
  },
  {
   "cell_type": "markdown",
   "source": "### *Clases sugeridas*:\n\nEstadística descriptiva\n- [Medidas de dispersión](https://platzi.com/clases/2353-estadistica-descriptiva/38399-medidas-de-dispersion/?utm_source=contenido&utm_medium=organic&utm_campaign=ejercicio-eda)\n\n- [Desviación estándar](https://platzi.com/clases/2353-estadistica-descriptiva/38400-desviacion-estandar/?utm_source=contenido&utm_medium=organic&utm_campaign=ejercicio-eda)\n\n- [Medidas de dispersión en Python](https://platzi.com/clases/2353-estadistica-descriptiva/38401-medidas-de-dispersion-en-python/?utm_source=contenido&utm_medium=organic&utm_campaign=ejercicio-eda)\n\nGráficas boxplots\n- [Crear otro tipo de gráficas (Boxplot en Matplotlib)](https://platzi.com/clases/2913-matplotlib-seaborn/47945-crear-otro-tipo-de-graficas/?utm_source=contenido&utm_medium=organic&utm_campaign=ejercicio-eda)\n- [Categóricos (Boxplot en Seaborn)](https://platzi.com/clases/2913-matplotlib-seaborn/47950-categoricos/?utm_source=contenido&utm_medium=organic&utm_campaign=ejercicio-eda)",
   "metadata": {
    "cell_id": "9b931087a3ac41f6871615458d083e4e",
    "tags": [],
    "deepnote_cell_type": "markdown",
    "deepnote_cell_height": 299.796875
   }
  },
  {
   "cell_type": "markdown",
   "source": "## Análisis de correlación entre variables\n\nYa que conociste el comportamiento esencial de las características y la variable `quality` es momento de conocer cómo se relacionan entre sí para descubrir si alguna(s) pueden afectar a esta calidad.\n\n1. Crea una matriz de correlación de las variables numéricas del dataset.",
   "metadata": {
    "cell_id": "4f4b9d717a734351a4b400b1042a3de0",
    "tags": [],
    "deepnote_cell_type": "markdown",
    "deepnote_cell_height": 203.59375
   }
  },
  {
   "cell_type": "markdown",
   "source": "2. Crea una gráfica tipo heatmap para observar mejor las correlaciones entre variables. ",
   "metadata": {
    "cell_id": "401d860aa0f042a693136be305db2be9",
    "tags": [],
    "deepnote_cell_type": "markdown",
    "deepnote_cell_height": 69.390625
   }
  },
  {
   "cell_type": "code",
   "metadata": {
    "cell_id": "420eaba4b31c42258e8f87ae64936444",
    "tags": [],
    "deepnote_to_be_reexecuted": false,
    "source_hash": "ca43f5bb",
    "execution_start": 1653816822113,
    "execution_millis": 2237,
    "deepnote_cell_type": "code",
    "deepnote_cell_height": 755,
    "deepnote_output_heights": [
     568
    ]
   },
   "source": "\nfig,ax1=plt.subplots(figsize=(10,8))\nax1.set_title(\"RED WINE\")\nax1=sns.heatmap(red.corr(),annot=True)\nplt.show()\n",
   "execution_count": 26,
   "outputs": [
    {
     "data": {
      "text/plain": "<Figure size 720x576 with 2 Axes>",
      "image/png": "[encoded data removed]"
     },
     "metadata": {
      "needs_background": "light",
      "image/png": {
       "width": 642,
       "height": 566
      }
     },
     "output_type": "display_data"
    }
   ]
  },
  {
   "cell_type": "code",
   "metadata": {
    "cell_id": "02a705aa855e4e469d5b3c8261c0d9c3",
    "tags": [],
    "deepnote_to_be_reexecuted": false,
    "source_hash": "63a5c4ea",
    "execution_start": 1653816823786,
    "execution_millis": 1637,
    "deepnote_cell_type": "code",
    "deepnote_cell_height": 719,
    "deepnote_output_heights": [
     568
    ]
   },
   "source": "fig,ax2=plt.subplots(figsize=(10,8))\nax2.set_title(\"WHITE WINE\")\nax2=sns.heatmap(white.corr(),annot=True)\nplt.show()",
   "execution_count": 27,
   "outputs": [
    {
     "data": {
      "text/plain": "<Figure size 720x576 with 2 Axes>",
      "image/png": "[encoded data removed]"
     },
     "metadata": {
      "needs_background": "light",
      "image/png": {
       "width": 642,
       "height": 566
      }
     },
     "output_type": "display_data"
    }
   ]
  },
  {
   "cell_type": "markdown",
   "source": "3. Muestra una tabla con los valores de correlación de cada variable con la variable `quality`.",
   "metadata": {
    "cell_id": "ba7553a7a6df431b9ddc9fe99134acac",
    "tags": [],
    "deepnote_cell_type": "markdown",
    "deepnote_cell_height": 69.390625
   }
  },
  {
   "cell_type": "code",
   "metadata": {
    "cell_id": "593ca5e8504a4af3ad11a817dd3855d8",
    "tags": [],
    "deepnote_to_be_reexecuted": false,
    "source_hash": "be03d575",
    "execution_start": 1653816825451,
    "execution_millis": 735757035,
    "deepnote_cell_type": "code",
    "deepnote_cell_height": 189
   },
   "source": "red_corr=red.corr()['quality'].sort_values(ascending=False)[1:].rename('red_wine')\nred_corr=round(red_corr,2)\n\nwhite_corr=white.corr()['quality'].sort_values(ascending=False)[1:].rename('white_wine')\nwhite_corr=round(white_corr,2)\n\n",
   "execution_count": 28,
   "outputs": []
  },
  {
   "cell_type": "markdown",
   "source": "4. Responde las siguientes preguntas:\n\na) ¿Existen variables que tengan correlación positiva con la variable `quality`? ¿Cuáles son?\n\nb) ¿Existen variables que tengan correlación negativa con la variable `quality`? ¿Cuáles son?",
   "metadata": {
    "cell_id": "6e781ef4fa384c799e3215c66e9959df",
    "tags": [],
    "deepnote_cell_type": "markdown",
    "deepnote_cell_height": 128.1875
   }
  },
  {
   "cell_type": "markdown",
   "source": "Las variables que más correlación tienen con la calidad son:\n\na) Positivamente:\n- *escribe aquí tus respuetas*\n\nb) Negativamente:\n- *escribe aquí tus respuetas*",
   "metadata": {
    "cell_id": "752b87ce20b84a988547a0c67423d0ad",
    "tags": [],
    "deepnote_cell_type": "markdown",
    "deepnote_cell_height": 212
   }
  },
  {
   "cell_type": "markdown",
   "source": "5. Crea las gráficas que consideres para ver la correlación que exista entre las variables que encontraste que tienen mayor correlación con la variable `quality`.",
   "metadata": {
    "cell_id": "b2fcf82558be4c67a5640b3e559db1d5",
    "tags": [],
    "deepnote_cell_type": "markdown",
    "deepnote_cell_height": 91.796875
   }
  },
  {
   "cell_type": "code",
   "metadata": {
    "cell_id": "8c6e4fdb7b1742bebbd02e444fbe77a0",
    "tags": [],
    "deepnote_to_be_reexecuted": false,
    "source_hash": "4e88498",
    "execution_start": 1653816825465,
    "execution_millis": 452,
    "deepnote_cell_type": "code",
    "deepnote_cell_height": 705.125,
    "deepnote_output_heights": [
     null,
     371.34375
    ]
   },
   "source": "fig,ax=plt.subplots(1,2,figsize=(15,5),sharey=True)\nax[0].bar(x=red_corr.index,height=red_corr)\nax[1].bar(x=white_corr.index,height=white_corr)\nax[0].set_title('RED WINE')\nax[1].set_title('WHITE WINE')\nax[0].set_xticklabels(red_corr.index,rotation=45,ha='right')\nax[1].set_xticklabels(red_corr.index,rotation=45,ha='right')\nplt.show()",
   "execution_count": 29,
   "outputs": [
    {
     "name": "stderr",
     "text": "/shared-libs/python3.7/py-core/lib/python3.7/site-packages/ipykernel_launcher.py:6: UserWarning: FixedFormatter should only be used together with FixedLocator\n  \n/shared-libs/python3.7/py-core/lib/python3.7/site-packages/ipykernel_launcher.py:7: UserWarning: FixedFormatter should only be used together with FixedLocator\n  import sys\n",
     "output_type": "stream"
    },
    {
     "data": {
      "text/plain": "<Figure size 1080x360 with 2 Axes>",
      "image/png": "[encoded data removed]"
     },
     "metadata": {
      "needs_background": "light",
      "image/png": {
       "width": 882,
       "height": 382
      }
     },
     "output_type": "display_data"
    }
   ]
  },
  {
   "cell_type": "markdown",
   "source": "6. Responde las preguntas: \n\na) ¿Existen variables correlacionadas con la calidad que estén correlacionadas fuertemente entre sí?\n\nb) ¿Esta información para que nos serviría?",
   "metadata": {
    "cell_id": "b53faef38b4c4808bf61302e06ccdde3",
    "tags": [],
    "deepnote_cell_type": "markdown",
    "deepnote_cell_height": 150.59375
   }
  },
  {
   "cell_type": "markdown",
   "source": "*Escribe aquí tu respuesta.*",
   "metadata": {
    "cell_id": "954080e688184399b43fc3bfcffe0d0d",
    "tags": [],
    "deepnote_cell_type": "markdown",
    "deepnote_cell_height": 52.390625
   }
  },
  {
   "cell_type": "markdown",
   "source": "7. Crea gráficas de barras y de violín para ver a detalle cómo las variables que tienen correlación más fuerte con la variable `quality`, afectan a dicha variable.\n\n- En el eje x deberán aparecer las categorías de calidad: Poor, Medium High.\n\n- En el eje y deberá aparecer la variable correspondiente.\n\n- Toma en cuenta los valores máximo y mínimo de cada variable para marcar los límites en el eje y.\n\nAl finalizar obtendrás gráficas como estas:\n\n<img src=/work/density.png>\n<img src=/work/density_violin.png>\n",
   "metadata": {
    "cell_id": "3c0f1c3a025446628d1ae960ec8c8737",
    "tags": [],
    "deepnote_cell_type": "markdown",
    "deepnote_cell_height": 713.796875
   }
  },
  {
   "cell_type": "code",
   "metadata": {
    "cell_id": "bccbdb7e0e5740678599f74c6997395f",
    "tags": [],
    "deepnote_to_be_reexecuted": false,
    "source_hash": "b623e53d",
    "execution_start": 1653816825921,
    "execution_millis": 5,
    "deepnote_cell_type": "code",
    "deepnote_cell_height": 81
   },
   "source": "",
   "execution_count": 29,
   "outputs": []
  },
  {
   "cell_type": "code",
   "metadata": {
    "cell_id": "2702082b96ee4310bffc0135a79c7b72",
    "tags": [],
    "deepnote_to_be_reexecuted": false,
    "source_hash": "b623e53d",
    "execution_start": 1653816825931,
    "deepnote_cell_type": "code",
    "deepnote_cell_height": 81
   },
   "source": "",
   "execution_count": 29,
   "outputs": []
  },
  {
   "cell_type": "code",
   "metadata": {
    "cell_id": "1ef73a243dd34ef6bb4974a085c5fa79",
    "tags": [],
    "deepnote_to_be_reexecuted": false,
    "source_hash": "b623e53d",
    "execution_start": 1653816825937,
    "deepnote_cell_type": "code",
    "deepnote_cell_height": 81
   },
   "source": "",
   "execution_count": 29,
   "outputs": []
  },
  {
   "cell_type": "markdown",
   "source": "8. Responde las siguientes preguntas como conclusiones de este EDA:\n\na) ¿Cuáles son las variables que podrían afectarían a la calidad del vino?\n\nb) ¿Es necesario aumentar o disminuir la cantidad de dichas variables para aumentar la calidad?\n\nc) ¿Cuál es la variable que más podría afectar a la calidad del vino?",
   "metadata": {
    "cell_id": "2ba9d851eeb94f6aadd80ec8c6dc0b9d",
    "tags": [],
    "deepnote_cell_type": "markdown",
    "deepnote_cell_height": 164.59375
   }
  },
  {
   "cell_type": "markdown",
   "source": "*Escribe aquí tus respuestas.*",
   "metadata": {
    "cell_id": "5ffffa09de4b4b3cbb963a3fc369cca3",
    "tags": [],
    "deepnote_cell_type": "markdown",
    "deepnote_cell_height": 52.390625
   }
  },
  {
   "cell_type": "markdown",
   "source": "### *Clases sugeridas*:\n\nEstadística descriptiva y EDA\n- [Correlaciones](https://platzi.com/clases/2353-estadistica-descriptiva/38409-correlaciones/?utm_source=contenido&utm_medium=organic&utm_campaign=ejercicio-eda)\n\n- [Matriz de covarianza](https://platzi.com/clases/2353-estadistica-descriptiva/38410-matriz-de-covarianza/?utm_source=contenido&utm_medium=organic&utm_campaign=ejercicio-eda)\n\n- [Correlación](https://platzi.com/clases/2178-analisis-exploratorio-datos/34151-correlacion/?utm_source=contenido&utm_medium=organic&utm_campaign=ejercicio-eda)\n\nGráficas\n- [Relation (Seaborn)](https://platzi.com/clases/2913-matplotlib-seaborn/47951-relation/?utm_source=contenido&utm_medium=organic&utm_campaign=ejercicio-eda)\n\n- [Heatmap (Seaborn)](https://platzi.com/clases/2913-matplotlib-seaborn/47953-heatmap/?utm_source=contenido&utm_medium=organic&utm_campaign=ejercicio-eda)\n\n- [Jointplot y Pairplot (Seaborn)](https://platzi.com/clases/2913-matplotlib-seaborn/47952-jointplot-y-pairplot/?utm_source=contenido&utm_medium=organic&utm_campaign=ejercicio-eda)\n\n- [Bar Plot (Matplotlib)](https://platzi.com/clases/2913-matplotlib-seaborn/47944-bar-plot/?utm_source=contenido&utm_medium=organic&utm_campaign=ejercicio-eda)\n\n- [Categóricos (Violin plot en Seaborn)](https://platzi.com/clases/2913-matplotlib-seaborn/47950-categoricos/?utm_source=contenido&utm_medium=organic&utm_campaign=ejercicio-eda)",
   "metadata": {
    "cell_id": "5b77e5a9fe5d464b9a62d33ba2ea9721",
    "tags": [],
    "deepnote_cell_type": "markdown",
    "deepnote_cell_height": 376
   }
  },
  {
   "cell_type": "markdown",
   "source": "## Siguientes pasos 🚀",
   "metadata": {
    "cell_id": "42cc8a600e7346029ba3c35880ee269a",
    "tags": [],
    "deepnote_cell_type": "markdown",
    "deepnote_cell_height": 70
   }
  },
  {
   "cell_type": "markdown",
   "source": "---\n\n¡Muchas felicidades! Has creado tu primer proyecto de análisis exploratorio de datos.\n\nEs importante que recuerdes que dentro del análisis exploratorio de datos hay múltiples caminos y herramientas de acuerdo a lo que quieras lograr. Podríamos ir más allá en la manipulación y análisis de datos. Incluso podríamos utilizar machine learning para validar nuestra hipótesis.\n\nEn este momento ya tienes **el primer proyecto para tu portafolio profesional**. Para seguir avanzando en tu carrera te recomendamos el [Curso para Crear tus Proyectos de Ciencia de Datos](https://platzi.com/cursos/proyectos-data-science/?utm_source=contenido&utm_medium=organic&utm_campaign=ejercicio-eda) y el [Curso para Conseguir Trabajo en Tecnología](https://platzi.com/cursos/conseguir-trabajo-tech/?utm_source=contenido&utm_medium=organic&utm_campaign=ejercicio-eda) y tendrás todo para unirte a una startup como Data Analyst o Data Scientist. #StartupReady 🚀",
   "metadata": {
    "cell_id": "9d87087a96e7471d825633f6c267fd55",
    "tags": [],
    "deepnote_cell_type": "markdown",
    "deepnote_cell_height": 260.59375
   }
  },
  {
   "cell_type": "markdown",
   "source": "<a style='text-decoration:none;line-height:16px;display:flex;color:#5B5B62;padding:10px;justify-content:end;' href='https://deepnote.com?utm_source=created-in-deepnote-cell&projectId=fefa37de-59d3-452e-9c0c-f37e07afef59' target=\"_blank\">\n<img alt='Created in deepnote.com' style='display:inline;max-height:16px;margin:0px;margin-right:7.5px;' src='data:image/svg+xml;base64,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' > </img>\nCreated in <span style='font-weight:600;margin-left:4px;'>Deepnote</span></a>",
   "metadata": {
    "tags": [],
    "created_in_deepnote_cell": true,
    "deepnote_cell_type": "markdown"
   }
  }
 ],
 "nbformat": 4,
 "nbformat_minor": 2,
 "metadata": {
  "orig_nbformat": 2,
  "deepnote": {},
  "deepnote_notebook_id": "fef5b63c-2807-4eb5-acf8-851291e42e2c",
  "deepnote_execution_queue": []
 }
}